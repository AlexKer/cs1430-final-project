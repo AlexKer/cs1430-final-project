{
  "cells": [
    {
      "cell_type": "markdown",
      "metadata": {
        "id": "AZuP94m0CiU1"
      },
      "source": [
        "# Vision Transformers (ViT) On FER-2013\n"
      ]
    },
    {
      "cell_type": "code",
      "execution_count": 1,
      "metadata": {
        "colab": {
          "base_uri": "https://localhost:8080/"
        },
        "id": "0jj2c2hbCiU3",
        "outputId": "93dedf7a-4649-4b18-eb4f-fe4282871e61"
      },
      "outputs": [
        {
          "name": "stdout",
          "output_type": "stream",
          "text": [
            "Requirement already satisfied: datasets in /Users/alexker/anaconda3/envs/cs1430/lib/python3.9/site-packages (2.19.0)\n",
            "Requirement already satisfied: torch in /Users/alexker/anaconda3/envs/cs1430/lib/python3.9/site-packages (2.3.0)\n",
            "Requirement already satisfied: filelock in /Users/alexker/anaconda3/envs/cs1430/lib/python3.9/site-packages (from datasets) (3.14.0)\n",
            "Requirement already satisfied: numpy>=1.17 in /Users/alexker/anaconda3/envs/cs1430/lib/python3.9/site-packages (from datasets) (1.23.2)\n",
            "Requirement already satisfied: pyarrow>=12.0.0 in /Users/alexker/anaconda3/envs/cs1430/lib/python3.9/site-packages (from datasets) (16.0.0)\n",
            "Requirement already satisfied: pyarrow-hotfix in /Users/alexker/anaconda3/envs/cs1430/lib/python3.9/site-packages (from datasets) (0.6)\n",
            "Requirement already satisfied: dill<0.3.9,>=0.3.0 in /Users/alexker/anaconda3/envs/cs1430/lib/python3.9/site-packages (from datasets) (0.3.8)\n",
            "Requirement already satisfied: pandas in /Users/alexker/anaconda3/envs/cs1430/lib/python3.9/site-packages (from datasets) (2.2.2)\n",
            "Requirement already satisfied: requests>=2.19.0 in /Users/alexker/anaconda3/envs/cs1430/lib/python3.9/site-packages (from datasets) (2.31.0)\n",
            "Requirement already satisfied: tqdm>=4.62.1 in /Users/alexker/anaconda3/envs/cs1430/lib/python3.9/site-packages (from datasets) (4.64.0)\n",
            "Requirement already satisfied: xxhash in /Users/alexker/anaconda3/envs/cs1430/lib/python3.9/site-packages (from datasets) (3.4.1)\n",
            "Requirement already satisfied: multiprocess in /Users/alexker/anaconda3/envs/cs1430/lib/python3.9/site-packages (from datasets) (0.70.16)\n",
            "Requirement already satisfied: fsspec<=2024.3.1,>=2023.1.0 in /Users/alexker/anaconda3/envs/cs1430/lib/python3.9/site-packages (from fsspec[http]<=2024.3.1,>=2023.1.0->datasets) (2023.12.2)\n",
            "Requirement already satisfied: aiohttp in /Users/alexker/anaconda3/envs/cs1430/lib/python3.9/site-packages (from datasets) (3.9.1)\n",
            "Requirement already satisfied: huggingface-hub>=0.21.2 in /Users/alexker/anaconda3/envs/cs1430/lib/python3.9/site-packages (from datasets) (0.23.0)\n",
            "Requirement already satisfied: packaging in /Users/alexker/anaconda3/envs/cs1430/lib/python3.9/site-packages (from datasets) (23.2)\n",
            "Requirement already satisfied: pyyaml>=5.1 in /Users/alexker/anaconda3/envs/cs1430/lib/python3.9/site-packages (from datasets) (6.0.1)\n",
            "Requirement already satisfied: typing-extensions>=4.8.0 in /Users/alexker/anaconda3/envs/cs1430/lib/python3.9/site-packages (from torch) (4.9.0)\n",
            "Requirement already satisfied: sympy in /Users/alexker/anaconda3/envs/cs1430/lib/python3.9/site-packages (from torch) (1.12)\n",
            "Requirement already satisfied: networkx in /Users/alexker/anaconda3/envs/cs1430/lib/python3.9/site-packages (from torch) (3.2.1)\n",
            "Requirement already satisfied: jinja2 in /Users/alexker/anaconda3/envs/cs1430/lib/python3.9/site-packages (from torch) (3.1.3)\n",
            "Requirement already satisfied: attrs>=17.3.0 in /Users/alexker/anaconda3/envs/cs1430/lib/python3.9/site-packages (from aiohttp->datasets) (23.2.0)\n",
            "Requirement already satisfied: multidict<7.0,>=4.5 in /Users/alexker/anaconda3/envs/cs1430/lib/python3.9/site-packages (from aiohttp->datasets) (6.0.4)\n",
            "Requirement already satisfied: yarl<2.0,>=1.0 in /Users/alexker/anaconda3/envs/cs1430/lib/python3.9/site-packages (from aiohttp->datasets) (1.9.4)\n",
            "Requirement already satisfied: frozenlist>=1.1.1 in /Users/alexker/anaconda3/envs/cs1430/lib/python3.9/site-packages (from aiohttp->datasets) (1.4.1)\n",
            "Requirement already satisfied: aiosignal>=1.1.2 in /Users/alexker/anaconda3/envs/cs1430/lib/python3.9/site-packages (from aiohttp->datasets) (1.3.1)\n",
            "Requirement already satisfied: async-timeout<5.0,>=4.0 in /Users/alexker/anaconda3/envs/cs1430/lib/python3.9/site-packages (from aiohttp->datasets) (4.0.3)\n",
            "Requirement already satisfied: charset-normalizer<4,>=2 in /Users/alexker/anaconda3/envs/cs1430/lib/python3.9/site-packages (from requests>=2.19.0->datasets) (3.3.2)\n",
            "Requirement already satisfied: idna<4,>=2.5 in /Users/alexker/anaconda3/envs/cs1430/lib/python3.9/site-packages (from requests>=2.19.0->datasets) (3.6)\n",
            "Requirement already satisfied: urllib3<3,>=1.21.1 in /Users/alexker/anaconda3/envs/cs1430/lib/python3.9/site-packages (from requests>=2.19.0->datasets) (2.1.0)\n",
            "Requirement already satisfied: certifi>=2017.4.17 in /Users/alexker/anaconda3/envs/cs1430/lib/python3.9/site-packages (from requests>=2.19.0->datasets) (2023.11.17)\n",
            "Requirement already satisfied: MarkupSafe>=2.0 in /Users/alexker/anaconda3/envs/cs1430/lib/python3.9/site-packages (from jinja2->torch) (2.1.4)\n",
            "Requirement already satisfied: python-dateutil>=2.8.2 in /Users/alexker/anaconda3/envs/cs1430/lib/python3.9/site-packages (from pandas->datasets) (2.8.2)\n",
            "Requirement already satisfied: pytz>=2020.1 in /Users/alexker/anaconda3/envs/cs1430/lib/python3.9/site-packages (from pandas->datasets) (2024.1)\n",
            "Requirement already satisfied: tzdata>=2022.7 in /Users/alexker/anaconda3/envs/cs1430/lib/python3.9/site-packages (from pandas->datasets) (2024.1)\n",
            "Requirement already satisfied: mpmath>=0.19 in /Users/alexker/anaconda3/envs/cs1430/lib/python3.9/site-packages (from sympy->torch) (1.3.0)\n",
            "Requirement already satisfied: six>=1.5 in /Users/alexker/anaconda3/envs/cs1430/lib/python3.9/site-packages (from python-dateutil>=2.8.2->pandas->datasets) (1.16.0)\n"
          ]
        },
        {
          "name": "stderr",
          "output_type": "stream",
          "text": [
            "/Users/alexker/anaconda3/envs/cs1430/lib/python3.9/site-packages/tqdm/auto.py:22: TqdmWarning: IProgress not found. Please update jupyter and ipywidgets. See https://ipywidgets.readthedocs.io/en/stable/user_install.html\n",
            "  from .autonotebook import tqdm as notebook_tqdm\n"
          ]
        }
      ],
      "source": [
        "!pip install datasets torch\n",
        "from datasets import load_dataset"
      ]
    },
    {
      "cell_type": "code",
      "execution_count": 25,
      "metadata": {
        "id": "uV5339q4CiU4"
      },
      "outputs": [
        {
          "data": {
            "text/plain": [
              "DatasetDict({\n",
              "    train: Dataset({\n",
              "        features: ['image', 'label'],\n",
              "        num_rows: 2581\n",
              "    })\n",
              "})"
            ]
          },
          "execution_count": 25,
          "metadata": {},
          "output_type": "execute_result"
        }
      ],
      "source": [
        "# images generated from stable diffusion https://huggingface.co/datasets/FER-Universe/DiffusionFER\n",
        "# used to supplement training and increase robustness. 2581 training examples. no test images\n",
        "# not used currently\n",
        "diffusion_fer_dataset = load_dataset(\n",
        "    'FER-Universe/DiffusionFER',     \n",
        "    split='train'                           \n",
        ")\n",
        "diffusion_fer_dataset"
      ]
    },
    {
      "cell_type": "code",
      "execution_count": 2,
      "metadata": {
        "colab": {
          "base_uri": "https://localhost:8080/"
        },
        "id": "unrgtu4HCiU4",
        "outputId": "ffaa6b00-21fe-428c-f498-90bc90fe3b69"
      },
      "outputs": [
        {
          "data": {
            "text/plain": [
              "Dataset({\n",
              "    features: ['img_bytes', 'labels'],\n",
              "    num_rows: 28709\n",
              "})"
            ]
          },
          "execution_count": 2,
          "metadata": {},
          "output_type": "execute_result"
        }
      ],
      "source": [
        "# just use the original fer-2013 dataset for now\n",
        "# load directly from hf for the correct format\n",
        "dataset_train = load_dataset(\n",
        "    'Jeneral/fer-2013',\n",
        "    split='train', # training dataset\n",
        ")\n",
        "\n",
        "dataset_train"
      ]
    },
    {
      "cell_type": "code",
      "execution_count": 3,
      "metadata": {
        "colab": {
          "base_uri": "https://localhost:8080/"
        },
        "id": "nQGcDkulCiU4",
        "outputId": "6eaebd37-f7c9-4d36-c96e-f6f3c38c09f0"
      },
      "outputs": [
        {
          "name": "stderr",
          "output_type": "stream",
          "text": [
            "/Users/alexker/anaconda3/envs/cs1430/lib/python3.9/site-packages/datasets/load.py:2555: FutureWarning: 'ignore_verifications' was deprecated in favor of 'verification_mode' in version 2.9.1 and will be removed in 3.0.0.\n",
            "You can remove this warning by passing 'verification_mode=all_checks' instead.\n",
            "  warnings.warn(\n"
          ]
        },
        {
          "data": {
            "text/plain": [
              "Dataset({\n",
              "    features: ['img_bytes', 'labels'],\n",
              "    num_rows: 7178\n",
              "})"
            ]
          },
          "execution_count": 3,
          "metadata": {},
          "output_type": "execute_result"
        }
      ],
      "source": [
        "dataset_test = load_dataset(\n",
        "    'Jeneral/fer-2013',\n",
        "    split='test', # testing dataset\n",
        "    ignore_verifications=False  # set to True if seeing splits Error\n",
        ")\n",
        "\n",
        "dataset_test"
      ]
    },
    {
      "cell_type": "code",
      "execution_count": 4,
      "metadata": {
        "id": "YmnDEVI8CiU5"
      },
      "outputs": [],
      "source": [
        "from PIL import Image\n",
        "import io\n",
        "\n",
        "# Convert img_bytes to img in PIL format for both training and testing datasets\n",
        "def convert_to_pil(image_bytes):\n",
        "    image = Image.open(io.BytesIO(image_bytes))\n",
        "    # Convert back to RGB by duplicating the grayscale channel, required for vit\n",
        "    image_RGB = Image.merge(\"RGB\", (image, image, image))\n",
        "    return image_RGB\n",
        "\n",
        "dataset_train = dataset_train.map(lambda example: {'img': convert_to_pil(example['img_bytes'])}, remove_columns=['img_bytes'])\n",
        "dataset_test = dataset_test.map(lambda example: {'img': convert_to_pil(example['img_bytes'])}, remove_columns=['img_bytes'])\n",
        "\n",
        "# rename labels to label\n",
        "dataset_train = dataset_train.rename_column(\"labels\", \"label\")\n",
        "dataset_test = dataset_test.rename_column(\"labels\", \"label\")"
      ]
    },
    {
      "cell_type": "code",
      "execution_count": 5,
      "metadata": {
        "colab": {
          "base_uri": "https://localhost:8080/"
        },
        "id": "bJUbAoOjCiU5",
        "outputId": "5e8064e4-d4dd-41e3-d36a-6146ef935c83"
      },
      "outputs": [
        {
          "data": {
            "text/plain": [
              "(7,\n",
              " ClassLabel(names=['angry', 'disgust', 'fear', 'happy', 'neutral', 'sad', 'surprise'], id=None))"
            ]
          },
          "execution_count": 5,
          "metadata": {},
          "output_type": "execute_result"
        }
      ],
      "source": [
        "# check how many labels/number of classes\n",
        "num_classes = len(set(dataset_train['label']))\n",
        "labels = dataset_train.features['label']\n",
        "num_classes, labels\n"
      ]
    },
    {
      "cell_type": "code",
      "execution_count": 6,
      "metadata": {
        "colab": {
          "base_uri": "https://localhost:8080/"
        },
        "id": "KlDjMzrxCiU5",
        "outputId": "186579ba-d6bd-4f34-9718-e710ade68271"
      },
      "outputs": [
        {
          "data": {
            "text/plain": [
              "{'label': 0,\n",
              " 'img': <PIL.PngImagePlugin.PngImageFile image mode=RGB size=48x48>}"
            ]
          },
          "execution_count": 6,
          "metadata": {},
          "output_type": "execute_result"
        }
      ],
      "source": [
        "dataset_train[0]"
      ]
    },
    {
      "cell_type": "code",
      "execution_count": 7,
      "metadata": {
        "colab": {
          "base_uri": "https://localhost:8080/",
          "height": 65
        },
        "id": "yHmbnmEmCiU5",
        "outputId": "508a2ce4-8a15-44b1-92ed-9208bd16abc8"
      },
      "outputs": [
        {
          "data": {
            "image/png": "[encoded data removed]",
            "text/plain": [
              "<PIL.PngImagePlugin.PngImageFile image mode=RGB size=48x48>"
            ]
          },
          "execution_count": 7,
          "metadata": {},
          "output_type": "execute_result"
        }
      ],
      "source": [
        "dataset_train[0]['img']\n"
      ]
    },
    {
      "cell_type": "code",
      "execution_count": 8,
      "metadata": {
        "colab": {
          "base_uri": "https://localhost:8080/"
        },
        "id": "kMBIVy7tCiU5",
        "outputId": "13929a1c-95c8-4759-a300-b746a4219401"
      },
      "outputs": [
        {
          "data": {
            "text/plain": [
              "(0, 'angry')"
            ]
          },
          "execution_count": 8,
          "metadata": {},
          "output_type": "execute_result"
        }
      ],
      "source": [
        "dataset_train[0]['label'], labels.names[dataset_train[0]['label']]"
      ]
    },
    {
      "cell_type": "markdown",
      "metadata": {
        "id": "Vbz7tdUHCiU6"
      },
      "source": [
        "### Loading ViT Feature Extractor"
      ]
    },
    {
      "cell_type": "markdown",
      "metadata": {
        "id": "TebENUYfCiU6"
      },
      "source": [
        "We use `google/vit-base-patch16-224-in21k` model from the Hugging Face Hub."
      ]
    },
    {
      "cell_type": "markdown",
      "metadata": {
        "id": "AsM2UCwoCiU6"
      },
      "source": [
        "The model is named as so as it refers to base-sized architecture with patch resolution of 16x16 and fine-tuning resolution of 224x224.  "
      ]
    },
    {
      "cell_type": "code",
      "execution_count": 29,
      "metadata": {
        "colab": {
          "base_uri": "https://localhost:8080/",
          "height": 49,
          "referenced_widgets": [
            "f73c6bfe83bd42a88ecbe35e12fa6ffc",
            "e627650404944cb58ec3b91abeafec2d",
            "20e59f9213d24f01baca7584ed43c11a",
            "170d4e56839b4889b358cc83d43c1eab",
            "3fa34e2fd5634597a58abf6f5d48d6ad",
            "4caa9f327a0848ce9609fb6bf7591896",
            "e4571aec7cbf4aa2bf634cc62cc19460",
            "7ccff54d88074fb6a0bef5f26e58d5be",
            "22ad880b4bff4a68826574962a9961a2",
            "2de6ea2d3a5e49899b16899b136bd2c2",
            "2676fcd8b45349fca96ae8a02a68f028"
          ]
        },
        "id": "CsOFFToFCiU6",
        "outputId": "6fc6b527-0404-4ff6-eaf0-c7f9d1fec333"
      },
      "outputs": [
        {
          "ename": "",
          "evalue": "",
          "output_type": "error",
          "traceback": [
            "\u001b[1;31mThe Kernel crashed while executing code in the current cell or a previous cell. \n",
            "\u001b[1;31mPlease review the code in the cell(s) to identify a possible cause of the failure. \n",
            "\u001b[1;31mClick <a href='https://aka.ms/vscodeJupyterKernelCrash'>here</a> for more info. \n",
            "\u001b[1;31mView Jupyter <a href='command:jupyter.viewOutput'>log</a> for further details."
          ]
        }
      ],
      "source": [
        "from transformers import ViTFeatureExtractor\n",
        "\n",
        "# import model\n",
        "model_id = 'google/vit-base-patch16-224-in21k'\n",
        "feature_extractor = ViTFeatureExtractor.from_pretrained(\n",
        "    model_id\n",
        ")"
      ]
    },
    {
      "cell_type": "markdown",
      "metadata": {
        "id": "G3b9FloZCiU6"
      },
      "source": [
        "You can see the feature extractor configuration by printing it"
      ]
    },
    {
      "cell_type": "code",
      "execution_count": 10,
      "metadata": {
        "colab": {
          "base_uri": "https://localhost:8080/"
        },
        "id": "sTjt9vFdCiU6",
        "outputId": "176722c7-4677-4a5e-ebff-0853b96b3922"
      },
      "outputs": [
        {
          "data": {
            "text/plain": [
              "ViTFeatureExtractor {\n",
              "  \"do_normalize\": true,\n",
              "  \"do_resize\": true,\n",
              "  \"feature_extractor_type\": \"ViTFeatureExtractor\",\n",
              "  \"image_mean\": [\n",
              "    0.5,\n",
              "    0.5,\n",
              "    0.5\n",
              "  ],\n",
              "  \"image_std\": [\n",
              "    0.5,\n",
              "    0.5,\n",
              "    0.5\n",
              "  ],\n",
              "  \"resample\": 2,\n",
              "  \"size\": 224\n",
              "}"
            ]
          },
          "execution_count": 10,
          "metadata": {},
          "output_type": "execute_result"
        }
      ],
      "source": [
        "feature_extractor"
      ]
    },
    {
      "cell_type": "code",
      "execution_count": 11,
      "metadata": {
        "colab": {
          "base_uri": "https://localhost:8080/"
        },
        "id": "YuTVx1vqCiU6",
        "outputId": "26ce8d6f-fbc7-4b1f-983c-990543f79720"
      },
      "outputs": [
        {
          "data": {
            "text/plain": [
              "{'pixel_values': tensor([[[[-0.6078, -0.6078, -0.6157,  ..., -0.3098, -0.3255, -0.3255],\n",
              "          [-0.6078, -0.6078, -0.6157,  ..., -0.3098, -0.3255, -0.3255],\n",
              "          [-0.6078, -0.6078, -0.6157,  ..., -0.3098, -0.3255, -0.3255],\n",
              "          ...,\n",
              "          [-0.1843, -0.1843, -0.1843,  ..., -0.3333, -0.3490, -0.3490],\n",
              "          [-0.1843, -0.1843, -0.1843,  ..., -0.3333, -0.3490, -0.3490],\n",
              "          [-0.1843, -0.1843, -0.1843,  ..., -0.3333, -0.3490, -0.3490]],\n",
              "\n",
              "         [[-0.6078, -0.6078, -0.6157,  ..., -0.3098, -0.3255, -0.3255],\n",
              "          [-0.6078, -0.6078, -0.6157,  ..., -0.3098, -0.3255, -0.3255],\n",
              "          [-0.6078, -0.6078, -0.6157,  ..., -0.3098, -0.3255, -0.3255],\n",
              "          ...,\n",
              "          [-0.1843, -0.1843, -0.1843,  ..., -0.3333, -0.3490, -0.3490],\n",
              "          [-0.1843, -0.1843, -0.1843,  ..., -0.3333, -0.3490, -0.3490],\n",
              "          [-0.1843, -0.1843, -0.1843,  ..., -0.3333, -0.3490, -0.3490]],\n",
              "\n",
              "         [[-0.6078, -0.6078, -0.6157,  ..., -0.3098, -0.3255, -0.3255],\n",
              "          [-0.6078, -0.6078, -0.6157,  ..., -0.3098, -0.3255, -0.3255],\n",
              "          [-0.6078, -0.6078, -0.6157,  ..., -0.3098, -0.3255, -0.3255],\n",
              "          ...,\n",
              "          [-0.1843, -0.1843, -0.1843,  ..., -0.3333, -0.3490, -0.3490],\n",
              "          [-0.1843, -0.1843, -0.1843,  ..., -0.3333, -0.3490, -0.3490],\n",
              "          [-0.1843, -0.1843, -0.1843,  ..., -0.3333, -0.3490, -0.3490]]]])}"
            ]
          },
          "execution_count": 11,
          "metadata": {},
          "output_type": "execute_result"
        }
      ],
      "source": [
        "example = feature_extractor(\n",
        "    dataset_train[0]['img'],\n",
        "    return_tensors='pt'\n",
        ")\n",
        "example"
      ]
    },
    {
      "cell_type": "code",
      "execution_count": 12,
      "metadata": {
        "colab": {
          "base_uri": "https://localhost:8080/"
        },
        "id": "Xg2tRLTqCiU6",
        "outputId": "9ca83f5e-1b99-4d8e-d553-47bd6a09fded"
      },
      "outputs": [
        {
          "data": {
            "text/plain": [
              "torch.Size([1, 3, 224, 224])"
            ]
          },
          "execution_count": 12,
          "metadata": {},
          "output_type": "execute_result"
        }
      ],
      "source": [
        "example['pixel_values'].shape"
      ]
    },
    {
      "cell_type": "code",
      "execution_count": 13,
      "metadata": {
        "colab": {
          "base_uri": "https://localhost:8080/"
        },
        "id": "86XFw5NCCiU6",
        "outputId": "bd147d51-4f02-4d43-da12-d16f182fe39e"
      },
      "outputs": [
        {
          "data": {
            "text/plain": [
              "device(type='cuda')"
            ]
          },
          "execution_count": 13,
          "metadata": {},
          "output_type": "execute_result"
        }
      ],
      "source": [
        "# load in relevant libraries, and alias where appropriate\n",
        "import torch\n",
        "\n",
        "# device will determine whether to run the training on GPU or CPU.\n",
        "device = torch.device('cuda' if torch.cuda.is_available() else 'cpu')\n",
        "device"
      ]
    },
    {
      "cell_type": "code",
      "execution_count": 14,
      "metadata": {
        "id": "-Nb_uD9tCiU6"
      },
      "outputs": [],
      "source": [
        "def preprocess(batch):\n",
        "    # take a list of PIL images and turn them to pixel values\n",
        "    inputs = feature_extractor(\n",
        "        batch['img'],\n",
        "        return_tensors='pt'\n",
        "    )\n",
        "    # include the labels\n",
        "    inputs['label'] = batch['label']\n",
        "    return inputs"
      ]
    },
    {
      "cell_type": "markdown",
      "metadata": {
        "id": "9f0DFSOnCiU7"
      },
      "source": [
        "We can apply this to both the training and testing dataset."
      ]
    },
    {
      "cell_type": "code",
      "execution_count": 15,
      "metadata": {
        "id": "GMT-vz0ICiU7"
      },
      "outputs": [],
      "source": [
        "# transform the training dataset\n",
        "prepared_train = dataset_train.with_transform(preprocess)\n",
        "# ... and the testing dataset\n",
        "prepared_test = dataset_test.with_transform(preprocess)"
      ]
    },
    {
      "cell_type": "markdown",
      "metadata": {
        "id": "l2EpTRapCiU7"
      },
      "source": [
        "Now, whenever you get an example from the dataset, the transform will be applied in real time (on both samples and slices)."
      ]
    },
    {
      "cell_type": "markdown",
      "metadata": {
        "id": "2rVnZyoYCiU7"
      },
      "source": [
        "### Model Fine-Tuning"
      ]
    },
    {
      "cell_type": "markdown",
      "metadata": {
        "id": "r65u3FDUCiU7"
      },
      "source": [
        "In this section, we are going to build the Trainer, which is a feature-complete training and eval loop for PyTorch, optimized for HuggingFace 🤗 Transformers.\n",
        "\n",
        "We need to define all of the arguments that it will include:\n",
        "* training and testing dataset\n",
        "* feature extractor\n",
        "* model\n",
        "* collate function\n",
        "* evaluation metric\n",
        "* ... other training arguments."
      ]
    },
    {
      "cell_type": "markdown",
      "metadata": {
        "id": "Sh4dY3ZLCiU7"
      },
      "source": [
        "The collate function is useful when dealing with lots of data. Batches are lists of dictionaries, so collate will help us create batch tensors."
      ]
    },
    {
      "cell_type": "code",
      "execution_count": 16,
      "metadata": {
        "id": "mq6jry1ECiU7"
      },
      "outputs": [],
      "source": [
        "def collate_fn(batch):\n",
        "    return {\n",
        "        'pixel_values': torch.stack([x['pixel_values'] for x in batch]),\n",
        "        'labels': torch.tensor([x['label'] for x in batch])\n",
        "    }"
      ]
    },
    {
      "cell_type": "markdown",
      "metadata": {
        "id": "JWWYI3LUCiU7"
      },
      "source": [
        "Let's now define the evaluation metric we are going to use to compare prediction with actual labels. We will use the *accuracy evaluation metric*.\n",
        "\n",
        "Accuracy is defined as the proportion of correct predictions (True Positive ($TP$) and True Negative ($TN$)) among the total number of cases processed ($TP$, $TN$, False Positive ($FP$), and False Negative ($FN$)).\n",
        "\n",
        "$$Accuracy = \\frac{(TP + TN)}{(TP + TN + FP + FN)}$$    \n",
        "\n",
        "Below, we are using accuracy within the ```compute_metrics``` function."
      ]
    },
    {
      "cell_type": "code",
      "execution_count": 17,
      "metadata": {
        "colab": {
          "base_uri": "https://localhost:8080/"
        },
        "id": "vAfqczmeCiU7",
        "outputId": "5d680e3e-56ae-403b-b090-f1ac6e88a88d"
      },
      "outputs": [
        {
          "name": "stderr",
          "output_type": "stream",
          "text": [
            "<ipython-input-17-b7bbca42f0bd>:5: FutureWarning: load_metric is deprecated and will be removed in the next major version of datasets. Use 'evaluate.load' instead, from the new library 🤗 Evaluate: https://huggingface.co/docs/evaluate\n",
            "  metric = load_metric(\"accuracy\")\n",
            "/usr/local/lib/python3.10/dist-packages/datasets/load.py:759: FutureWarning: The repository for accuracy contains custom code which must be executed to correctly load the metric. You can inspect the repository content at https://raw.githubusercontent.com/huggingface/datasets/2.19.0/metrics/accuracy/accuracy.py\n",
            "You can avoid this message in future by passing the argument `trust_remote_code=True`.\n",
            "Passing `trust_remote_code=True` will be mandatory to load this metric from the next major release of `datasets`.\n",
            "  warnings.warn(\n"
          ]
        }
      ],
      "source": [
        "import numpy as np\n",
        "from datasets import load_metric\n",
        "\n",
        "# accuracy metric\n",
        "metric = load_metric(\"accuracy\")\n",
        "def compute_metrics(p):\n",
        "    return metric.compute(\n",
        "        predictions=np.argmax(p.predictions, axis=1),\n",
        "        references=p.label_ids\n",
        "    )"
      ]
    },
    {
      "cell_type": "markdown",
      "metadata": {
        "id": "YHZLZBvRCiU7"
      },
      "source": [
        "The last thing consists of defining ```TrainingArguments```.\n",
        "\n",
        "Most of these are pretty self-explanatory, but one that is quite important here is ```remove_unused_columns=False```. This one will drop any features not used by the model's call function. By default it's True because usually it's ideal to drop unused feature columns, making it easier to unpack inputs into the model's call function. But, in our case, we need the unused features ('image' in particular) in order to create 'pixel_values'.\n",
        "\n",
        "We have chosen a batch size equal to 16, 100 evaluation steps, and a learning rate of $2e^{-4}$."
      ]
    },
    {
      "cell_type": "code",
      "execution_count": 18,
      "metadata": {
        "colab": {
          "base_uri": "https://localhost:8080/"
        },
        "id": "E21gusdKIMhS",
        "outputId": "1f67977a-3661-4a65-ce8c-c2ed96fb2d05"
      },
      "outputs": [
        {
          "name": "stdout",
          "output_type": "stream",
          "text": [
            "Requirement already satisfied: accelerate==0.2.1 in /usr/local/lib/python3.10/dist-packages (0.2.1)\n",
            "Requirement already satisfied: torch>=1.4.0 in /usr/local/lib/python3.10/dist-packages (from accelerate==0.2.1) (2.2.1+cu121)\n",
            "Requirement already satisfied: pyaml>=20.4.0 in /usr/local/lib/python3.10/dist-packages (from accelerate==0.2.1) (24.4.0)\n",
            "Requirement already satisfied: PyYAML in /usr/local/lib/python3.10/dist-packages (from pyaml>=20.4.0->accelerate==0.2.1) (6.0.1)\n",
            "Requirement already satisfied: filelock in /usr/local/lib/python3.10/dist-packages (from torch>=1.4.0->accelerate==0.2.1) (3.14.0)\n",
            "Requirement already satisfied: typing-extensions>=4.8.0 in /usr/local/lib/python3.10/dist-packages (from torch>=1.4.0->accelerate==0.2.1) (4.11.0)\n",
            "Requirement already satisfied: sympy in /usr/local/lib/python3.10/dist-packages (from torch>=1.4.0->accelerate==0.2.1) (1.12)\n",
            "Requirement already satisfied: networkx in /usr/local/lib/python3.10/dist-packages (from torch>=1.4.0->accelerate==0.2.1) (3.3)\n",
            "Requirement already satisfied: jinja2 in /usr/local/lib/python3.10/dist-packages (from torch>=1.4.0->accelerate==0.2.1) (3.1.3)\n",
            "Requirement already satisfied: fsspec in /usr/local/lib/python3.10/dist-packages (from torch>=1.4.0->accelerate==0.2.1) (2023.6.0)\n",
            "Requirement already satisfied: nvidia-cuda-nvrtc-cu12==12.1.105 in /usr/local/lib/python3.10/dist-packages (from torch>=1.4.0->accelerate==0.2.1) (12.1.105)\n",
            "Requirement already satisfied: nvidia-cuda-runtime-cu12==12.1.105 in /usr/local/lib/python3.10/dist-packages (from torch>=1.4.0->accelerate==0.2.1) (12.1.105)\n",
            "Requirement already satisfied: nvidia-cuda-cupti-cu12==12.1.105 in /usr/local/lib/python3.10/dist-packages (from torch>=1.4.0->accelerate==0.2.1) (12.1.105)\n",
            "Requirement already satisfied: nvidia-cudnn-cu12==8.9.2.26 in /usr/local/lib/python3.10/dist-packages (from torch>=1.4.0->accelerate==0.2.1) (8.9.2.26)\n",
            "Requirement already satisfied: nvidia-cublas-cu12==12.1.3.1 in /usr/local/lib/python3.10/dist-packages (from torch>=1.4.0->accelerate==0.2.1) (12.1.3.1)\n",
            "Requirement already satisfied: nvidia-cufft-cu12==11.0.2.54 in /usr/local/lib/python3.10/dist-packages (from torch>=1.4.0->accelerate==0.2.1) (11.0.2.54)\n",
            "Requirement already satisfied: nvidia-curand-cu12==10.3.2.106 in /usr/local/lib/python3.10/dist-packages (from torch>=1.4.0->accelerate==0.2.1) (10.3.2.106)\n",
            "Requirement already satisfied: nvidia-cusolver-cu12==11.4.5.107 in /usr/local/lib/python3.10/dist-packages (from torch>=1.4.0->accelerate==0.2.1) (11.4.5.107)\n",
            "Requirement already satisfied: nvidia-cusparse-cu12==12.1.0.106 in /usr/local/lib/python3.10/dist-packages (from torch>=1.4.0->accelerate==0.2.1) (12.1.0.106)\n",
            "Requirement already satisfied: nvidia-nccl-cu12==2.19.3 in /usr/local/lib/python3.10/dist-packages (from torch>=1.4.0->accelerate==0.2.1) (2.19.3)\n",
            "Requirement already satisfied: nvidia-nvtx-cu12==12.1.105 in /usr/local/lib/python3.10/dist-packages (from torch>=1.4.0->accelerate==0.2.1) (12.1.105)\n",
            "Requirement already satisfied: triton==2.2.0 in /usr/local/lib/python3.10/dist-packages (from torch>=1.4.0->accelerate==0.2.1) (2.2.0)\n",
            "Requirement already satisfied: nvidia-nvjitlink-cu12 in /usr/local/lib/python3.10/dist-packages (from nvidia-cusolver-cu12==11.4.5.107->torch>=1.4.0->accelerate==0.2.1) (12.4.127)\n",
            "Requirement already satisfied: MarkupSafe>=2.0 in /usr/local/lib/python3.10/dist-packages (from jinja2->torch>=1.4.0->accelerate==0.2.1) (2.1.5)\n",
            "Requirement already satisfied: mpmath>=0.19 in /usr/local/lib/python3.10/dist-packages (from sympy->torch>=1.4.0->accelerate==0.2.1) (1.3.0)\n",
            "Requirement already satisfied: transformers==4.17 in /usr/local/lib/python3.10/dist-packages (4.17.0)\n",
            "Requirement already satisfied: filelock in /usr/local/lib/python3.10/dist-packages (from transformers==4.17) (3.14.0)\n",
            "Requirement already satisfied: huggingface-hub<1.0,>=0.1.0 in /usr/local/lib/python3.10/dist-packages (from transformers==4.17) (0.23.0)\n",
            "Requirement already satisfied: numpy>=1.17 in /usr/local/lib/python3.10/dist-packages (from transformers==4.17) (1.25.2)\n",
            "Requirement already satisfied: packaging>=20.0 in /usr/local/lib/python3.10/dist-packages (from transformers==4.17) (24.0)\n",
            "Requirement already satisfied: pyyaml>=5.1 in /usr/local/lib/python3.10/dist-packages (from transformers==4.17) (6.0.1)\n",
            "Requirement already satisfied: regex!=2019.12.17 in /usr/local/lib/python3.10/dist-packages (from transformers==4.17) (2023.12.25)\n",
            "Requirement already satisfied: requests in /usr/local/lib/python3.10/dist-packages (from transformers==4.17) (2.31.0)\n",
            "Requirement already satisfied: sacremoses in /usr/local/lib/python3.10/dist-packages (from transformers==4.17) (0.1.1)\n",
            "Requirement already satisfied: tokenizers!=0.11.3,>=0.11.1 in /usr/local/lib/python3.10/dist-packages (from transformers==4.17) (0.19.1)\n",
            "Requirement already satisfied: tqdm>=4.27 in /usr/local/lib/python3.10/dist-packages (from transformers==4.17) (4.66.2)\n",
            "Requirement already satisfied: fsspec>=2023.5.0 in /usr/local/lib/python3.10/dist-packages (from huggingface-hub<1.0,>=0.1.0->transformers==4.17) (2023.6.0)\n",
            "Requirement already satisfied: typing-extensions>=3.7.4.3 in /usr/local/lib/python3.10/dist-packages (from huggingface-hub<1.0,>=0.1.0->transformers==4.17) (4.11.0)\n",
            "Requirement already satisfied: charset-normalizer<4,>=2 in /usr/local/lib/python3.10/dist-packages (from requests->transformers==4.17) (3.3.2)\n",
            "Requirement already satisfied: idna<4,>=2.5 in /usr/local/lib/python3.10/dist-packages (from requests->transformers==4.17) (3.7)\n",
            "Requirement already satisfied: urllib3<3,>=1.21.1 in /usr/local/lib/python3.10/dist-packages (from requests->transformers==4.17) (2.0.7)\n",
            "Requirement already satisfied: certifi>=2017.4.17 in /usr/local/lib/python3.10/dist-packages (from requests->transformers==4.17) (2024.2.2)\n",
            "Requirement already satisfied: click in /usr/local/lib/python3.10/dist-packages (from sacremoses->transformers==4.17) (8.1.7)\n",
            "Requirement already satisfied: joblib in /usr/local/lib/python3.10/dist-packages (from sacremoses->transformers==4.17) (1.4.0)\n"
          ]
        }
      ],
      "source": [
        "# need to downgrade\n",
        "!pip install accelerate==0.2.1\n",
        "!pip install transformers==4.17"
      ]
    },
    {
      "cell_type": "code",
      "execution_count": 25,
      "metadata": {
        "colab": {
          "base_uri": "https://localhost:8080/"
        },
        "id": "D6LuypehIuWz",
        "outputId": "b4f04357-11ea-4abb-b1a0-17868cda5d58"
      },
      "outputs": [
        {
          "name": "stderr",
          "output_type": "stream",
          "text": [
            "PyTorch: setting up devices\n",
            "The default value for the training argument `--report_to` will change in v5 (from all installed integrations to none). In v5, you will need to use `--report_to all` to get the same behavior as now. You should start updating your code and make this info disappear :-).\n"
          ]
        }
      ],
      "source": [
        "from transformers import TrainingArguments\n",
        "\n",
        "training_args = TrainingArguments(\n",
        "  output_dir=\"./fer_2013\",\n",
        "  per_device_train_batch_size=16,\n",
        "  evaluation_strategy=\"steps\",\n",
        "  num_train_epochs=1,\n",
        "  save_steps=100,\n",
        "  eval_steps=100,\n",
        "  logging_steps=10,\n",
        "  learning_rate=1e-4,\n",
        "  save_total_limit=2,\n",
        "  remove_unused_columns=False,\n",
        "  push_to_hub=False,\n",
        "  load_best_model_at_end=True,\n",
        "  optim=\"adamw_hf\",\n",
        "  logging_dir='./logs',\n",
        ")"
      ]
    },
    {
      "cell_type": "markdown",
      "metadata": {
        "id": "oLzf409MCiU7"
      },
      "source": [
        "We can now load the pre-trained model. We'll add ```num_labels``` on init so the model creates a classification head with the right number of units."
      ]
    },
    {
      "cell_type": "code",
      "execution_count": 26,
      "metadata": {
        "colab": {
          "base_uri": "https://localhost:8080/"
        },
        "id": "PKXQLwCQCiU7",
        "outputId": "6747b508-c09f-4862-d14b-9444e20f443e"
      },
      "outputs": [
        {
          "name": "stderr",
          "output_type": "stream",
          "text": [
            "loading configuration file https://huggingface.co/google/vit-base-patch16-224-in21k/resolve/main/config.json from cache at /root/.cache/huggingface/transformers/7bba26dd36a6ff9f6a9b19436dec361727bea03ec70fbfa82b70628109163eaa.92995a56e2eabab0c686015c4ad8275b4f9cbd858ed228f6a08936f2c31667e7\n",
            "Model config ViTConfig {\n",
            "  \"_name_or_path\": \"google/vit-base-patch16-224-in21k\",\n",
            "  \"architectures\": [\n",
            "    \"ViTModel\"\n",
            "  ],\n",
            "  \"attention_probs_dropout_prob\": 0.0,\n",
            "  \"encoder_stride\": 16,\n",
            "  \"hidden_act\": \"gelu\",\n",
            "  \"hidden_dropout_prob\": 0.0,\n",
            "  \"hidden_size\": 768,\n",
            "  \"id2label\": {\n",
            "    \"0\": \"LABEL_0\",\n",
            "    \"1\": \"LABEL_1\",\n",
            "    \"2\": \"LABEL_2\",\n",
            "    \"3\": \"LABEL_3\",\n",
            "    \"4\": \"LABEL_4\",\n",
            "    \"5\": \"LABEL_5\",\n",
            "    \"6\": \"LABEL_6\"\n",
            "  },\n",
            "  \"image_size\": 224,\n",
            "  \"initializer_range\": 0.02,\n",
            "  \"intermediate_size\": 3072,\n",
            "  \"label2id\": {\n",
            "    \"LABEL_0\": 0,\n",
            "    \"LABEL_1\": 1,\n",
            "    \"LABEL_2\": 2,\n",
            "    \"LABEL_3\": 3,\n",
            "    \"LABEL_4\": 4,\n",
            "    \"LABEL_5\": 5,\n",
            "    \"LABEL_6\": 6\n",
            "  },\n",
            "  \"layer_norm_eps\": 1e-12,\n",
            "  \"model_type\": \"vit\",\n",
            "  \"num_attention_heads\": 12,\n",
            "  \"num_channels\": 3,\n",
            "  \"num_hidden_layers\": 12,\n",
            "  \"patch_size\": 16,\n",
            "  \"qkv_bias\": true,\n",
            "  \"transformers_version\": \"4.17.0\"\n",
            "}\n",
            "\n",
            "loading weights file https://huggingface.co/google/vit-base-patch16-224-in21k/resolve/main/pytorch_model.bin from cache at /root/.cache/huggingface/transformers/d01bfc4a52063e6f2cc1bc7063192e012043a7c6d8e75981bb6afbb9dc911001.e4710baf72bd00d091aab2ae692d487c057734cf044ba421696823447b95521e\n",
            "Some weights of the model checkpoint at google/vit-base-patch16-224-in21k were not used when initializing ViTForImageClassification: ['pooler.dense.bias', 'pooler.dense.weight']\n",
            "- This IS expected if you are initializing ViTForImageClassification from the checkpoint of a model trained on another task or with another architecture (e.g. initializing a BertForSequenceClassification model from a BertForPreTraining model).\n",
            "- This IS NOT expected if you are initializing ViTForImageClassification from the checkpoint of a model that you expect to be exactly identical (initializing a BertForSequenceClassification model from a BertForSequenceClassification model).\n",
            "Some weights of ViTForImageClassification were not initialized from the model checkpoint at google/vit-base-patch16-224-in21k and are newly initialized: ['classifier.weight', 'classifier.bias']\n",
            "You should probably TRAIN this model on a down-stream task to be able to use it for predictions and inference.\n"
          ]
        }
      ],
      "source": [
        "from transformers import ViTForImageClassification\n",
        "\n",
        "labels = dataset_train.features['label'].names\n",
        "\n",
        "model = ViTForImageClassification.from_pretrained(\n",
        "    model_id,  # classification head\n",
        "    num_labels=len(labels)\n",
        ")"
      ]
    },
    {
      "cell_type": "code",
      "execution_count": 27,
      "metadata": {
        "colab": {
          "base_uri": "https://localhost:8080/"
        },
        "id": "iilll4PQCiU7",
        "outputId": "8ed2ad9f-9feb-4724-eafb-fdd894b986b9"
      },
      "outputs": [
        {
          "data": {
            "text/plain": [
              "ViTForImageClassification(\n",
              "  (vit): ViTModel(\n",
              "    (embeddings): ViTEmbeddings(\n",
              "      (patch_embeddings): PatchEmbeddings(\n",
              "        (projection): Conv2d(3, 768, kernel_size=(16, 16), stride=(16, 16))\n",
              "      )\n",
              "      (dropout): Dropout(p=0.0, inplace=False)\n",
              "    )\n",
              "    (encoder): ViTEncoder(\n",
              "      (layer): ModuleList(\n",
              "        (0-11): 12 x ViTLayer(\n",
              "          (attention): ViTAttention(\n",
              "            (attention): ViTSelfAttention(\n",
              "              (query): Linear(in_features=768, out_features=768, bias=True)\n",
              "              (key): Linear(in_features=768, out_features=768, bias=True)\n",
              "              (value): Linear(in_features=768, out_features=768, bias=True)\n",
              "              (dropout): Dropout(p=0.0, inplace=False)\n",
              "            )\n",
              "            (output): ViTSelfOutput(\n",
              "              (dense): Linear(in_features=768, out_features=768, bias=True)\n",
              "              (dropout): Dropout(p=0.0, inplace=False)\n",
              "            )\n",
              "          )\n",
              "          (intermediate): ViTIntermediate(\n",
              "            (dense): Linear(in_features=768, out_features=3072, bias=True)\n",
              "            (intermediate_act_fn): GELUActivation()\n",
              "          )\n",
              "          (output): ViTOutput(\n",
              "            (dense): Linear(in_features=3072, out_features=768, bias=True)\n",
              "            (dropout): Dropout(p=0.0, inplace=False)\n",
              "          )\n",
              "          (layernorm_before): LayerNorm((768,), eps=1e-12, elementwise_affine=True)\n",
              "          (layernorm_after): LayerNorm((768,), eps=1e-12, elementwise_affine=True)\n",
              "        )\n",
              "      )\n",
              "    )\n",
              "    (layernorm): LayerNorm((768,), eps=1e-12, elementwise_affine=True)\n",
              "  )\n",
              "  (classifier): Linear(in_features=768, out_features=7, bias=True)\n",
              ")"
            ]
          },
          "execution_count": 27,
          "metadata": {},
          "output_type": "execute_result"
        }
      ],
      "source": [
        "model.to(device)"
      ]
    },
    {
      "cell_type": "markdown",
      "metadata": {
        "id": "cJwwTcLTCiU7"
      },
      "source": [
        "We can see the characteristics of our model."
      ]
    },
    {
      "cell_type": "markdown",
      "metadata": {
        "id": "UQEfoEA2CiU7"
      },
      "source": [
        "Now, all instances can be passed to ```Trainer```."
      ]
    },
    {
      "cell_type": "code",
      "execution_count": 35,
      "metadata": {
        "id": "HCOC5kRxCiU8"
      },
      "outputs": [],
      "source": [
        "from transformers import Trainer\n",
        "import os\n",
        "\n",
        "# Check if there are any checkpoints in the output directory\n",
        "def get_latest_checkpoint():\n",
        "  latest_checkpoint = None\n",
        "  if os.path.exists(training_args.output_dir):\n",
        "      # List all files in the output directory\n",
        "      checkpoint_files = os.listdir(training_args.output_dir)\n",
        "      # Filter for checkpoint directories\n",
        "      checkpoints = [os.path.join(training_args.output_dir, f) for f in checkpoint_files if \"checkpoint\" in f]\n",
        "      # Find the latest checkpoint if any\n",
        "      if checkpoints:\n",
        "          latest_checkpoint = max(checkpoints, key=os.path.getmtime)\n",
        "          print(f\"Will resume training from checkpoint: {latest_checkpoint}\")\n",
        "      else:\n",
        "          print(\"No checkpoint found, will start training from scratch\")\n",
        "  return latest_checkpoint\n",
        "\n",
        "trainer = Trainer(\n",
        "    model=model,\n",
        "    args=training_args,\n",
        "    data_collator=collate_fn,\n",
        "    compute_metrics=compute_metrics,\n",
        "    train_dataset=prepared_train,\n",
        "    eval_dataset=prepared_test,\n",
        "    tokenizer=feature_extractor,\n",
        ")"
      ]
    },
    {
      "cell_type": "code",
      "execution_count": null,
      "metadata": {
        "id": "QyO1tFDhSSfU"
      },
      "outputs": [],
      "source": [
        "# start tensorboard before training starts\n",
        "%load_ext tensorboard\n",
        "%tensorboard --logdir=./logs"
      ]
    },
    {
      "cell_type": "markdown",
      "metadata": {
        "id": "veQmMVrgCiU8"
      },
      "source": [
        "We can save our trained model."
      ]
    },
    {
      "cell_type": "code",
      "execution_count": 30,
      "metadata": {
        "colab": {
          "base_uri": "https://localhost:8080/",
          "height": 1000,
          "referenced_widgets": [
            "dd83e176f63448498df3b2c05f4f3763",
            "032acdf603dd49819a60ddcada59d786",
            "8275709b98974391932d2281000bd1c4",
            "e71ba5b36f8e46fb9e68f542f509c9c4",
            "d013b983d5334dff9a8610a81eee4640",
            "2541cde4c9e34aca9f410d55a1739109",
            "9fc9d19d08f242f5849d292936ffbb00",
            "8c9a53a9a4184935a0340854c4ec21e0",
            "e87c6c1524fd4653a7d63f71423f3872",
            "852d418927fe4333a9202b1681686a60",
            "168103042f7944269c51001c9cd66435"
          ]
        },
        "id": "v4WjZGvECiVA",
        "outputId": "d1d4da84-7d25-4c90-dc51-b577e83f32b5"
      },
      "outputs": [
        {
          "name": "stderr",
          "output_type": "stream",
          "text": [
            "Loading model from ./fer_2013/checkpoint-600).\n",
            "/usr/local/lib/python3.10/dist-packages/transformers/optimization.py:306: FutureWarning: This implementation of AdamW is deprecated and will be removed in a future version. Use the PyTorch implementation torch.optim.AdamW instead, or set `no_deprecation_warning=True` to disable this warning\n",
            "  warnings.warn(\n",
            "***** Running training *****\n",
            "  Num examples = 28709\n",
            "  Num Epochs = 1\n",
            "  Instantaneous batch size per device = 16\n",
            "  Total train batch size (w. parallel, distributed & accumulation) = 16\n",
            "  Gradient Accumulation steps = 1\n",
            "  Total optimization steps = 1795\n",
            "  Continuing training from checkpoint, will skip to saved global_step\n",
            "  Continuing training from epoch 0\n",
            "  Continuing training from global step 600\n",
            "  Will skip the first 0 epochs then the first 600 batches in the first epoch. If this takes a lot of time, you can add the `--ignore_data_skip` flag to your launch command, but you will resume the training on data already seen by your model.\n"
          ]
        },
        {
          "data": {
            "application/vnd.jupyter.widget-view+json": {
              "model_id": "dd83e176f63448498df3b2c05f4f3763",
              "version_major": 2,
              "version_minor": 0
            },
            "text/plain": [
              "  0%|          | 0/600 [00:00<?, ?it/s]"
            ]
          },
          "metadata": {},
          "output_type": "display_data"
        },
        {
          "data": {
            "text/html": [
              "\n",
              "    <div>\n",
              "      \n",
              "      <progress value='1079' max='1795' style='width:300px; height:20px; vertical-align: middle;'></progress>\n",
              "      [1079/1795 11:29 < 17:15, 0.69 it/s, Epoch 0.60/1]\n",
              "    </div>\n",
              "    <table border=\"1\" class=\"dataframe\">\n",
              "  <thead>\n",
              " <tr style=\"text-align: left;\">\n",
              "      <th>Step</th>\n",
              "      <th>Training Loss</th>\n",
              "      <th>Validation Loss</th>\n",
              "      <th>Accuracy</th>\n",
              "    </tr>\n",
              "  </thead>\n",
              "  <tbody>\n",
              "    <tr>\n",
              "      <td>700</td>\n",
              "      <td>0.955400</td>\n",
              "      <td>1.085799</td>\n",
              "      <td>0.589161</td>\n",
              "    </tr>\n",
              "    <tr>\n",
              "      <td>800</td>\n",
              "      <td>1.142600</td>\n",
              "      <td>1.110590</td>\n",
              "      <td>0.583589</td>\n",
              "    </tr>\n",
              "    <tr>\n",
              "      <td>900</td>\n",
              "      <td>0.951700</td>\n",
              "      <td>1.025185</td>\n",
              "      <td>0.616188</td>\n",
              "    </tr>\n",
              "    <tr>\n",
              "      <td>1000</td>\n",
              "      <td>1.038800</td>\n",
              "      <td>1.033975</td>\n",
              "      <td>0.620786</td>\n",
              "    </tr>\n",
              "  </tbody>\n",
              "</table><p>"
            ],
            "text/plain": [
              "<IPython.core.display.HTML object>"
            ]
          },
          "metadata": {},
          "output_type": "display_data"
        },
        {
          "name": "stderr",
          "output_type": "stream",
          "text": [
            "***** Running Evaluation *****\n",
            "  Num examples = 7178\n",
            "  Batch size = 8\n",
            "Saving model checkpoint to ./fer_2013/checkpoint-700\n",
            "Configuration saved in ./fer_2013/checkpoint-700/config.json\n",
            "Model weights saved in ./fer_2013/checkpoint-700/pytorch_model.bin\n",
            "Feature extractor saved in ./fer_2013/checkpoint-700/preprocessor_config.json\n",
            "Deleting older checkpoint [fer_2013/checkpoint-500] due to args.save_total_limit\n",
            "***** Running Evaluation *****\n",
            "  Num examples = 7178\n",
            "  Batch size = 8\n",
            "Saving model checkpoint to ./fer_2013/checkpoint-800\n",
            "Configuration saved in ./fer_2013/checkpoint-800/config.json\n",
            "Model weights saved in ./fer_2013/checkpoint-800/pytorch_model.bin\n",
            "Feature extractor saved in ./fer_2013/checkpoint-800/preprocessor_config.json\n",
            "Deleting older checkpoint [fer_2013/checkpoint-600] due to args.save_total_limit\n",
            "***** Running Evaluation *****\n",
            "  Num examples = 7178\n",
            "  Batch size = 8\n",
            "Saving model checkpoint to ./fer_2013/checkpoint-900\n",
            "Configuration saved in ./fer_2013/checkpoint-900/config.json\n",
            "Model weights saved in ./fer_2013/checkpoint-900/pytorch_model.bin\n",
            "Feature extractor saved in ./fer_2013/checkpoint-900/preprocessor_config.json\n",
            "Deleting older checkpoint [fer_2013/checkpoint-700] due to args.save_total_limit\n",
            "***** Running Evaluation *****\n",
            "  Num examples = 7178\n",
            "  Batch size = 8\n",
            "Saving model checkpoint to ./fer_2013/checkpoint-1000\n",
            "Configuration saved in ./fer_2013/checkpoint-1000/config.json\n",
            "Model weights saved in ./fer_2013/checkpoint-1000/pytorch_model.bin\n",
            "Feature extractor saved in ./fer_2013/checkpoint-1000/preprocessor_config.json\n",
            "Deleting older checkpoint [fer_2013/checkpoint-800] due to args.save_total_limit\n"
          ]
        },
        {
          "ename": "KeyboardInterrupt",
          "evalue": "",
          "output_type": "error",
          "traceback": [
            "\u001b[0;31m---------------------------------------------------------------------------\u001b[0m",
            "\u001b[0;31mKeyboardInterrupt\u001b[0m                         Traceback (most recent call last)",
            "\u001b[0;32m<ipython-input-30-7b3244759242>\u001b[0m in \u001b[0;36m<cell line: 1>\u001b[0;34m()\u001b[0m\n\u001b[0;32m----> 1\u001b[0;31m \u001b[0mtrainer\u001b[0m\u001b[0;34m.\u001b[0m\u001b[0mtrain\u001b[0m\u001b[0;34m(\u001b[0m\u001b[0mresume_from_checkpoint\u001b[0m\u001b[0;34m=\u001b[0m\u001b[0mlatest_checkpoint\u001b[0m\u001b[0;34m)\u001b[0m\u001b[0;34m\u001b[0m\u001b[0;34m\u001b[0m\u001b[0m\n\u001b[0m\u001b[1;32m      2\u001b[0m \u001b[0;31m# save tokenizer with the model\u001b[0m\u001b[0;34m\u001b[0m\u001b[0;34m\u001b[0m\u001b[0m\n\u001b[1;32m      3\u001b[0m \u001b[0mtrainer\u001b[0m\u001b[0;34m.\u001b[0m\u001b[0msave_model\u001b[0m\u001b[0;34m(\u001b[0m\u001b[0;34m)\u001b[0m\u001b[0;34m\u001b[0m\u001b[0;34m\u001b[0m\u001b[0m\n\u001b[1;32m      4\u001b[0m \u001b[0mtrainer\u001b[0m\u001b[0;34m.\u001b[0m\u001b[0mlog_metrics\u001b[0m\u001b[0;34m(\u001b[0m\u001b[0;34m\"train\"\u001b[0m\u001b[0;34m,\u001b[0m \u001b[0mtrain_results\u001b[0m\u001b[0;34m.\u001b[0m\u001b[0mmetrics\u001b[0m\u001b[0;34m)\u001b[0m\u001b[0;34m\u001b[0m\u001b[0;34m\u001b[0m\u001b[0m\n\u001b[1;32m      5\u001b[0m \u001b[0mtrainer\u001b[0m\u001b[0;34m.\u001b[0m\u001b[0msave_metrics\u001b[0m\u001b[0;34m(\u001b[0m\u001b[0;34m\"train\"\u001b[0m\u001b[0;34m,\u001b[0m \u001b[0mtrain_results\u001b[0m\u001b[0;34m.\u001b[0m\u001b[0mmetrics\u001b[0m\u001b[0;34m)\u001b[0m\u001b[0;34m\u001b[0m\u001b[0;34m\u001b[0m\u001b[0m\n",
            "\u001b[0;32m/usr/local/lib/python3.10/dist-packages/transformers/trainer.py\u001b[0m in \u001b[0;36mtrain\u001b[0;34m(self, resume_from_checkpoint, trial, ignore_keys_for_eval, **kwargs)\u001b[0m\n\u001b[1;32m   1403\u001b[0m                     \u001b[0margs\u001b[0m\u001b[0;34m.\u001b[0m\u001b[0mlogging_nan_inf_filter\u001b[0m\u001b[0;34m\u001b[0m\u001b[0;34m\u001b[0m\u001b[0m\n\u001b[1;32m   1404\u001b[0m                     \u001b[0;32mand\u001b[0m \u001b[0;32mnot\u001b[0m \u001b[0mis_torch_tpu_available\u001b[0m\u001b[0;34m(\u001b[0m\u001b[0;34m)\u001b[0m\u001b[0;34m\u001b[0m\u001b[0;34m\u001b[0m\u001b[0m\n\u001b[0;32m-> 1405\u001b[0;31m                     \u001b[0;32mand\u001b[0m \u001b[0;34m(\u001b[0m\u001b[0mtorch\u001b[0m\u001b[0;34m.\u001b[0m\u001b[0misnan\u001b[0m\u001b[0;34m(\u001b[0m\u001b[0mtr_loss_step\u001b[0m\u001b[0;34m)\u001b[0m \u001b[0;32mor\u001b[0m \u001b[0mtorch\u001b[0m\u001b[0;34m.\u001b[0m\u001b[0misinf\u001b[0m\u001b[0;34m(\u001b[0m\u001b[0mtr_loss_step\u001b[0m\u001b[0;34m)\u001b[0m\u001b[0;34m)\u001b[0m\u001b[0;34m\u001b[0m\u001b[0;34m\u001b[0m\u001b[0m\n\u001b[0m\u001b[1;32m   1406\u001b[0m                 ):\n\u001b[1;32m   1407\u001b[0m                     \u001b[0;31m# if loss is nan or inf simply add the average of previous logged losses\u001b[0m\u001b[0;34m\u001b[0m\u001b[0;34m\u001b[0m\u001b[0m\n",
            "\u001b[0;31mKeyboardInterrupt\u001b[0m: "
          ]
        }
      ],
      "source": [
        "trainer.train(resume_from_checkpoint=True)\n",
        "# save tokenizer with the model\n",
        "trainer.save_model()\n",
        "trainer.log_metrics(\"train\", train_results.metrics)\n",
        "trainer.save_metrics(\"train\", train_results.metrics)\n",
        "# save the trainer state\n",
        "trainer.save_state()"
      ]
    },
    {
      "cell_type": "markdown",
      "metadata": {
        "id": "hS51kzU-CiVA"
      },
      "source": [
        "#### Model Evaluation"
      ]
    },
    {
      "cell_type": "markdown",
      "metadata": {
        "id": "CafEOdcuCiVA"
      },
      "source": [
        "We can now evaluate our model using the accuracy metric defined above..."
      ]
    },
    {
      "cell_type": "code",
      "execution_count": 31,
      "metadata": {
        "colab": {
          "base_uri": "https://localhost:8080/",
          "height": 339
        },
        "id": "L983Kfg8CiVA",
        "outputId": "7db03610-947b-4597-bbfe-459df3d293ad"
      },
      "outputs": [
        {
          "name": "stderr",
          "output_type": "stream",
          "text": [
            "***** Running Evaluation *****\n",
            "  Num examples = 7178\n",
            "  Batch size = 8\n"
          ]
        },
        {
          "data": {
            "text/html": [
              "\n",
              "    <div>\n",
              "      \n",
              "      <progress value='1079' max='1795' style='width:300px; height:20px; vertical-align: middle;'></progress>\n",
              "      [1079/1795 11:29 < 17:15, 0.69 it/s, Epoch 0.60/1]\n",
              "    </div>\n",
              "    <table border=\"1\" class=\"dataframe\">\n",
              "  <thead>\n",
              " <tr style=\"text-align: left;\">\n",
              "      <th>Step</th>\n",
              "      <th>Training Loss</th>\n",
              "      <th>Validation Loss</th>\n",
              "      <th>Accuracy</th>\n",
              "    </tr>\n",
              "  </thead>\n",
              "  <tbody>\n",
              "    <tr>\n",
              "      <td>700</td>\n",
              "      <td>0.955400</td>\n",
              "      <td>1.085799</td>\n",
              "      <td>0.589161</td>\n",
              "    </tr>\n",
              "    <tr>\n",
              "      <td>800</td>\n",
              "      <td>1.142600</td>\n",
              "      <td>1.110590</td>\n",
              "      <td>0.583589</td>\n",
              "    </tr>\n",
              "    <tr>\n",
              "      <td>900</td>\n",
              "      <td>0.951700</td>\n",
              "      <td>1.025185</td>\n",
              "      <td>0.616188</td>\n",
              "    </tr>\n",
              "    <tr>\n",
              "      <td>1000</td>\n",
              "      <td>1.038800</td>\n",
              "      <td>1.033975</td>\n",
              "      <td>0.620786</td>\n",
              "    </tr>\n",
              "    <tr>\n",
              "      <td>1078</td>\n",
              "      <td>1.048600</td>\n",
              "      <td>1.029969</td>\n",
              "      <td>0.617442</td>\n",
              "    </tr>\n",
              "  </tbody>\n",
              "</table><p>"
            ],
            "text/plain": [
              "<IPython.core.display.HTML object>"
            ]
          },
          "metadata": {},
          "output_type": "display_data"
        },
        {
          "name": "stdout",
          "output_type": "stream",
          "text": [
            "***** eval metrics *****\n",
            "  eval_accuracy = 0.6174\n",
            "  eval_loss     =   1.03\n"
          ]
        }
      ],
      "source": [
        "metrics = trainer.evaluate(prepared_test)\n",
        "trainer.log_metrics(\"eval\", metrics)\n",
        "trainer.save_metrics(\"eval\", metrics)"
      ]
    },
    {
      "cell_type": "markdown",
      "metadata": {
        "id": "68-N8WkoCiVA"
      },
      "source": [
        "Model accuracy is pretty good. Let's have a look to an example. We can pick the first image in our testing dataset and see if the predicted label is correct."
      ]
    },
    {
      "cell_type": "code",
      "execution_count": 32,
      "metadata": {
        "colab": {
          "base_uri": "https://localhost:8080/",
          "height": 217
        },
        "id": "CCVD0LX5CiVA",
        "outputId": "1276e007-d03c-498e-bb28-b0ce047e1727"
      },
      "outputs": [
        {
          "data": {
            "image/png": "[encoded data removed]",
            "text/plain": [
              "<PIL.Image.Image image mode=RGB size=200x200>"
            ]
          },
          "execution_count": 32,
          "metadata": {},
          "output_type": "execute_result"
        }
      ],
      "source": [
        "# show the first image of the testing dataset\n",
        "image = dataset_test[\"img\"][0].resize((200,200))\n",
        "image"
      ]
    },
    {
      "cell_type": "markdown",
      "metadata": {
        "id": "2ftObnPLCiVA"
      },
      "source": [
        "The image is not very clear, even when resized. Let's extract the actual label."
      ]
    },
    {
      "cell_type": "code",
      "execution_count": 33,
      "metadata": {
        "colab": {
          "base_uri": "https://localhost:8080/"
        },
        "id": "e_4qRejTCiVA",
        "outputId": "8e2e114c-eb07-4d4e-e4ea-2acbc4bc1451"
      },
      "outputs": [
        {
          "data": {
            "text/plain": [
              "(0, 'angry')"
            ]
          },
          "execution_count": 33,
          "metadata": {},
          "output_type": "execute_result"
        }
      ],
      "source": [
        "# extract the actual label of the first image of the testing dataset\n",
        "actual_label = dataset_test[\"label\"][0]\n",
        "\n",
        "labels = dataset_test.features['label']\n",
        "actual_label, labels.names[actual_label]\n"
      ]
    },
    {
      "cell_type": "code",
      "execution_count": 4,
      "metadata": {
        "colab": {
          "base_uri": "https://localhost:8080/",
          "height": 216
        },
        "id": "DJKXBohqCiVA",
        "outputId": "d0d03315-51b5-4de2-930b-61763fc65f60"
      },
      "outputs": [
        {
          "ename": "NameError",
          "evalue": "name 'get_latest_checkpoint' is not defined",
          "output_type": "error",
          "traceback": [
            "\u001b[0;31m---------------------------------------------------------------------------\u001b[0m",
            "\u001b[0;31mNameError\u001b[0m                                 Traceback (most recent call last)",
            "\u001b[0;32m<ipython-input-4-415e55f06f39>\u001b[0m in \u001b[0;36m<cell line: 4>\u001b[0;34m()\u001b[0m\n\u001b[1;32m      2\u001b[0m \u001b[0;34m\u001b[0m\u001b[0m\n\u001b[1;32m      3\u001b[0m \u001b[0;31m# import our fine-tuned model from a local checkpoint\u001b[0m\u001b[0;34m\u001b[0m\u001b[0;34m\u001b[0m\u001b[0m\n\u001b[0;32m----> 4\u001b[0;31m \u001b[0mlatest_checkpoint\u001b[0m \u001b[0;34m=\u001b[0m \u001b[0mget_latest_checkpoint\u001b[0m\u001b[0;34m(\u001b[0m\u001b[0;34m)\u001b[0m\u001b[0;34m\u001b[0m\u001b[0;34m\u001b[0m\u001b[0m\n\u001b[0m\u001b[1;32m      5\u001b[0m \u001b[0mmodel_finetuned\u001b[0m \u001b[0;34m=\u001b[0m \u001b[0mViTForImageClassification\u001b[0m\u001b[0;34m.\u001b[0m\u001b[0mfrom_pretrained\u001b[0m\u001b[0;34m(\u001b[0m\u001b[0mlatest_checkpoint\u001b[0m\u001b[0;34m)\u001b[0m\u001b[0;34m\u001b[0m\u001b[0;34m\u001b[0m\u001b[0m\n\u001b[1;32m      6\u001b[0m \u001b[0;31m# import features from the same checkpoint\u001b[0m\u001b[0;34m\u001b[0m\u001b[0;34m\u001b[0m\u001b[0m\n",
            "\u001b[0;31mNameError\u001b[0m: name 'get_latest_checkpoint' is not defined"
          ]
        }
      ],
      "source": [
        "from transformers import ViTForImageClassification, ViTFeatureExtractor\n",
        "\n",
        "# import our fine-tuned model from a local checkpoint\n",
        "latest_checkpoint = get_latest_checkpoint()\n",
        "model_finetuned = ViTForImageClassification.from_pretrained(latest_checkpoint)\n",
        "# import features from the same checkpoint\n",
        "feature_extractor_finetuned = ViTFeatureExtractor.from_pretrained(latest_checkpoint)"
      ]
    },
    {
      "cell_type": "code",
      "execution_count": 37,
      "metadata": {
        "id": "SWceHJjYCiVA"
      },
      "outputs": [],
      "source": [
        "inputs = feature_extractor_finetuned(image, return_tensors=\"pt\")\n",
        "\n",
        "with torch.no_grad():\n",
        "    logits = model_finetuned(**inputs).logits"
      ]
    },
    {
      "cell_type": "markdown",
      "metadata": {
        "id": "L4jBRzwHCiVA"
      },
      "source": [
        "We can now see what is our predicted label. Do extract it, we can use the argmax function."
      ]
    },
    {
      "cell_type": "code",
      "execution_count": 38,
      "metadata": {
        "colab": {
          "base_uri": "https://localhost:8080/",
          "height": 35
        },
        "id": "pPtxYSg9CiVA",
        "outputId": "e95e553f-7a10-4a84-b659-1335631b7d75"
      },
      "outputs": [
        {
          "data": {
            "application/vnd.google.colaboratory.intrinsic+json": {
              "type": "string"
            },
            "text/plain": [
              "'angry'"
            ]
          },
          "execution_count": 38,
          "metadata": {},
          "output_type": "execute_result"
        }
      ],
      "source": [
        "predicted_label = logits.argmax(-1).item()\n",
        "labels = dataset_test.features['label']\n",
        "labels.names[predicted_label]"
      ]
    },
    {
      "cell_type": "code",
      "execution_count": 41,
      "metadata": {
        "colab": {
          "base_uri": "https://localhost:8080/",
          "height": 178
        },
        "id": "9Ko_JoV1MeTM",
        "outputId": "99530665-c3e4-4ab8-97ba-95e957566b4d"
      },
      "outputs": [
        {
          "name": "stdout",
          "output_type": "stream",
          "text": [
            "  adding: fer_2013/checkpoint-1000/ (stored 0%)\n",
            "  adding: fer_2013/checkpoint-1000/config.json (deflated 53%)\n",
            "  adding: fer_2013/checkpoint-1000/rng_state.pth (deflated 25%)\n",
            "  adding: fer_2013/checkpoint-1000/pytorch_model.bin (deflated 7%)\n",
            "  adding: fer_2013/checkpoint-1000/preprocessor_config.json (deflated 46%)\n",
            "  adding: fer_2013/checkpoint-1000/scheduler.pt (deflated 56%)\n",
            "  adding: fer_2013/checkpoint-1000/optimizer.pt (deflated 8%)\n",
            "  adding: fer_2013/checkpoint-1000/training_args.bin (deflated 51%)\n",
            "  adding: fer_2013/checkpoint-1000/trainer_state.json (deflated 84%)\n"
          ]
        },
        {
          "data": {
            "application/javascript": "\n    async function download(id, filename, size) {\n      if (!google.colab.kernel.accessAllowed) {\n        return;\n      }\n      const div = document.createElement('div');\n      const label = document.createElement('label');\n      label.textContent = `Downloading \"${filename}\": `;\n      div.appendChild(label);\n      const progress = document.createElement('progress');\n      progress.max = size;\n      div.appendChild(progress);\n      document.body.appendChild(div);\n\n      const buffers = [];\n      let downloaded = 0;\n\n      const channel = await google.colab.kernel.comms.open(id);\n      // Send a message to notify the kernel that we're ready.\n      channel.send({})\n\n      for await (const message of channel.messages) {\n        // Send a message to notify the kernel that we're ready.\n        channel.send({})\n        if (message.buffers) {\n          for (const buffer of message.buffers) {\n            buffers.push(buffer);\n            downloaded += buffer.byteLength;\n            progress.value = downloaded;\n          }\n        }\n      }\n      const blob = new Blob(buffers, {type: 'application/binary'});\n      const a = document.createElement('a');\n      a.href = window.URL.createObjectURL(blob);\n      a.download = filename;\n      div.appendChild(a);\n      a.click();\n      div.remove();\n    }\n  ",
            "text/plain": [
              "<IPython.core.display.Javascript object>"
            ]
          },
          "metadata": {},
          "output_type": "display_data"
        },
        {
          "data": {
            "application/javascript": "download(\"download_b4d1c28d-62c7-4de1-ad22-2e6f935450d2\", \"checkpoint-1000.zip\", 950278540)",
            "text/plain": [
              "<IPython.core.display.Javascript object>"
            ]
          },
          "metadata": {},
          "output_type": "display_data"
        }
      ],
      "source": [
        "# Assuming 'latest_checkpoint' contains the path to the latest checkpoint directory\n",
        "if latest_checkpoint:\n",
        "    checkpoint_dir_name = os.path.basename(latest_checkpoint)\n",
        "    zip_file_name = f\"{checkpoint_dir_name}.zip\"\n",
        "    # Create a zip file of the latest checkpoint directory\n",
        "    !zip -r {zip_file_name} {latest_checkpoint}\n",
        "    # Download manually by right-clicking on created zip file\n",
        "else:\n",
        "    print(\"No checkpoint available to download.\")"
      ]
    },
    {
      "cell_type": "code",
      "execution_count": 1,
      "metadata": {
        "id": "UX1vzuyPZKXQ"
      },
      "outputs": [],
      "source": [
        "from IPython.display import display, Javascript\n",
        "from google.colab.output import eval_js\n",
        "from base64 import b64decode\n",
        "\n",
        "def take_photo(filename='photo.jpg', quality=0.8):\n",
        "  js = Javascript('''\n",
        "    async function takePhoto(quality) {\n",
        "      const div = document.createElement('div');\n",
        "      const capture = document.createElement('button');\n",
        "      capture.textContent = 'Capture';\n",
        "      div.appendChild(capture);\n",
        "\n",
        "      const video = document.createElement('video');\n",
        "      video.style.display = 'block';\n",
        "      const stream = await navigator.mediaDevices.getUserMedia({video: true});\n",
        "\n",
        "      document.body.appendChild(div);\n",
        "      div.appendChild(video);\n",
        "      video.srcObject = stream;\n",
        "      await video.play();\n",
        "\n",
        "      // Resize the output to fit the video element.\n",
        "      google.colab.output.setIframeHeight(document.documentElement.scrollHeight, true);\n",
        "\n",
        "      // Wait for Capture to be clicked.\n",
        "      await new Promise((resolve) => capture.onclick = resolve);\n",
        "\n",
        "      const canvas = document.createElement('canvas');\n",
        "      canvas.width = video.videoWidth;\n",
        "      canvas.height = video.videoHeight;\n",
        "      canvas.getContext('2d').drawImage(video, 0, 0);\n",
        "      stream.getVideoTracks()[0].stop();\n",
        "      div.remove();\n",
        "      return canvas.toDataURL('image/jpeg', quality);\n",
        "    }\n",
        "    ''')\n",
        "  display(js)\n",
        "  data = eval_js('takePhoto({})'.format(quality))\n",
        "  binary = b64decode(data.split(',')[1])\n",
        "  with open(filename, 'wb') as f:\n",
        "    f.write(binary)\n",
        "  return filename"
      ]
    },
    {
      "cell_type": "code",
      "execution_count": 2,
      "metadata": {
        "colab": {
          "base_uri": "https://localhost:8080/",
          "height": 365
        },
        "id": "OCm4CQFuZKXW",
        "outputId": "b6db2304-7cfb-4a4e-c9f4-ee7968260bf8"
      },
      "outputs": [
        {
          "data": {
            "application/javascript": "\n    async function takePhoto(quality) {\n      const div = document.createElement('div');\n      const capture = document.createElement('button');\n      capture.textContent = 'Capture';\n      div.appendChild(capture);\n\n      const video = document.createElement('video');\n      video.style.display = 'block';\n      const stream = await navigator.mediaDevices.getUserMedia({video: true});\n\n      document.body.appendChild(div);\n      div.appendChild(video);\n      video.srcObject = stream;\n      await video.play();\n\n      // Resize the output to fit the video element.\n      google.colab.output.setIframeHeight(document.documentElement.scrollHeight, true);\n\n      // Wait for Capture to be clicked.\n      await new Promise((resolve) => capture.onclick = resolve);\n\n      const canvas = document.createElement('canvas');\n      canvas.width = video.videoWidth;\n      canvas.height = video.videoHeight;\n      canvas.getContext('2d').drawImage(video, 0, 0);\n      stream.getVideoTracks()[0].stop();\n      div.remove();\n      return canvas.toDataURL('image/jpeg', quality);\n    }\n    ",
            "text/plain": [
              "<IPython.core.display.Javascript object>"
            ]
          },
          "metadata": {},
          "output_type": "display_data"
        },
        {
          "ename": "KeyboardInterrupt",
          "evalue": "",
          "output_type": "error",
          "traceback": [
            "\u001b[0;31m---------------------------------------------------------------------------\u001b[0m",
            "\u001b[0;31mKeyboardInterrupt\u001b[0m                         Traceback (most recent call last)",
            "\u001b[0;32m<ipython-input-2-f08bef93e718>\u001b[0m in \u001b[0;36m<cell line: 2>\u001b[0;34m()\u001b[0m\n\u001b[1;32m      1\u001b[0m \u001b[0;32mfrom\u001b[0m \u001b[0mIPython\u001b[0m\u001b[0;34m.\u001b[0m\u001b[0mdisplay\u001b[0m \u001b[0;32mimport\u001b[0m \u001b[0mImage\u001b[0m\u001b[0;34m\u001b[0m\u001b[0;34m\u001b[0m\u001b[0m\n\u001b[1;32m      2\u001b[0m \u001b[0;32mtry\u001b[0m\u001b[0;34m:\u001b[0m\u001b[0;34m\u001b[0m\u001b[0;34m\u001b[0m\u001b[0m\n\u001b[0;32m----> 3\u001b[0;31m   \u001b[0mfilename\u001b[0m \u001b[0;34m=\u001b[0m \u001b[0mtake_photo\u001b[0m\u001b[0;34m(\u001b[0m\u001b[0;34m)\u001b[0m\u001b[0;34m\u001b[0m\u001b[0;34m\u001b[0m\u001b[0m\n\u001b[0m\u001b[1;32m      4\u001b[0m   \u001b[0mprint\u001b[0m\u001b[0;34m(\u001b[0m\u001b[0;34m'Saved to {}'\u001b[0m\u001b[0;34m.\u001b[0m\u001b[0mformat\u001b[0m\u001b[0;34m(\u001b[0m\u001b[0mfilename\u001b[0m\u001b[0;34m)\u001b[0m\u001b[0;34m)\u001b[0m\u001b[0;34m\u001b[0m\u001b[0;34m\u001b[0m\u001b[0m\n\u001b[1;32m      5\u001b[0m \u001b[0;34m\u001b[0m\u001b[0m\n",
            "\u001b[0;32m<ipython-input-1-9a3bc4379e3c>\u001b[0m in \u001b[0;36mtake_photo\u001b[0;34m(filename, quality)\u001b[0m\n\u001b[1;32m     36\u001b[0m     ''')\n\u001b[1;32m     37\u001b[0m   \u001b[0mdisplay\u001b[0m\u001b[0;34m(\u001b[0m\u001b[0mjs\u001b[0m\u001b[0;34m)\u001b[0m\u001b[0;34m\u001b[0m\u001b[0;34m\u001b[0m\u001b[0m\n\u001b[0;32m---> 38\u001b[0;31m   \u001b[0mdata\u001b[0m \u001b[0;34m=\u001b[0m \u001b[0meval_js\u001b[0m\u001b[0;34m(\u001b[0m\u001b[0;34m'takePhoto({})'\u001b[0m\u001b[0;34m.\u001b[0m\u001b[0mformat\u001b[0m\u001b[0;34m(\u001b[0m\u001b[0mquality\u001b[0m\u001b[0;34m)\u001b[0m\u001b[0;34m)\u001b[0m\u001b[0;34m\u001b[0m\u001b[0;34m\u001b[0m\u001b[0m\n\u001b[0m\u001b[1;32m     39\u001b[0m   \u001b[0mbinary\u001b[0m \u001b[0;34m=\u001b[0m \u001b[0mb64decode\u001b[0m\u001b[0;34m(\u001b[0m\u001b[0mdata\u001b[0m\u001b[0;34m.\u001b[0m\u001b[0msplit\u001b[0m\u001b[0;34m(\u001b[0m\u001b[0;34m','\u001b[0m\u001b[0;34m)\u001b[0m\u001b[0;34m[\u001b[0m\u001b[0;36m1\u001b[0m\u001b[0;34m]\u001b[0m\u001b[0;34m)\u001b[0m\u001b[0;34m\u001b[0m\u001b[0;34m\u001b[0m\u001b[0m\n\u001b[1;32m     40\u001b[0m   \u001b[0;32mwith\u001b[0m \u001b[0mopen\u001b[0m\u001b[0;34m(\u001b[0m\u001b[0mfilename\u001b[0m\u001b[0;34m,\u001b[0m \u001b[0;34m'wb'\u001b[0m\u001b[0;34m)\u001b[0m \u001b[0;32mas\u001b[0m \u001b[0mf\u001b[0m\u001b[0;34m:\u001b[0m\u001b[0;34m\u001b[0m\u001b[0;34m\u001b[0m\u001b[0m\n",
            "\u001b[0;32m/usr/local/lib/python3.10/dist-packages/google/colab/output/_js.py\u001b[0m in \u001b[0;36meval_js\u001b[0;34m(script, ignore_result, timeout_sec)\u001b[0m\n\u001b[1;32m     38\u001b[0m   \u001b[0;32mif\u001b[0m \u001b[0mignore_result\u001b[0m\u001b[0;34m:\u001b[0m\u001b[0;34m\u001b[0m\u001b[0;34m\u001b[0m\u001b[0m\n\u001b[1;32m     39\u001b[0m     \u001b[0;32mreturn\u001b[0m\u001b[0;34m\u001b[0m\u001b[0;34m\u001b[0m\u001b[0m\n\u001b[0;32m---> 40\u001b[0;31m   \u001b[0;32mreturn\u001b[0m \u001b[0m_message\u001b[0m\u001b[0;34m.\u001b[0m\u001b[0mread_reply_from_input\u001b[0m\u001b[0;34m(\u001b[0m\u001b[0mrequest_id\u001b[0m\u001b[0;34m,\u001b[0m \u001b[0mtimeout_sec\u001b[0m\u001b[0;34m)\u001b[0m\u001b[0;34m\u001b[0m\u001b[0;34m\u001b[0m\u001b[0m\n\u001b[0m\u001b[1;32m     41\u001b[0m \u001b[0;34m\u001b[0m\u001b[0m\n\u001b[1;32m     42\u001b[0m \u001b[0;34m\u001b[0m\u001b[0m\n",
            "\u001b[0;32m/usr/local/lib/python3.10/dist-packages/google/colab/_message.py\u001b[0m in \u001b[0;36mread_reply_from_input\u001b[0;34m(message_id, timeout_sec)\u001b[0m\n\u001b[1;32m     94\u001b[0m     \u001b[0mreply\u001b[0m \u001b[0;34m=\u001b[0m \u001b[0m_read_next_input_message\u001b[0m\u001b[0;34m(\u001b[0m\u001b[0;34m)\u001b[0m\u001b[0;34m\u001b[0m\u001b[0;34m\u001b[0m\u001b[0m\n\u001b[1;32m     95\u001b[0m     \u001b[0;32mif\u001b[0m \u001b[0mreply\u001b[0m \u001b[0;34m==\u001b[0m \u001b[0m_NOT_READY\u001b[0m \u001b[0;32mor\u001b[0m \u001b[0;32mnot\u001b[0m \u001b[0misinstance\u001b[0m\u001b[0;34m(\u001b[0m\u001b[0mreply\u001b[0m\u001b[0;34m,\u001b[0m \u001b[0mdict\u001b[0m\u001b[0;34m)\u001b[0m\u001b[0;34m:\u001b[0m\u001b[0;34m\u001b[0m\u001b[0;34m\u001b[0m\u001b[0m\n\u001b[0;32m---> 96\u001b[0;31m       \u001b[0mtime\u001b[0m\u001b[0;34m.\u001b[0m\u001b[0msleep\u001b[0m\u001b[0;34m(\u001b[0m\u001b[0;36m0.025\u001b[0m\u001b[0;34m)\u001b[0m\u001b[0;34m\u001b[0m\u001b[0;34m\u001b[0m\u001b[0m\n\u001b[0m\u001b[1;32m     97\u001b[0m       \u001b[0;32mcontinue\u001b[0m\u001b[0;34m\u001b[0m\u001b[0;34m\u001b[0m\u001b[0m\n\u001b[1;32m     98\u001b[0m     if (\n",
            "\u001b[0;31mKeyboardInterrupt\u001b[0m: "
          ]
        }
      ],
      "source": [
        "from IPython.display import Image\n",
        "try:\n",
        "  filename = take_photo()\n",
        "  print('Saved to {}'.format(filename))\n",
        "\n",
        "  # Show the image which was just taken.\n",
        "  display(Image(filename))\n",
        "except Exception as err:\n",
        "  # Errors will be thrown if the user does not have a webcam or if they do not\n",
        "  # grant the page permission to access it.\n",
        "  print(str(err))"
      ]
    },
    {
      "cell_type": "code",
      "execution_count": 20,
      "metadata": {
        "colab": {
          "base_uri": "https://localhost:8080/",
          "height": 1000
        },
        "id": "wJArglPRaRKQ",
        "outputId": "e283f59d-03ec-4442-fe74-d32bfeeb9ab4"
      },
      "outputs": [
        {
          "data": {
            "application/javascript": "\n    async function captureFrame() {\n        const div = document.createElement('div');\n        const video = document.createElement('video');\n        video.style.display = 'block';\n        const stream = await navigator.mediaDevices.getUserMedia({video: true});\n        document.body.appendChild(div);\n        div.appendChild(video);\n        video.srcObject = stream;\n        await video.play();\n\n        // Wait for the video to start playing\n        await new Promise(resolve => setTimeout(resolve, 1000));\n\n        const canvas = document.createElement('canvas');\n        canvas.width = video.videoWidth;\n        canvas.height = video.videoHeight;\n        canvas.getContext('2d').drawImage(video, 0, 0);\n        const dataUrl = canvas.toDataURL('image/jpeg');\n        stream.getTracks().forEach(track => track.stop()); // Stop the video stream\n        div.remove();\n        return dataUrl;\n    }\n    ",
            "text/plain": [
              "<IPython.core.display.Javascript object>"
            ]
          },
          "metadata": {},
          "output_type": "display_data"
        },
        {
          "name": "stdout",
          "output_type": "stream",
          "text": [
            "Predicted: LABEL_3\n"
          ]
        },
        {
          "data": {
            "text/html": [
              "<img src=\"data:image/jpeg;base64,/9j/4AAQSkZJRgABAQAAAQABAAD/2wBDAAgGBgcGBQgHBwcJCQgKDBQNDAsLDBkSEw8UHRofHh0aHBwgJC4nICIsIxwcKDcpLDAxNDQ0Hyc5PTgyPC4zNDL/2wBDAQkJCQwLDBgNDRgyIRwhMjIyMjIyMjIyMjIyMjIyMjIyMjIyMjIyMjIyMjIyMjIyMjIyMjIyMjIyMjIyMjIyMjL/wAARCAHgAoADASIAAhEBAxEB/8QAHwAAAQUBAQEBAQEAAAAAAAAAAAECAwQFBgcICQoL/8QAtRAAAgEDAwIEAwUFBAQAAAF9AQIDAAQRBRIhMUEGE1FhByJxFDKBkaEII0KxwRVS0fAkM2JyggkKFhcYGRolJicoKSo0NTY3ODk6Q0RFRkdISUpTVFVWV1hZWmNkZWZnaGlqc3R1dnd4eXqDhIWGh4iJipKTlJWWl5iZmqKjpKWmp6ipqrKztLW2t7i5usLDxMXGx8jJytLT1NXW19jZ2uHi4+Tl5ufo6erx8vP09fb3+Pn6/8QAHwEAAwEBAQEBAQEBAQAAAAAAAAECAwQFBgcICQoL/8QAtREAAgECBAQDBAcFBAQAAQJ3AAECAxEEBSExBhJBUQdhcRMiMoEIFEKRobHBCSMzUvAVYnLRChYkNOEl8RcYGRomJygpKjU2Nzg5OkNERUZHSElKU1RVVldYWVpjZGVmZ2hpanN0dXZ3eHl6goOEhYaHiImKkpOUlZaXmJmaoqOkpaanqKmqsrO0tba3uLm6wsPExcbHyMnK0tPU1dbX2Nna4uPk5ebn6Onq8vP09fb3+Pn6/9oADAMBAAIRAxEAPwDpVil6bV/OpVhlPZfzpgY561MrGsUWxywSeq1ILaT++tNVjTwxpiHi2fvIv5U4Wzd5V/KmBx64p4cd2H50CHC05/1w/wC+aUWv/Tcf9800Mv8AeH50pkT++v50wHfZAes/6ClNqv8Az3/QVFvTH31/OlLx/wB9fzoAU2if89j+lNNrH/z2b9KaZI/76/nTTLH/AH1/OmId9li/57N+YoW3jRwwmclTkciojLH/AH1/OkM0f/PRfzoHqbrMJYNw7iucv4Sk/A+9xWvptwsqPFuBK8j6VX1SHKFh1FD1QlozEs4YJ7qeXewWM+WpB6+tXDbwD/lrJ+Y/wrN0qQxxTJOnlkSkj3HHNXTNEf4xUotgba37u5/H/wCtSC2tyfvP+dNM0WPvio/Pj/vfpTETfZbcd2/Ok+z2/q350wXER6P+lHmx/wB79KQx/kW3ofzp621v6H8zUQmjz979KkWaLP3v0NFxkotrckfIf++jW1BHsiVR2GKyoCkkqqOckDGK3VXApwCSGkU0rU22kK1TYKJUde9VZBWg61VlT1qR2Mm4HBJ9KyjGrSHcMitm5U7TxWLcXEcEuHJGfbNSxWFMcI/5ZimlY/8AnmtM+1RnkBvyphnT0b8qQEmE/uClGz+4BUBnXPRvyoNwv9xqYFkbP7gp2R6VU+08/cani59EagktZHpS7/aq32g/88z+dKLhscRH86ALW7uaM+lVftDdo/1pDdOOsX/j1AFvd2Namjj91IfcVzUmoOn/ACxz/wAC/wDrV0miHdabyMZwcelNAalHfik49aKYhaKSloADXHau+7VJznocD8q7DJ7VwN1cPJeTOAMF2IP41nN6FwHqTUgNVRJJ7flUiySe35VmWXUNTKTjFUkkkz1H5VMHl9f0pgXBTxmqivLn736VIGk/vn8qYiyKWq2ZP736U4b/AO+aYizSfSoBvzjcaXa3940XET/jRzUG1v7xo2N/eNMCeg1BsPqfzo8s46mgCb8KSovL9zSeV7mkBLj3pD161F5Xsab5XtQBIfrSfjUflCmtGBQA8gPIq++TVZsS3TPngcCp0UQwvJ3PAqskXrSGWFQAkls5p+R6j86iEQ9Kd5PtQA8keoqSIjOAai8s9KkiQq2aaGy8g4qwiVDCM1djQmtSLDkj9qtRxZ7UsURNX4ohiobNYxueaW0kj8l2P41oxKxHU1z2nak74XCAj2rfgupGA+5+VOxnctLET2NTLCfQ0yOaX+8v5VYWSb+8v5UCFEB/umni2OfuU5XmP8Y/Knhpj/y0H5UAMFqf7lSfZT/cpf33TzT+VLiXGfPamIQWjH+CnfY2P8IpQsv/AD2el2yf893pgM+xH+6KQ2Tf3RTirn/ltJ+dNMbn/ltL/wB9UCGmyb+6KabE/wB0U4xt/wA9pf8AvqkMTf8APWX/AL6oAktYGguFfHsfpV28AdCO+KzPKb/nrL/31WlCWltsFjkcU12EzBhtWa5kUY4GQDUxsW9Fpt7EYbhWJIHQkHmnGEj/AJay/wDfVSVca1g/tUZsWz2qXyT/AM9JP++jTDCT1eT/AL6NAxBZN7U8WR9qZ5H+2/8A31TlgP8Aff8AOgY4WR9BUi2RHpTFg9WbH1qdIADxn86llIs2lrtmUk9K1VWqdnFgk1oKOwqk7Irluxu2kK+1aVrYmXlxj61d/s9CMcVFpPYvnhHRnOMpqvIvat2604qMrWRMhGQRU8zTsyrRkroxrlMZNc7fQh3zmupuk61zt7CC7EjPGaq5k42K0dsNo+YU7yF7utNSMEY2in+UoPCj8qaIYnkJ/fFJ5Kf31p3lD+4Pypvkg/wj8qZICGL/AJ6LSiOIceYv5ikES5xsB/CniIf3R+VAhQkI6yj8xShYf+eq/mKBH22/pS+X/s/pQA0rB3kH50xvJH8Y/OpfLP8AdpGjYjG2gRQn8gA/PXTaQNtngHjI/lXOzQt2Wuj0rIs8Ed/6CmBfzx70ufemZpfzpgPopufelBoGNlfy4nfptUmvPx9DzXdai5TTLoj/AJ5MPzFcOFPSsqhcBy/Q1KuPSmhTUqIazKJEx/dNTA+xpkaGplQ561SAVTz901IG/wBmhVIp4QjnNMQgJIztxTgT/dpwT3pQmOpoEN3HP3R+dGW64FSBPejYPWmA3J9BRlvQU/YPWjaB3oEM+b2pMt7VLtHr+lJtHc0XGR5b2oO72qTZ70FB6mgRCd3qKT5vUVLtFIVHvSGQnd6imMGZgM9anKj1poCqWb+6KYivcnMixg8KKRQfWgfMxPc1MkY6mkMQA+tLg+tSBBTggoGRYPrUiqc9aeEFSxoD2pDsWLUZ4rUhjzVGBQGAFa9vGT2qlLQaRNFFWhaQea4HYU23ty7BRWzBAsK4HX1oUXJlSmoLzPn28shZ6issQ2wyngDsa3rOLKg02aFbiFo26nofQ1atNiRKC3PfiqTMC7FEoFW0iWqqSoMc/pVhJ0x1P5UwLCxpUyxp6VXWdPf8qlW4T/apiJhGnpTxGn92oRcJ6N+VOFwno1AiYIn90Uvlp/dFRC5T0ag3KejUxEuyP+6KCif3RUX2pf7rU37Uv91qAJSkf90U0on9wVGbpf7rUhul/utQMk2p/dFOjwp4GM1XNyP7ppDdKP4W/OgRHqcO9CcdqbYus1qhYDevyt9RVx8TQbhzkVkQTG0u3iIyJOR9RTY0aRVP7opCif3R+VQ/ah3Q0hux/cP51IyUon90flShV/uiq32sf3D+dOF1/sH86QyxhQegqVAPSqouAf4f1qaObJ6YpMuJpW6ZGAOtdBZ2KQoGcAuf0rI00Bp4s9MiulrSKFOT2QUUUVZkIQCMHpWFqdoUbcBwe9b1RyxrNGyMOCKicVIuE3FnC3KEZBrEvsRuOPvDFdRqEBRmU9VrmdWUCEP/AHSP51jax0SaauQRxjHAFSBPUUqvtUEKOlNaZgOAKpGDAp6AU0r0phuHxjC1H57+35UCJhyOD0pwz0xVfz3PXH5Uec47imInGSPTmnAH0qt57+1KJn7H9KAJckgGkIPWo/NYd+KTzGz1FAiOdGKKR+NbGm8WuP8AarLLOwIJ69q1LHi3A9SaYFvvSg0wUuc0xjgacDUfenCgCnrL7dJnA7gD9RXIqK6XxBJs09F/vSD+RrmgxzWNTc0hsSKMYqdBUCnPepoznvUIZYQcVKq1En1qVVzVWESAU8CmAYPNSDr3qrCHKKdg00Y65pdy+o/OiwC4xRg03zEHBdfzo82MDl1/OnYVx+OaP1qM3EI6yp/30Kabu2HWeIf8DFFgJu9LVf7ZbdPtMP8A32KPtltn/j4i/wC+xSsFyc0d6h+12w/5bxf99im/bbXP+vi/76FFgJuKQjvmovttrj/Xx/8AfVN+22xGRMp+lFgJTxzUM5xCqD70h/SmNdQzyLFHISW9AahluoPt2Gc/u/lwFJx+QosCLSRBB61KMdqr/bbf++f++T/hS/bIP7zf98mixVyyBRkVXF3D/eb/AL5NL9sgH97/AL5NKwFoc1ZiRe5/Ks9b2HsH/wC+auQ3EbdnH/AallI0rcDI2r+dbVtGcAms20ZNowjZPqK2bYZxkUR1djVKyua1jCFTeRyauUyPiMYp9daVkccnd3PFVb1okmECmTazDjIQZNRhuakGGXB6GsEaEsdyzci3m/FaspLIekEn6f41QF2lvhJplQ/w7mxkVYjvoT0uE/77FMReWWX/AJ95P0/xqRZJf+feT9P8aqrdxn/lsv8A31UoukP/AC1H50xFoNKf+Xd/zH+NPBm/54N/30v+NVluE/56frTxOn9/9aYixum7W7f99L/jR+/P/LA/99r/AI1D9oT++KXz4/7/APOgRNibvAf++xSZn6eR/wCPr/jUBnj/AOen6GkM8ePv/oaYExM//PA/99r/AI0wmf8A59z/AN9r/jURuI/+en86abiP+/QMkLTj/l2P/fa/403dP/z7n/vtf8aiNxF/eP6037RH2Y/kaANXT5XKukiBe4+YHP5VR1SIowlUcryKihvUjmRt54PPHatO9RZYcjByOKe6EZYlmYBktyVPfev+NIZLg/8ALv8A+RFqqsyQFonbGDx9Kf8AaY+zH8jSKJi8/OLf/wAiL/jSiSYdIR+MgqsblPU/lSfaY/X9DUgXhJPkfuB/38FTxzS/88T/AN9r/jWal1HnqfyNTx3KA9f0pMpHT6bcEbWIwVOcZ/wrro5FljDqcg151a3gVgQ1dLpmqbVAzlCeR3FVGdtGVOF1dHR0VHFMkq5RgakrUwCiioLm5SCMkkZ7Ck3YErmFrO37RJjHTn8q43Vg5sJywUlVLDB9BkV0epXWdxJyWrnbqQSxTLnqvTFYN3Z02srMzLeW9mgRwLZcjuzH+lK4vP79r+bVUt7kQJ5TFiAeOKmN2pHCtTRDF23YHL23/j1MK3XXfbf+PUG4GM7GpPtA67GpkBtuf+etv/3y3+NOCTnrNCP+AH/Go/P/ANg4o+0eiH8aAJVjm73Mf4RH/Gl8mTJ/0v8AKIf41ELg/wDPM0v2g9fLP50ASGCTH/H6w/7ZLQLdweb6Qj08tefxqM3B/wCef60jXjD/AJZf+PUCJvs8mOLyb/vhP8K2rP8A49wQe5rmG1R0bHkf+Pf/AFq6a0/491/GmgLIOaXNNzzRn2pgOFOBxUeaeOtAGJ4kw5t0PTluuPT/AOvWIsajt+ta+vNuvIl9Ez+prMArOW5a2ARqeg4qVIUHY4+tCCplGeMUkh3FWGP+7UohjIxtFIF9KmUHvTsTci+ywtwY1x9KBYWw/wCWK/lVgCnDiqQiAWVv/wA8U/Kl+x25/wCWKfioqelFMCv9itv+feL/AL4FL9jt+ggjH/ARVjBpMUwK32G27Qx/98ij7BbD/lgn/fIq1RSEVRY24/5ZL+VOFnAOkS/lU9FAEH2aH/nmv5UfZ4h0QVN2pMUARiGP+4KPKQdFFSc0YoAjCKmSqgGohBGCSEHJyasEU2gZH5a+gp3lr6Cl60vSkAgjX0FKI19BSinCkMVVGeFFX7dVXGQCaog4qzC+D1pNFxept2xA5NakD4xWHBIeOa0Ipsd6iLszbdHRW90u3DGrIljP8QrnVuPen+ecferb2qMnRPMu9OU84pCKSsyCDVbJb+zZR/rF5Q+9YmlyD/VyNtZTgg9q6ZSKwtYsmhuVvYR8rYDj39apMRswCMj761ejSL/noKyLAPIinHWtmGBiMnFMTJ0SH+/UypD/AHz+VJHbv7VYS3b1FAhixw/3z+VPEcHdz+RqYWrY7VItq/qKYFTy4OzH8jSeVb/3m/75NXfsj4xuFH2Rs9RQIo+Vb/3m/wC+TTSlv/eb/vk1ofY29RSGyP8AeFAGcUth/E//AHyf8KZstv7z/wDfJ/wq81qVPDgmoTaTnoEH+82KYFUi19X/AO+D/hWpayJNa7FOdnHIIqibO6/6Yf8Afw//ABNTWsdxDcLu8rY3DYYk+2OKEBm3sEa3YMgOw8H6UCO1UAKX4/2D/hV/VYMoSB2qnbxyXEIcPEO2DnND3HfQZttccl/++T/hSFbbjl/++D/hVr7M4HM8I/D/AOvTDb45N3EP+A//AF6QIhUWw7v/AN8n/CpQbYdN/wD3yf8AClEI7XcX4L/9el8sAZF3EPqn/wBekUmSRyQDoX/75NXoLhFOQWB+hrOAHe6j/wC+P/r1IjqD/wAfS/QL/wDXqWjRSsb8GpFDkE5+laEetyY+9+YrlkljHWcn8qmE0YGRM36f4VOq2L917o6R9acj74/Ks64vy/JJNZhmQ9Jm/AD/AAqJ5UxkyyD8B/hRdvcPdWw+4uFbOQx/Cs93QkgBhkdxTpGjb+Of8AP8KrkxhgR53/AgMVSVjNyuZDlQ+CjfUVOjRY+4xqtciFLkq8crEn+Fjj8s1YjjtCuPs9x9TIw/9mppENkm6L/ni5/L/Gk3xnpC/wCYpDbWj8G1uCP+uz//ABVNNlZk82c34zN/jTJHF0H/ACwb8xSBx/zwP/fQpp0+xBwNOJ9yx/xpwsrMcDTk/E0WAXzR/wA8P/H6DMO0Cn/gdKLW3QcaXDt90B/pTvIg/h0y2/79r/hQFyFrlUPMaD/gdV5L6EdfKB/66Cr3kxpyNNgGe4jH+FIyAdLKHH+6P8KYjHe9iaZQDFkkDiQZrsrXIt1z3rnJMq6qLNVOR8wH/wBaujt+IEHtTBE2TS5AptHWgY4frThzzTAeacBQBzmqMW1CQHnbgfpVZF7+lWL1vMvpiOm7H5cU1FzWb3LQqKamVe/pSomPrUypjpTsIaqEVKqU5UNSBCKdhEYXvShamCAetLs7UxEWDQFz7VLtOaNtMLjAvFGKfj8KCvegCPFJgVIV70m3NADMUGn4PrSYoAZiggU7FB60gGEUmKeRSEUAMI70mO9PNNoAbijFO+lJ2pDEApwpOnSlHWgaHipE4NRA08cUhlyObbVlLissSEGnrKSwA6mpaLUjZjnLnrxT5rkIvXFUkby46oXN0ZHwOgqbD5jGIzTKkIppFUZiKeac6LLG0bjKsMGoulSK3vTQhdMgMMZRiPlOPqK149qgDI/OseRiiGQAtjqB1NWYRJIiusfB56incLG0jKP4l/OpkZP76/nWUkcx/wCWY/Oplin/AOeX/jwpisayyIP41/OniRP76/nWUIZx/wAsv/HhUggnI/1Q/wC+hTJsafmx95E/Ojzo/wC+v51nCCc/8sx+LUG2nx9xf++qB2NAzR/31/Oqt7fx2yZdvoB1NQFWtYmkcDeeFANZ8ljcSNvkCsx7lqQWLEN3Ne/deOCP1J+arYhtxy9wZD/tPWWlncRn5Qv/AH1Uwt7gjIRR/wACpgy/ts+xi/Fs0xo7QuDiA4+lVfslwf4U/wC+v/rUhtLgdo/++v8A61AWNGYCaAlSDnvWVZ+Qly8M8cbZ+ZS6jg1oWUcsaOkm3a3TBz/Ss3UozHIsqjpTe1xI0NtnjgQD8AKaVsifuQE+6iqq2c7KGHlYIz94/wCFIbK49Isf7x/wpDLWbUcARY+gpQbYHOIR36CqP2Kfv5Q/4Ef8KUWdwO8X/fR/wpDL5kgAwGjx+FJ58A4Dr+FUDZz46xn/AIEf8KabScDkxf8AfR/woHc0ftEP95TSi5i7MorN+zTj+KIf8CP+FL9nn7GI/wDAz/hSsO5o/aoT/GPxFI1zCP4/0rPNvOP4oj/wI/4U37POeSYv++j/AIUWAvm5h/vCoZpomU4YZ+lVvs8x/ji/M0020mP9ZH+dMRnSuqaiqNxvHWtSOWJVHzfhisbU0Zbq2YEZBK57c1ejhdlz5kY/GgTL32iE9/0pv2qIHv8AlVb7M3/PaOj7Nx/x8oPw/wDr0CLBuYSc/N+VH2qP/a/Kq5th/wA/K/8AfP8A9ekFsf8An5X8E/8Ar0AWftMf+1+VH2lOvzflVf7P/wBPK/8AfH/16BbjBzcg/wDAKBWJfPT/AGhikMyHghqYIVzzcf8AjlHkKP8Al4/8coGI+18HkYrUh4hTHpWYY1ABErEj261qxjEaj2poB/bqKBxSdaWmAueeKUHHt9ab2560krbInYnACkk/hQBzhy7FvU5NWI071HEMnpV6KP257VCKBIzxUyxnsDUqx+9SrGaqwiIJ3xT9gqcIOmPrTtnGKZJX246UoU1NtowB1oAiKnqaMfhUu3060m2gCEijbUpUDmm4oGRFT2ppFTYJpMDuKAIsUhGOKlx7Um3igCLFIQKk6dRTTQAzHpSU/GBxSEUgGEU0innpTTxQA2kp1Nwc0AFJTsUnSkMUHFG6mn1phPpSKHlh1q3aJz5jdulUokMkgA6d6vTSrDHxxgUANu7kqNo6ms8vjimPIXYsT1pmaQxDSHmnUlSIhYU0HmpWFQng5pgTK2ain1CHT1U3EzRoxwpwTz+FNEgFMuoor21eCQZDD8j2NNAWodatXAK3LEf7rf4VYXVICP8AXN+RrirWaSyma1mRd6ngmtmK8GP9XHVCOiTU4ccSMfwNTLqUPeRv1rCS85/1UP5VOt4f+eUP5UEmv/aEXaRvyNH9oRE/fb8jWaL09o4fyNWbSdri7ii8qHDOAcLzjvTA0dRkEMMCOT/eJqh9ti/vN+VWNWutt6VARtox8wzWcbtt3EcP/fJpASm7i9W/Kj7ZGP735VH9qcj7kH/fJ/xpv2l/+ecP/fJpgSm+i9W/Kj7fF3ZvyqA3Dn/lnB/3yaQ3D/8APOD/AL4P+NAFqPUo45FcFjg54HWta+RZrfcpyrLkH2rnvtD55igP/AP/AK9bemTm5s2jYKGjOMAcYprsDRlpdCFNkgbK8DAo+3Rj+/8AlS3amG4LBVII/iGRUHnydkg/74/+vSGSG9i6Dd+VN+3p6P8AlTDM/wDch/74/wDr0hmf+5D/AN8H/GgCQ30ZPCufwpPtsYP3W/KmrO+Puw/98H/Gl8+Q9Eh/74P+NILh9uQfwv8AlR9uTPCvTPOfPKw/98H/ABo89/SP/vk/40DuO+3L/ck/If40fb0z9x/0pPOfriP/AL5/+vSG4k6YT/vmgVxTqC90f8hSfblx9yT9KQzydtg/4DTDPL/eH/fIoC5Hft51mkqg5Rs89etJFqMXAMcn5D/GnyOz2kuTypBzVGN3DfeI/wCAikBo/bU7Ryfp/jR9sXtE/wClVhLJ/wA9CPwH+FSiWbH+sb/vkf4UxEn20f8APJv0pPtpJ4hJ/GmeZMOkjf8AfI/wpfNn7yv+Q/wpgP8AtknTyf1/+tTJLmSRCpiIB44b/wCtQJZ+0j/98j/Ck82f++//AHyP8KQEoupQOISfxoN7Kv8Ay7E/8D/+tUJe4I5Z/wAqifz8HmX9adgLKak5mRDbEbmAJ39P0rpVPyj9K4uHzftcZO/hhnOa7JfujNAD8nNLTR/KnCmAuRUNyQLaTP8AdIqWornHlBSeGYCkBRt4Ce1aUUGACRT4RBGABnP0qyjIxAwQT7U0gbI1i44Ap4jx2qx5fajZg5FVYVyAJS7Bn6VNsHpS7aAK+2kKntU5XPNN28ZpWERbc0beOKkI7Um3A4oGQlaQjtUuPbpTSueaQyLA9KQgU8j9aaRkZFAEZpufSlDDdgozdyR0A96lNqCRJGAcds/rSbArM2OCKbkGpLgsoUEDB65/pVOPzUbbMV3/AOz0pcw7FikxThSGqENNNxzT8UmKQEdGKdikxzzQA080jGnYpjUDGMabhiCQDgd6jmkMfQgE9GPapopkS4jgLu28E7ic/rUsEW7dBFDuPU81nXdx5j7c8VeuWUJgMQKxAYppJAAS0fIY9z7VJSJgc0vNNQHHNSAGqEFIabnBxS5yKgYhqJ1qWmtTAz5FlJIRc/jikWK+7Io+rVYfKNmpVkOAc00BlXOlXF1KkpRFkXjO7qKuw6VNtB2R/nV1G45OasRyMOAaoRVTTJh/BF+ZqZdNm/uQ8/WrgYjuKmWTPSgRS/s+YdEhP51o6PZsl20rogEak5Ud/wDOaASVwB09+tXYj5GlXEuDljgZ/KgRi3BeWd5CqsCTgkZ4qMxsBnyUI9QKtlhgHaenQdqibj5hmgCJcFlXyo8scDIqz9jP9y3/ADqGXLwnLcYpYpPMiDY56H61SVxCyQmPA8mJs/3e1M2r3tx+VOfOOCR9KjLMONx/OhoY8GPoYE/IVZtZVhmG1Aofg4qkHI4ByfelDngEjNStALmpw5QkDkVWjkjZAfIQ59qvlhcWu44zjBrLjPlyNH0HUU5AifMWOYAPwFN+RukC8d8Ck3dt3600nkYNIY7avUQp+lJlAP8AUqPwFNJPQN/9ek3kcDt60gJCFAJ8hQPpSZTtAD9FFQmR25JNIHb1NMCfKj/liPyFN3oCB5QGfUCojI+MbuDSLIS2Sc47UCJtwJx5C/kKaQvXyF+uBTA57sf50jSNwN3egCO4WRo3RYeSMdqjWGVWG63/AJVZDsckN9eKA77Sc/lQMYofP+pHFP8AMKtjyx+VJvfruxTW+ZskgmgRLvbui0olkxwoAPaogTyd3WgFicdB0osA8vL1wvFIGlcdFFNYEH72R9KFchRQArGU5xgdulMMcjEAOM/SncgfWhcgHJ/WgRC1jIzZFwAR1G3/AOvXQisVdxwc8/StkdOlMaHg0uaYKXNAx4war3RJlgT1Yn8v/wBdTA1XnYG7hHdQTQBdRRipVGOcdKjQ8U/PFUiGaGKQjFPTlAfUUuOaoCPFGKkxSY79KAIsUhGalIppFICIj86T8akII6UmOKAIyKaR61IRj/69NIpDIyB0pu0dKkIzTeKAKzRurEoflIwRSw+dDbBGPmOO44zU+KaeKQzOmgubhwxby1HQDBNPWBmfe+C2McVcphwaVguRFQPem4qQg+lIaYiPAppp54pppDGEe9IRTqaetACEU0in0hoAryRBwQRVRrB1cPDPJGVGABgr+RrRIppoGZrQXjt+9ugUxjCoBn8afFarFwKuEUwjBosFxmwDtSYxT6QikFx2oWRtZcjlD0NUga624gW4jZGHXofSuWuYGtpyjCplGzGncbmmmkBpaQyJxmmAhTg1MahcUDJlz68VOjYOapoferCN61RLLqvuIJGD6Vcs7OW7lKRAcDJJOAKz4hJI37uN35/hUtj8q1Yb640i1maHTL29nYrtRYHQEZ/vMOOtUlcllz+w7jGPMix6ZP8AhViXTJ2skg82NVXliMnvmqlr4jupYQ9zomo28vOUEJcD8R/hU8+twtayLJ5lszIQDPE0YyR6kYqrC1MNieobKn2qIyMeCBx7VHBOM7OCOxByKmbnoRzUjGBtw6Ugby5uSPn6/Wl+72/Wh/nU569vagB7DHeoXG1sD86lVi6ZI57imv0yB0q3qhEQ59s0HIOCaTdknI/+tQW9MGoGXLCY7jE2MMOKr3qeXMH7d6jWUoynnIOau3YE0G4DgijoHUp8E5C849aQnHU1HGwxgg7h6UpkUZBHNIY4HnAPFDDKnGN1RB8Hp+Oad5nHPH0oAFyQDmkx8+M8Gk8wAHrSCTnuaAHMAp6H603b3PPbrSs2eRj86TeOxH50xCkZXGBTVXC5ySaA+e3ShmG75sjPTmgB+4qOxPrTR86+1AfsP5UoI2549qAGsGBGOlL1GScU4OG4Ix6UmR8w/nQAY2jjvSnikAAGSePQ0oIxkEH8aAA9eTmgID1OcUuecZA+lIXHfqPSgBxGPX8aXAx93Jz6U1ySMgAfjQgY8lv8KQEi8tjsTWoCfWsxSPMwSetaO4YyaaAk3+1G7nmow1Bb5fWgCTcKrMwbUDg52oAfrzTy/NVYm/02c56sP5CgDVRh1zUpPGM1VjY8VeEO63WVHUowzVIk0Lf5oVI9KkIqOzObVfbP86nqwGYpCKeRSEUgIyKbj8KkIppoAjIptPNNPHvSAaRmmkU401vSgBpFMIp+eKYTzQMaVppFP70w9OKkBp6U3HHSnUw/WgBppMUpNJzQAw9KaaeeaYaAGEUhp2aaaAE4pKWkJzSGIaaaUmkJpjGc02n0w0ANI5ptPNNoEdJmqWo2YuoSQPnUce9XKQ07XA5BgVbBHIozWxqtjv8A38YAIHzCsTOKyasUtR1MYU7NIaQyBsq2RV/SxFPfQxy/cLcj19qpOuaZG7xSBlOGByCKaeoWPSIpFRQqAKo6AcYqXzM9K53TtUNzDz99eGFaBmimQxyKGB6hhnNdKaMmaDSY61C8oIxWf+5g/wBXFGn+6oH8qabj3obQrFS90yIyefbKI3HJRRhW/wADVL765DflWjJc+/FUJSjOWXncOcetZyS6FLzIyvIIOQfWmjoOMVIRj8PWmnrmpGIpKvjs386cTTMDBGME96eDuXJ4PQ1SYiB1APBxxTD6DvU7rkZB5FQkZ59aTQxkjEHkdat2colhaI9V6e4qoQT6cetLAzRzKQPrQgGSjy5yOeaawOeoqW+APzDrUAOQCORSGIeg9qM8YPWmsxPGPamlm6Z4oEO6cgmlD9yOfSozk/xfhQGz1pDH7u5pwYfhURJzwKQOT7enFAiYsOtGT0zUa9+KCSPYUwJo13cjNOdPLjZyflUFjVNbwpIY0fDFd2NueB/+sUtxczSQyRlhtZSD8oHH4UWAlVw6hkIIPSgux69azNOnLW4BDIeVKt1BBxV9mJx1oAmDnqB19ad5hC5wB9Krhj0xz2NKpPQ0gJd2eSaeGAGeuelQjmlBOMUAS78445p4kXH3jUXbpigbTzgD8KALCOGkUDH3hWiDxWTER5qeoIrR3ZHemgJc0hbiowaQsD3pgP3CqtkwkMjg8M5I/Opie5HFVtPAW3X6UhGhJJ5VtLIOqoWH4DNaumt5/h62k9VJ/U1zurSbNFuyD1jK/nx/Wtrw1L5vhqPr8pK/1/rVxEzXsOYG/wB7+gq1VLTjlZF9CDV01Qgph60+kIoGRmm08imHpSAaaYacfpTSO1ADTTD1p5ppU4pANP8AKmZpxGOoppBoGNPtTSKccUhzSAYaYffNPIx1ppBxikMYaaTTiDTSPUUCGnrTTzTmB7Uwg96AGn0pKUg+lIQaAGmkp2DTQCDQNCU008g+lMIPpQMaaaaeQaQqaAGGm04qaaQaBHQZ5pc1Xt51mTIPzDqKmBpgKcEYI4rn9TsTDJ5kY/dn9K3802SNZYyjjKmk1caOQzS5qe9tGtZtpHynkGqwNY7FgahcdwaZqFyLPT57jOCiEjPr2/XFcCfEGpg/8fj/AJD/AAqoxbE3Y9DgneJw6MVYVsRasJFxINrevUV5SniPUo4xI0yuScAMg/pg1KvjHUVP+rtj9UP+NaJSRLaZ6qbtn+4yn/gVKXYjOa8tXxrqI6wWhH+6w/8AZqnj8d3y9bWA/wDAmqtST0OSRietRIGL5PQe9cQvj6b+PT4z9JT/AIVMnj9M/Pp7fhJ/9alqB24P4Uck8GuQX4gWWPmsZ/wZTUg8f6d3tbxfoqH/ANmpWYzrOeMigYVuOjfzrlh480kkFobwf8AX/wCKqRfG+jMMFrhc+sfT9aAOm781AyZ4zWMPGmiHrdOPrE3+FB8XaG5yL7b9Yn/wqhGqQAcCmH9azf8AhJ9FcYF/H+KsP6Uv9vaS/C6hbj6tj+dSM1JCZLfn7w4qnGfvLnpzUcWt6Zkg6nZ4I5zOo/rUDanYCYMl/aEd8Tr/AI0mBez3NRs4XgnrUX261bhLqBv92QH+tcf4pv7k3qwxOfJCg4U8N65oLhDmdjq21G13FfOTP+8KkWdJBlXH4HNeafbMKQYIiec5jplvq95ZyBop3xn7pOQaNDd4V20Z6lvB7A0nvWZo+pJqNmsoBVuhB9a0c0HM1bRj8jJyTzQ7EDrmmZPTNIcnj19aBE1stuqiWRRvII5GTjP/ANYU+ea3kUoE/NapF2HQ8VVjnllMxDszQvtYYGNpAx078H86q4rDJB5N42OQ+Cfyx/QVfikG0CqDK0sm9qsR8AZqCi2WzzyPxp4bp3+tVw2O/FPycZoAn3ZOadux6YquCOoP4U8N9KBEgb0/nTi314qMMCMA/gKdn8qQEsTDzV5yc1c8zsKpIMMMVOGpoCcPjmk39cVCW9aTdx1p3Cw64Y/ZZsH+A/ypbVtsSgVUvHP2V8E84H6ipoGwq0AQeIZQulCPPMkij8jn+ldD4KlD+H3jzkrIx/P/APVXIeJJgxtYh23Ma2fD0kltpqBHZTIcnBxVR3E9jsdNP7yZfUA1oVj6RITdNk5yp/pWzVkobXPX3iqK08V2mhC33mcDfNvxsYgkLjHPbv3rfmmjgjMk0iRxjqznAH414zfazFd+PbG/adVVtRTazHAEQZQCf+AgUFI9jc+lNPtVA61ph6ajZ/8Af9P8ab/bmlDrqdmP+26f41NwsaB5+lNIqkNb0r/oKWP/AIEp/jSf25pHT+1bD/wJT/GkFi4RTSoqr/bWldBqlj/4Ep/jSHWdLH/MTsf/AAJT/GmBaIzTSp9KqHWtK/6Clj/4Ep/jSHW9K/6Cdl/4EJ/jQBaK0hWqZ1vSh/zErP8A7/r/AI1G/iLR066jb+vDg/ypDsXdtIV96yj4s0Jeuox/98t/hTT4v8P/APQTi/74b/CpGaxWm7Pask+MfD3/AEE4/wDvh/8ACoz418Og/wDITj/74f8AwouFjZKe1NKVit448OD/AJicf/ft/wDCmN458Nj/AJicZ/4A/wDhQOxteWPSjyxWEfHfhsH/AJCSf98t/hTT498ND/mJxn6K3+FGoWRveWKTyxXPHx/4bHS/U/RTUZ+IXhzteZH+7S1A6Qx57U0xjsK5s/EPw8P+Xs/kP8ajPxF8P9rhj/3z/jRqB0+ymmP6VzDfEbw+B/r5P++R/jUR+JGgf89Zj/2z/wDr0ahY6op7UwpXLN8SdBHVp/wjB/rUZ+JOg+tyP+2Y/wAaauB1EUzxOGXj1HrWtFKk0YdTx/KsfINPt5/ILPn5Mhcep7/pTTJNmkpiOroGQgg07NMZBd2yXUJVh83Y+lcxNE8EjI4IIrriaz9TsvtEZkUfvFH51ElfUaPO/F14Y7OO1Uj96ctz2GP6/wAq4sjNbXiW48/WZADlYgIx+HX9SaxjVwVkSxHkh2JG0uwgdD3poWA9LlPyqEOXeR1TJzgH2H/166KLw9qrxq20cjOBIP61ehLMTZH2nT86URA9JU/Ots+G9V/55Z/4ElRnw5qZ62mfwQ1WgrmT5J7Oh/Gk8l+xU/jWofDd93ss/wDAV/oaYfDl8P8Alyb8EP8AQ0aBczvKf0B/GjypP7v/AI8KvHQbxetjL+Eb/wCNM/si6X/lyl/74k/xosFymYZP7v60eVL/AHG/KrLadcDrBMPwYVGbO47rN+f/ANjSsO5EYpf7jflSeW/dG/KnG2lXqsn4sP8A4mkKSDpvA/3l/wAKAuMKsOoP5U01IFm7Ow/X+tL/AKQP+Wrf98f/AGVFguQ4pcVNuuP+e3/kM/40hM//AD0B/wC2VKwXIsDHIFAAHTilJm/2D/wHH/stNzP/AM8oz+OP/ZaLFJi8+p/OgZ9TTC9wD/x7oR/v/wD1qXzZh/y7D/vof40uUfOy1DdXUAxDdTxL1xHIyj9DUw1TURz9uuvxlY1RE03e3H5j/wCKpftDgcwn8B/9lRyhe5ojWdTXpezfic07+39WBz9sb8UU/wBKy/tH/TB/wU0hukxzDJ/3y3+FLlC6NX/hItWH/L3/AOQk/wAKF8SaooYeeh3df3S8/kKyftCYz5Uv/fLf/E037QneKQfgf8KLCNtfE+or1MLfVP8AA0//AIS3UB/yytT9Ub/4qsA3MPQkr9aabi3/AOeo/Mf40+VAdEPGGof88bT/AL5b/wCKqQeMr3GGtrf8Mj+tcz59v/z2T/vof404SwHpMn50uVCOpTxpMPv2UbfRyP6VKvjZu+nA/wDbfH/stclvj7Pn8DRlPX9DRyoLnYL43CnnTf8AyYz/AOy1InjeH+Kwf8JAf6VxnHqPyNKB7r+dHKgudzH42swPmtbnPttI/nVhPG+mk/PDdL/wFT/WvP8AHqV/Ol4/vL/30KOVAejL4x0h/wCOZf8Aej/wNSf8JXo3e6b/AL9P/hXmuB2YfgRQQfelyjPQ7nxPpDoqre/xAn9zJ0/75qzH4o0YYAvl/wC/b/4V5iVf+635VYZVFtARjcVO4Z5B3HqPpijlA7LVtasLy9jaG6jZEj25ORzk56/hWxbeKdEto0ja/UFByBG5GevUCvLTn0P5UyUn5T6rTSsLc9qsfG2lRSA2tzHNKQQqYYfoRWqvjKVuRFD+R/xrwnR5fL1e3JPViv5gj+td1DcEDB7UnLUfKdD4r8WST6HNassCG4ZUXrk/MCcc+gNeR6xO7XbKkhRkAUMvUd/611Otz2spgEqs0qMXjOSAOCCT61w8khmlZyRljnrVLUVrCZvT01O5JPbc3+NSSw6nAwWW9u42IzhyynH51NZXX2G8huQEZomDBW6HFauveIDr0sTG2jgWIHAVsnnGecDjj/69AGJ5Wo+SZjd3TR5xuywBPpnNVSdWbrNKf+2//wBeurXxKf7BOmtaIzbPLWXfwBjH3cdfxrFXcOgoGZu3VP8AnpJ/3+H+NGzUz/HJ/wB/R/jWnucdFB/HFBBoAzPK1P8AvP8A9/R/jSGHUz3f/v4P8a1Oe9KDSHYyfs2onrn/AL7H+NL9iv29PxYVsAk08A0XBIxl029J6J/31Tv7JvT/AM8/++q3Bgdx+dPDoOrqP+BCpbKsjB/si7z1i/76/wDrUf2Rd/34vzP+FdAZIh1lQf8AAhTTJD/z1j/77FCkwsYB0q7H/LSP8z/hSf2Zd/8APSMfif8ACtxmi7SJ/wB9CoyU7Mv507isY/8AZtx0MifkaP7Nm7yL+VaxI9aYSPWgDM/s6Uf8tR+VSJYlfvSA/hV0ke9NJ+v5UXApvZFznzQPotM/s9h/y2H/AHzV7Psfyo/A07iKP2Bv+e//AI7R9hYf8t//AB2rv50nNFx7FP7Af+fj/wAdpP7PJ/5b/wDjtXM0ZouK57qz7FJIxj1oZsKqAj5Qc+5PX+n5VtXVu7Lgsrj0Zawbom3OCmB7dKlqwkyzaXv2d9pB8tjz7VsgggEHOa5pZBIgbgqau6feeURE/wBwng+lAzYz61V1K8Ww0y5u2AxFGzAHuQOB+J4qwT6Vx/xB1E2+kxWS9blst/urg/zI/KmB5jIxd2djkkkk+9QTPsjZvQVMetVpzl0T1OT+FUSXNDshPqFvBjKlwW/Dk16kiDbXG+DbLdcSXJH3AFH1PWu5VamQERUelGwGpigpNtSIjCA04Rin7RRt96Yhvlil8tT1p+Pej2oAj8sZ4o8sfhUgFLigCHyFYZKg/UUw20Z6xr+Qqz0oxRcCmbKBv+WEZ+qCoW0qyf71tF/3yK0sUFc9BRdjMhtD04/8ucR/4DUZ8O6WRn7HF+Vbe3v0pNuT9KV2FjCbwzpZ/wCXRf8Avo/40xvCulHpbEfSRv8AGuiCcYpQnpRzMqxzR8H6Xn/VSD6SN/jTh4N0w9FnH/bQ10wi9qmSLvS5mOxyv/CE6cf4rkfST/61MPgSzbpc3I/EH+ldqkANTCEY6VPtGUonBn4f2p6XlwPwT/Ck/wCFeW5/5fZvxjWvQVhHcU8QCl7Rj5EecP8ADeI/d1B/xhH+NQP8NyBldQz9Yf8A7KvT/J9qY0Oe1P2jDlR5U3w8nXpfof8Atkf/AIqoj4Bux0vYj/wFq9Se3A5AqvJAAc0/aMXIeYN4Gvx0uoD/AN9f4VA3grUTnL27fUn/AAr0yUKoc9NpAOfz/lVS4niiZQcZYAj3H+c01UZLiebt4J1HulqfxH+FQv4N1Ff+XeA/Qg/0r04+Xxhhk44zTQFPIqudk2PLG8I3/X7Cp+mKhPhW976a59x/+uvWfLGMnpSbB7U+cVjyX/hGr1Omm3A+gb+hpDol6vWzuh+D/wCNetBBQUHpRzgeQnS7lesFwP8AgLVG2nzDqJx/n6V6/sBUH2pNvHGafOB48bUr94yj8v8A4mm+Tj/lpL+a/wDxNevlMnHPpimvErLyN2B0NHOB4+Y2PSVx+AqSRQjbVJIHTJrtfFlsq6akgVQVk7D2rjCKe40MjlNvKk4APlMHwfY5qZtWl1Nn4ZueAIxhB+JqNlGxg2cEEcVb1Hwpd2kzrZIZ7XqMygMOBnOcDrnp2pWRSuU0j1BJ1CRQFc8O+Fx+tVvscfVlyT15p0enXkF15csSqRgkEqT69jVqNCq4c5YdaaYmimbVVGVGKtQaVPcIHjtppFPdIiQfyqVwNn0NeqfDwLLoewgfu5mXp9D/AFouJ6Hlw0K6H/Llc/8Afk08aNek4Frc/wDfk19CizjbkoPypRZxr0UD6CgnmPn0aHfn/l1uf+/P/wBalGgXx/5dbn/vyP8ACvoD7Kg6AUn2ZR2oHzHgI8PX/wDz6z/9+l/wpw8O6h/z7XH/AHwn+Fe9fZk9P0pTbqKV0HMeC/8ACN6kekFz/wB8p/hTx4Z1M/8ALC4/JP8ACvdvs65oFuvpSuNNnhi+F9T7RXI/BKlXwvqbdY7o/Rh/Q17d5ApDbr6Clcd2eJjwpqJ/5Z3Q/wCB/wD16UeENRbnbdf9917X5Kjov6UhgX0/SldDuzxU+D9SH/LO7P8AwM0DwbqLdYbgf7zH/CvafJUdqTyV9P0pcyC54yPBWo9opP8Avo/4Uv8AwhOo9DG//fTf4V7IYV64o8lfSjnDU8b/AOEH1EniN/8Avpv8KP8AhBdR/wCebfm3+FeyeUvpR5S0cwanjf8Awguo9oz/AN9NTf8AhBdR7xj/AL6b/CvZfJHoKQxL6Uc6HqeN/wDCC6j/AHF/Nv8ACl/4QXUf7ifm3+Few+UPQUhhHpRzhqePf8ILqPon5n/ClHgbUP8AZH5168YV9KYYR6Uc4rGtcHA/CsO+OQQRnita5fArCvJODWstiUVLc4VkA4U/zqYA9e1RW42xZ/vGpgAenGKyKL9nd/8ALJySf4Sf5V5143vjd+IJIwcpbqIx9ep/U4/CuynkFtby3DHKxqWP4V5ZPI00ryOSXcliT3Jqo6gyE9c1WX55ifov9TVhztjYmnaZbNcXMMOPnkcL+JNWSeheGLT7NpCMR80pLn+lboBxSwW6xQJGowFUKKftxWbd2BGRSVJikxQIj5o+tKaO9ABkUUY9qXFMQZoFGKXBpDA9etGKXGfrShDigBuKcBnmjBxgU4AnFIBuM9aUAenFOwcZp2M0ihoA9KeE5pyrxzUqpUtlJCLH3xVhI/akRM1ZjTpxUtlpAkdTpF7VJDEXdVGMkgVsR2UaqBtDHuT3qGy0jIEdPEda/wBgB5CL+VI1iCvAw36VNx2MkpUbqAMntVyVDFu3A/L1rntc1iPS1M+RIipvdFYbgpONw9Rz+YprULDbzVrS1ufIlcKcZz684rE1XxDBp84WQ/LIGMYOcZU8jOO3P5iuJ8batBemK7sZSSOSc8g8c49fp/dz3ri5NYkmtnimJfABU55Q56it407mbkdnqPi+S3uJwj+ZFsOMc4yvP6Y/Ksu78XyvcRXC5fy1VWUt8ue49x1rlBcM/wAztkE4b2qAOcSoeDsB/EcGtVCxDZ1MXi25SeGYFi4BLZb72SP6DH409fG93DICqZXjK5wOua5GJuE+v9RQ3Vz6c1XKhXO3n8d3EzRuE2KpAIU9Rxn8TVhPHMudzxDZ6huRx9K8+jYk4J6g1I7FU2gkfLS5EK6PQ4/HHnyJHGpAOcnHU9v84q7f+KU8xREWVV6kjg15UtxLb4Idg2c5yakW7kY+Y7EsOBz0FLlHoeuw+I7Nw67yWQ7WwDgfjU0WrxNIoyCT05ryNrl4ZMlyQh/OrthrYhZS2cg59c0uULI9gRwVznNDMAvPU1w+neKJZAEYswHYYA/En39u9bsGsCdVB++c8t0/DuaVhcrG+J13aDKcfddTXAY4zXoWtYn0S4QEEkDHPU7hXBNGyrzVxERAetd27iawjcH/AFqL+uK4YjFdVHcEaDbyBseXCxH1Hyr+tKRaMKWX7TqvmA/K8ox/u5wP0qvMMSn3ApNxVgw6jmrF8mycj0yP1rOD1NKiskVPavS/hnODFeQ+jq4/EEf0rzPvXd/Dacx6rJCT/rI8/kf/AK9asxPXFztoIoTlQaUigzG0008gUlIZGaaeTUmKaRUjG/SilwaPakMSk+lOxS4pDsMxSEU4rjvQQaTHYjwetIRTzTaQ7DcUUpNJxSATFFLR70DExTTTqSgBtJinGkoAYRTcU8jjpTSKYC3kmOh7Vz90xZsetbF6xANYuC8/TpW0mQiRRgADtSj1PGaWNTj3pdmRjNZlGF4ouxBpTRA/NMdv4DrXBtXR+K7gS6ikIPywpz9T/kVzh5NaQQmQT8hU/vHB+neul8GWJn1VZmHyxAsfqeBXMkeZP9Bgfj/9avSvBdj5OlPcFfmmfj6D/JqnsI6VV9aVlyM04U4isgKxFJipHXHIqM0CGEUmKU5ooEJilxzSjGKAOKYCAU/HNFGaQCgUlLnij6UABHHSngccU32p46UhhtpwFJUgHGKTKHhakQU1etSrUstD0XtVmNaiUc5qygqGy0iWMVr2t6oAEwOf7wFZiCplFQ3Y0tc3VurUr/rB+RqOS5hA+Qlj9KzY0LVZ8sqm4g4HXjNDqPsTyJGB4h1Q6VZm+lQtCpAlIH3cng/TtXk3i3U01BWa3uDNbozMjo3zLkZIIPv2xzgc+vp3iC6hvbK5tYf35AYSwRspdsAkptPzb+MjaD93kYrwDV4ZNNuSYZUkQ8Fomyh9vXj3AIPFXSVwnoZ0shEZJPy4BH0PX+tZk48uc8ZVhWgv71WUNnPzJkdRzkfn/WqciDlCTxxk9Qa7UjmZGi7fMQ91/UGmAkyAnqwKmpGyH+bqf59D/SoVOZMe4P0IpiGxk/uz6E1Jkcn1P6VEP9X+J/lQzYAx/doAcP8AWNjsMU+ZgznB4poxuc/7OaY5+X8KAC5JLK3qM/rSRcyxr2yM0SnKRjuF/rRFw249c8UhDp2JAJPLEsahB560shJb6cURIZHCgE5OKANG1ldI8KxC9etXbXVXiyAwYE8kDkmsqdgGMSHI/iI6fSq+9geDihormO2g1ea6Xyi4IxyAcnHv1/lVV98u9znAzgE5Nc5FPLFt2PhjxkHBrWtLp1XDzZLfX+dSMmbI4PWtY3ONAji4yzFOnYHcf1YVmOA43Agj2p5djbohPyjLAfXg/wAhUyehcF7xGauXx8zyn/vqG/MA1TJxVxwX02BzyQP0yw/oKyhua1VoUiMGum8ETmLxJac4DlkP4rXNFec5rW8PTfZ9bspeyzIT+Jrc5j32I5TIp5FQ2zAxipzSIGkU0ink0w5pANNIaUmmmpGJRSUoOKBmjp+mtdksThAcE/4VsJpcCcLGpPqeaydO1T7GSjqGQnJx1rXTXrEDJWQe2B/jSSuVexaS3MfA4qjqlrbfY3keNA6jIIwCT6e9NuPEsewiCBt3YyYx+hrDvNRnvGBlfIHQAYAoaSBMqsPmphpSc0wk1IwPaik70UDFpKKM0gCkozRQAntSGlNN7UABpppTTTQBZ1bTZIcgqelYKWzKMk4JNena8bf7M+9l34I/GuDuNhbGRxWskC1RnlGC9OPpUMzrDC0rn5UUsT7VcdscetYHim7FrpLRg4eY7R9O9IRwl5O1zcyTv95zmqbnahNTN0qpdH5VQdW4/OtUIdZRNNKigfM7cD68CvatOtFs9Pht1GAi4rzDwjYi+1y3UglEO9voOletCMemKiT6AiLGBSVMUHWkMY9agCu3NQuuKtmL3phi96YmU6M44qVoWB45FNER9OaBCD1op/lkdqQofSgBBSc0u1h1BowfpQAuKBSYyKUDrSAUDkZqQYFRgfpT/pQNCjPpUqdcDmox609SRUjRMg96mWoF/nUy1LLROlWI+1VkqxHUM0RbSplrNk1bTbaUxXGoWsUi9UkmVSO/QmlXXtH/AOgtY/8AgQn+NZNo6Y0KrV1F/czdtxzWzvEFnvjjMhAztUjJP4kDNcnF4i0Zemr6fn3uU/xrjvF3xClsA0WkTRXMjKeYzvROmD93k9e/1FOnUUSZ4StL7L+5nMfFGWT+0Dc29ve2RiKhiVPkg/wkN1DZDceucYIOfM59YmnuP9OAJfI8wAYP1xwa2NV8Qa9qSiOfz3ReApjYjGc4z1xntmsGS2vCWZtPbD8ny1Yfp0/Summ4rdkTw1bpB/cxjIYWBjPy9QDz+vekk23CeYnEmMEetPSzuAuFtLhVPYqT+mKmh0u4Y7mjdAfVT/8Arrf2ke5l9Vr/AMj+5mfzJHjuO/8AKoiG87cq5z19q6EaQyA/KdxH8IoGkEnlSRnv2/z/AJzR7SPcPqtf+R/czmzGRkds5ppQlF9hXWtosbAK4xxjIPSoH0EgEcHHoc0e0h3D6rX/AJH9zOX5H4jFIT92t+XRJdhwjZB9KoyaPdhflt5D9FNL2ke4fVK/8j+5mcxyyj2FCt8/sAcVabTL0MMWk/T/AJ5mmjTb4H/jzuP+/Z/wp+0j3F9Vr/yP7mVDzVxMW0J/56sOf9kUiabe7stZ3GBz/qm5/SlNhfyPlrS456/um/wo549xfVa/8j+5kKACPe3fpUYBHWrv9n3jyKPsdwEX1iP+FKbC8aUH7HOAP+mZ/wAKOePcf1Wv/I/uZTOVXJ6mpIWI6fiamlsL0sMWdwQP+mbf4Uz7Bff8+dxj/rk3+FJzj3H9Wr/yP7mbNmweMKGz9KtupWNSRjqP8/nWNa29/CR/os//AH6P+FbaJO9sA0MgbceNp7gf4VnOcbbmsMNWv8D+5ldqvxEvpJH91io/MH+tUnjdMb0Zc9MjFX7DD2cyY+62fzH/ANjWcHqOrGUbxkrMz6t2jmNlkBwVbP5Yx/WqxGCR71Ytk3bgO3P6Gug4z3/T5A9sjA5BUEVd7Vz/AIWuDcaHaSHvGB+XH9K3+1BAhpppTTDSEBppNKTTDSGL2pKTvSZpDHZpNx9KTNIT3pDFJNITSE0maTGhc0hpCe9ITSGBNFITRQMM0tJRSAKDQfpSYpDCmnpTqac0AJmmmlIpDQBXOpy3WXc57VEDuJJOc1AqiNAijgfrTvmHQde1aWJbH/SuH8Y3Qk1CK2U8QJ83+83P8sV2ks6wW7yycKilj9BzXlV1cPc3Mk0hy7sWNXFXYrkDHJqk58y5yD90f/W/xq07YUt6Cq1qu9tw/iPH+fzrQVz0j4e2Yjtbm7YcswReOwH/ANeu33qfWsrw9Yf2foltCR823c31NaZFZSepaWgFh3pu4etHFNK5NSJocSMdaacUFeeKYR70xAwzTAMd6UiozmgQ8jNJg0zn1NNJPrQIlpDjmotzetG40gJOKOvao9zZo3mgCZRkE8U7HFRByRyKdv8AagZIFBp4AqISACnhwTUlIlCjFSr6VCGFPVhnNSykWU61Yj6VVRhVhGqGaI43QtF0/WNf8Qfb7fzvKujs+dlxlnz0I9BXRL4J8On/AJh//kaT/wCKrL8IH/if+JP+vof+hSV2SmuanCLjdo9/M8biaWJcKdSSSUdE2l8KOH8VaL4d0HRpbhNLkaXHylZnwD6klv6Ht6145Nq86udrxrzjacHH616T8VNRRJo7UtlimTjuM8Dg4x+FeODyd5LszZJIAz/9bFdVKhBrVI82eZ4xbVZf+BP/ADNNtWvs/LMp9goP9P60q6hfswHnuSTjAjXH8qoIzvzEqohOM9M/410mg6UXkV3+Yn161v7Cl/KvuMv7Txv/AD+l/wCBP/Mn0+1vZlDSzlgTjG1R/Sup0/w49yu5whU+jmtnStGVQjyL83YZrpYkVU2A8Y6AZqXSp/yr7jWOYY3rWl/4E/8AM5VfCdqfvI4+jdac/hSzAzt49mbiusWM5BAxSyR7uf8AIpeyp/yr7i1j8Z/z+l/4E/8AM45fC1qGJZCQfc/41L/wi9hz+6P/AH03+NdIyDpSbMdDU+zp/wAq+40+vYv/AJ/S/wDAn/mcw/hS0IygcH/erOvPDLRDdGTx1Fd2sWeRzUU8QKnOPyo9nT/lX3C+u4x/8vpf+BP/ADPJLyxvYZGVJSB2+QVl3X9pwjInOD6IOP0r06/sVdtwAyRWFcWAbIxmlyU/5V9xLxuN/wCf0v8AwJ/5nnc+o6pH0uD6/wCrX/Cqba5qq8G45/65r/hXZX2iAAkAc1zF7pxiY4HNaKnS/lX3GMsfjl/y+n/4E/8AMqDX9TAObn/xxf8AClTXtSIybnj/AK5r/hVWW0ZeW4qs4K8Gr9jS/lX3GX9pY5f8vpf+BP8AzNBtf1PPFz/5DX/ClGv6n3uv/Ia/4VmHrikzR7Gl/KvuJ/tTHf8AP6f/AIE/8zVGv6mxAFyB9UX/AArTs9Tu5I2MlwGYEYwq/j2rmV61ftHKtgNgHtnrUyoU7fCvuNIZpjb61pf+BP8AzOmuXaTTYnc5YvyfzqXRmBFwh6kK34A4/wDZqrOc6PAT/fP9aXSmxe7f76sP0z/SuWirX9Wehm0nOdOUnduEPyG3KbLmVf8AaNFuxWQe+Afzq5rMYTVZipyrbXB9mAP9aoLwfwP8q7lqjwXueveAZ9/h+NM8o7L+uf612AJxXn3w8nH2e6hz92QMPoR/9avQFPy0Gb3A01qU0w0gENNNKTTDSAKQmkzRmkNBniikopFBQetLtNAX3qQEpMGn4pcUFEeKULT8Z6UuKVx2GYpdtPxS7aVx2Itoo21LijFK47EJWkK1NtpCKLhYhKUwpVgrTSKAsYR55INSAZ+gpqn5qcGGcVuZGF4svRb6O0IJDznaPoOT/n3rz0mui8Y3nnaqtuD8sCYI9zyf0xXNE54q4iZBduVjwOprU8NWH2zWLW3A4LjP0HJrGnPmXaqOQOfy/wDr16J8ONO3XE94wGIwEU+5zmm9hHoYTAwOlMddq/WrAHFQzYDYrA1IQKUL1pQKnRMJz1piK5Q0woatFSaaVx2oEUyuKaUPpVork0wp60CaKhUnimlDVvZ60zZQIr4OOlNPHarJQ03aD2oAr4oAqwUBzxTdooAYBSYJNTBe2OtGygCMcGnj3pQtLtpFIB2qRe4pAKcqmpKRIpxVhDVdQanQVDLRz3hI/wDE98Rf9fI/9CkrsDIFQsTgDmuO8Kf8h3xF/wBfP/s0lbPiDUU03Q7mdmUEIQuRnJ+nesaKvFfP8z1c4f8Atb9I/wDpKPFfHV8k+uTNG8krk/NuXGD6dT/ntXMRQYUtIQz5+UcYH9Kl1CUyzllVevcggUsRD7UcB2+mQPzr0acbKx4k5XZZsbb7TKJGI2g+vX/P5V6V4a03IDkcDt3rnvDukm5mUlC4yCcntXpthZrbRcKB2ok7F0431LUKAYCrz34q2q549ffFCJt+XHNShcfWoR0Aoxx+HJps2ckE9elDZVs4xUTMWXB5ptlJERHNNwcc04k54PWoyxwf61maEikBuRiiUgjtTEcNwOfQ09+eKBmZdRqQfeseWEb8Y5rcnCkkdapOq9MVDK3MSeHPHH5VhahpiSZIUA11c0JJyBmqM8OV55zSTsKUbnn93pgU5I6Vg39rtJIHSvRrq0DK3ANczqViQGwvGPStYzOadM4k0lWLqEwyYIqvW5xtWdhR71Kj7WBAqIU5evB5pMEdarbtBtz6sf5tSac+y/iPqdv5jH9aSMEeH7YHGdx6fVqitnEd1FIeiurH8DXBT3fqz6DMlrS/wQ/9JRq6jlp1cnqij8ht/pVIcMD71dvR84B/hGP1NUujV2LY8J7ncfDy5CXs8Rzl41/NTivUUPy1434Lm8vxHAoP39y/mN1exRHKA0yJbjzTDTzTTzSEMNMOakIpuDUjGUYp2OadikMjAp2KeFpdvek2NDAOaXbTwtLt9akpDNuKMVJtoxSGR4pwWnBadilcYzFLt9qkC0baVxkYWl21Jto2+1IZEVppWp9tJtoGQFaay+1WCtMK0BY5pBnJPWmySrFG8rn5EBYn2HWpMdBxWH4qvRaaPJGrYeb5APbv+n866Uc5wN3cvd3cs8hy8jFj+NVmbaC3oKVjUFy+yEn15rQRFbDdM7HnnH5V7X4LsTZeHoty4eUlz6+1eRaJZG5u7a2AyZHCn88mveYEWGJI1HyqABUzdkVFXdyfOKrOdzkg1MzYQmq2SayNB4GcCrNQxDLdOlT0CGmmke1ONNOaBDCMUxvpUhz6U0igViIj0puAeMVIaYaYhpC+9MK8jin005oAaRSADIpxoXFAhcelN25p3aikMAKXHtQD6UopFIMU8D86YOtPBPSkND1GalWo1qVahlI5rwt/yHfEP/Xz/wCzSUvj64ii8OyLJMUZhhF5w5yOuO1N8L/8hzxD/wBfP/sz1n/EVTLYhSAFUdTzj/DrWeGWi+f5nqZy/wDa5ekf/SYnjrW4mk4yyZ5JwMCtHTLPzrpI407gfWokjEeRz78dPeuv8B6cbu8M7qNqtkZr0nojxIq7sd1oOlpZWigoAx6+1b0UQ2gDtyaihh+bb2HJxVhmEanBrC92dyVlYdkb+D061YjAIxkfnXPX+v2mmx4eRN3ONzADP8z16D9K5e4+IoilKqvToAw/pz+lXFGcpJHpMiA8cfjVaRMHivOR8R5WlCGIDPOPMJ3Dvg7cH862NP8AHlhfFY3kMUx6o47+gPenKIo1Dp2Q/e4z3qu/LYNKl6kqAgjBqKRwxwOayaOmLuTRKoNOYAtwTUakgge1ShcKeeTSKKckQb1x9aqtDtkLHdgVqCPLDPc9qinhBVlyelS4lJmZKBtyPwrPnQH/AOtWjMAnDGqEjD1FQx3MyWMY96yLu3D5BHat1lBHXpVG4jHJxSTJaueca9Z+U+5V4rArtvECKVxjHFcZIhViK66bujzqqtIjpyDc4GO9G3uOamt42eUbRnmqZmkdQRt0K2Ho5/8AZqpE1fuAV0aAHtJ/8VWaWrz6W79WfQ5lvS/wQ/8ASUdDfYZ9w6NyP5/1rPPWrQbzLO3cnPyAfkMf0quwwxrtjseDLRml4fnMGu2UnTEyZPseK9vtz+7HPavA7ZzFOjg4Iww+oP8A9evebJt8KkdwKbIZbxScU7FGKTERkGkxTyKMVIxmKUCn4pQB6UihoHFLtp2B6UuKkobtFLinYpcc1LGhgWl28U8DFGKRVhmKcBTttLikMQLS4NKBTsUhjAKMU/FGKQxmKQin4oxQBGVppWpcUhWgDlwmB3zXA+NroSanHbA5EKZPszf/AFgKwh4/112CB4ck4H7v/wCvUF3dzXt1Jcztulc5Y4xXakczIT1qpdHfOkfbP8uatk4BJ7DNUoh5l0zH+HA/qf6VQjtPAlosmsCd84gXI47mvVFmj/vV5/4NhMGmvN0aVs9OwrqFmf1rKerNILQ2JJAVwpBzUa4zWeJn9aeJX/vGoKNaHABJI5qbqOKyFdz3NSBnHc0h2uaJFNIqjvk7MaQvJ/eNFxWL2Ka3WqJeUdHNRNNMP42oFYvHmmms83E398/lUZuZv7/6UxWNE9qYetZxuZ+zfpTPtU3t+VMVjT4pVrLN3N3x+VKLyXOP5UCNQkUgPFZ32uTvS/amx/8AXpWGaI+tOFZ4uT6H86eLj2NFhl2nCqfn896eJh3JpWGXQakQ8VREo9TUiyj1qWhow/DBxrniD/r5/wDZnql8QyTZwqqA7gcn0ANT+HCf7a105/5eP/ZnqfxVYS32lu6sAI1LHuazw2y+f5nqZ1/vUvSP/pMTyCQZwOD2HtXqvgCzEeirOV5djg+3+RXlkyHzkiUHLnGMcnmvctJ+yWdvFp0NzE0sSgbN43njOSOvPWu+T0PIpL3rlzcY0Zh1PY96wNUv7+djBaQOGI5dsAL789/bNaTG61K5mS3uWtrOF/LMiIpklcfeALAgKOmcZyDyMcofD9rLw818wPUG9lP/ALNisku50ybexw7+Fru7Mks0PmO/V2DZ/nzWbdeFpLdTHtIycsoVSv5Ec9K9Wh8PwI++O+1BG/6+5GH5MSD+Iqne6bOrl21a5dl+6Hji2/jtQE/mK1voYct2eSSeG5kjJAYAENt24APqPSqs+nTQ4ZF+ZeoC8NXpM8V5FuLPaTk8Y2tCB75y+fyFY1037zZc2coUA/vYh5iADvlfmA92AqeYfszL0bW7uzkW3closAqXGMDHSuysr4TlSOv1rmGs4Z0We3dZYwfvIwYdexFX9MVoTkjAHSobua07rQ7BJABk4/OmfafmAB6nvWaLo+WCT/8AXqlNfOJgV7VJ0nRy3kMKbmcACsW68RQIcGRc5+7yc/pWLqN280bLuI4471x1xYXLN8gIB7DNNJMwnNrY7C716M5+YD8KzB4jiD7WlUknhc9a5htHnAztC++M1n3FlPE3DH8jiq5IsydSR6RBfRXCEowI7+1LMuUx2FcDpeoT2cyCQHb0z2I9K7u3lW4gV1O5GGaxnDlZ0U6nMjl/EMBe3cj+GuHdS7Y79q9L1aBWSRexH9K80l+W4YehrSm9DCstRDGfLLqOQcMvpU+nnEygc5NPEPmw+YQSQOcdSP8A61WdOjxlsZGetaXMUrGvff8AIIh/66f41kk1s3IDaXCCM/P/AI1mmNP7orhp/a9We7mO9L/BD/0lGnbOG02Af3SVP/fRP9aa/JH0qOA7LAAdpWJ/Jf8AA1KRhq7IbHiVFaQicsuO2R+n/wBavbPDM5uNDtJM8mMD8uP6V4mpwR/vD+deteAZhJ4fjTOTG7KfbnP9abMzrwKUihelOwKkQzGRRjFPxQQakY0CnY9KXApcVJSG4pcUoHNOxSKQ3FLinUYqWUJijFOxRikMbilpQOaUCgAoAp2KXFIYnakNOoxSGNxRinUYoAZikxT8UUgPnidtsLH14rPq1eN8wT05qrXfHY55PUjnfbGcnrTNOiZwoHLu36mor05ZYx1PFb3hu08/VYQVyqfM39KZJ6DYQC3tIolH3VxV5c1CnFTqawepsiQHmpkGe1QLy1WohSGSIp9KnVCR0pYvQ1biHPtUtlJFcRUvlAdBWkqAjpSmPjpSHYx3i7VXePrWzLGP7o/KqkgT+6KExNGSymoWWtRkRuw/KoWiTptFWQzNIPrTSKvNCn9yo2iQfw0xFX2pmCOaueTF6H86d9njYdD+dOwihz604etXDaJ6mj7IpIAJosIrDrT/AMKvrZJjr+lP+wj1/SlYLlAHkCpBV0WXuPxFL9iPqtIaaKimpF6VObcqMnFKsYHYVLGmc14a/wCQxrn/AF3/APZnrcmu7A3IsJ5V8yQcoRxz61jeGcDWteJ6C4/9mesK6lNxrV47sQoJLH0AHP6A1lh17v3/AJnu5jTU8ZJvoo/+kxJNQ8PW3/CZWscAKmRS74AOFAP5elaGoeDtKihu7+7gmuUihaQwtMQp2rnPHOePXHPSovB10+r6zqOoSg4AWNATkqoz8ufyP1rvxGGjJNdmx4+jbaM7SLVNO0e1skA2wRKmQMZwOT9Seao6l4ht9OkAmLHI6Lz+lbske1MAVmzWcFxklRk8bh1pAYbeP7BcApJj1IA/maim8aWMsbO6TogHLlPlH41cufDcTbZEgWR0bIKnDfjXN+Ngz2MBFlK8kWQ6Bfm5AGcdxwfzzWiSa3M5Np6IfNr9rcgmGZGH+9VMXqO4wa87gRnlEY3eYzfeIK7B3rpLCQ/2hFCH3pI+0c8gnpUONjWM77naxQRX6mSTcspwPtETbZOOgJ6MO2GBFaFpaSuJInUGRMHcq4DKejAEnHII6nlW5OKZpdqY48uwABySewrQvNAttWvJJ5bi+tJrRBao9rcBNwA3kjAPIZ2U89UNJK427Mo3cBhXB7+3SsWX7+eak1PQr6zH+heIb8ZHzfawtwT9CQMfrWLaf2mb3yNRa2uIFiaQsikFyCFAYdOrA4xggYPWoa1NObQtfbLTeU+0wlxwVDgkfgOauwpasAZZnH/bF8fntxTLaZRKoJ+UcADtXQw6zZxL5YBZx2UZx+J4/WhRE2ZLf2OqktqFomO0kqofyODVV7K2vELW8scqjqY2DfqK6GbVoGXISQH6p/8AFVlXZsL+UedFDMw+6JowxH5ijYLJnK32jABiqgk9io5pmkXL28pgY4Unoa6F7O1y58llJGFEUrIFPqF+7/47VBtLLMWScF/4TMm0r7bkB3f98r9aL30J5bO6Hagu6MH1Bryu6/4/G+teuyo7243p5bhQ2wsrcHoQVJBB55BxwR1BA8kuVzeSD/aNOmrEVtUmW4QRbfLw3bFXbVAqFsctyeMVUt9xRCD37Vqt0yBg1Zi9ixL/AMgyL/e/xqiy1el/5BkP+/8A41SNcUOvq/zPbzDel/17h/6Sie3TfaXGD90ocf8AfQ/qKkJ3YPrzTbE/vJEI4ZP5EH+hpyqQu09Rkfka6qT0PHqr3hhyA2Owr034dTZtbuD+7KGH4j/61ea4+eu3+HNztvpoc/6yNWP1Xg/zq2ZHqic80/FNj6VJjvUCG4op2KMUmMbilxSgU7AxUlIbigCnUdqRQmKXFL+FLUjExSYp1J+NIYAUuKBS0gDFLRS0DEoxS0UgE6UY60tFBQlNpxFGKQj5qlYu5JqPvn0pxqOVtsLH14r0TkKa/vbzP90Z/E13fhC2CwzXBH3m2j6CuHsVLK0ndjx/IV6fo9sLTToYsYIHP1qJPQqO5rIanTufSq61MDhB6nmsjUmj5NWozVOPirKGkyi9EauwkcVnRtVqN8VDKR0+lzaesOLhFD/3mGQf8K1/sthKvCREf7Jri0m96k88/wB6mp20aJlBt3TNbWLazgXMMgDk/cBz+Oa5ybGeKsSS5HJqlI2TSbu9CkrKzIS2GpSAajcihX7GqRDEZajK96nNRkA1ZBDgg4qVQRRtGOlOx60xCdTUkaguBUVSwg+ZTEW1WpAnqKavFSgigQBB1oIxTs0mRSAgm4UVGKfcHoBUY4qGWjmvDX/IZ8Qf9fH/ALM9c5qcLqNWeIj5eHfpgEf15rpPDHOt6+D3uP8A2Z6zddtZlsLsRoyie52sf7yqF4+mT+dZYb4V8/zPezJtYmaXaH/pMS58PrQR6M0oAzLKzZz2wB/MGu+jQEY9qwPCummw0m2gf7yrub6nn+v6V1MagDAGK692eMtFYq+VvQMR25qnLH5fAXHpWq6YORwe9VJ845xVNAmZkkoVSDw1Yl8WkUruLcc5NatwC0m1Ru9AvJ/IVSkUxvmSPbn+8ME1nsaJHNLpbSv8gHPoMVrWegwwESuis68jPODWnGwPTA+lWY4JLgkJg46noF9ye1ANHO6hc3Vu7PHbRSWMChpi5z5sjHEcIX0Zsbsg5Td0xzNb77WOK2ieVmVMyF2JLMx3Ek9ySSSfUmr97ZQxzweSjv5O4xlyMNI3DOF9cYUZzgDsSa1NO0RooGnuRmRznDckZ/rTvpZERWt2cpqRmWFnkGcDiuckl2XgLcKbYkk+7xD+Z/Su21+NRG6+1cPcWMc7Wxn3lPntmA771Kr/AOPFeazVrmsr20INQW6S2ZbVT5jHGc8ge1UmsXh0W7mWSQXMS7kVsg9eT+WfyrqmiV+lRshX5WXIqoySFKLex5+ur3m/KzMIcdXAPPcHj9a1Ptd1DbRyzLw67iAP6Zrfk0nTXcs1pEr5ySsa5J9eRRNp1vIM7pXP+0R/hVOUWSoSRUsNWS5whZsns3WteM/MAelUbbS4YpAwXBFaKxZYdqxbXQ1V+pi6OAJNcs3XcbdhdQyFsCL96qSAD0ZZBnt8i+grzu8Qi+lOON5I/OvWtL0u3n0zxRdZbzTJHblexRplZv0jxXnlpaT38Zt48eV5hJz2Pbn6VtdbnK027Io2QJlUAkAmtNqa9nJYT+TKm1lIP1HqKew4PHQ00ZvR2ZPL/wAg2L/e/wAapEVdl/5BsX+//jVQ1wx6+r/M9zMPipf9e4f+kolsR/piDPUMP/HTU8oxM4Hrn8xmqtscXkJJwPMXJ9s1bm4k98DP8v6V0UtjyayIjw2a6LwVN5XiS1UHAYuh/Ikf0rnq0dBmNvrlm6nBFwhJPoSB/Q1qYHvEOSoqeq9t9yrIFQwDmjFOxSYqRiAUtLRikMTFLRj1NLikUNxS4paKkYmKKd9KSkMTB9adRRQAvNFFFIYtJRS0gCiiigYmKKKKQz5nxVS+YqgQdSP1NXcc1nSfv75QOVBz/hXonGauj2vm3ltABwWBP0FekRgKoA7VyPheAG6lnI4QBR/WuwWs5blwWlyZaezfNio4/vZ9KUHL1BZaQ1Ohqop4xUytipGXUeplkqkrVKrcUmiky6JfenecfWqYel30rDuWWlyKhZqiL0hc4oSBsVjUZODRu5pDzTJJg24ZpcHrUKMVbNWgM81aIZGFNLtNS7elKR2ApiIQtTQryaaAc96nhU46UxMePTFSDikC0uM0Ei5GOKKMYpKQyCbG8fSmCiY/vTmmg8VDKRzvhf8A5Devf9fH/sz1p3lkuo295ZFtkwbzIyfcDOPxH61meF+dc13/AK+R/wChPXVFYlmLnAkxgVlh/g+/8z3MzlbGS9I/+kxJ7HBBPHWtIHvVC0UCMVeU811xPKe4914OeKz7s4UgCtFm+Ws25YY5NWxRMK5JzyoIPWq73sqDassgHsxq5dMBmsi4mUNxWTdjdK5cS5duDIxJPViTWhG7tGELuwByFLEjNYNozzzqiDkn9K6W3tSqjrSuKUUWtPsA8gnmGWH3R6Vp3TBIsVVtiwIwMAGnXrDyzVrREW945HXGz261zAcxS70Yqcg9PSui1puSR6VzE+4HgVzy3Oi2hc3KX3IuEY5wP4farCxJMB1rMtbgpJlTg9K3LFlkPKDPqOKaFYhGmlz0B96kGlonatqONMYLFSB1I4NNkiGOJEJ+uP54p2AxTZKtRtDhgAOa0nic8Zj/AO/qf40yJYI5N9y42jkpGcs3sCOBUNBcxQj6b4VLygpJcSS3zgqQdv3Uzn3WQj2YGvPdIneKzmETbWL5PHsP/r16B4xvWuNLv7lwqvKFUKgwoGQAoHsox+FecWHyRy5+laXuZwVpq5o6rK09jZSscyFXUn6Yx/Oqsg5eptQyILWMjBCFsfU//WqFvmGfVQf0rSGxhif4rsSS/wDIMj/3v8aqGrkn/INT/eP9apnkVxxWj9X+Z6+P+Kl/17h/6ShvIOQeR0rUu1AnbHfp+f8A9ess9a05SXjhk9VGf++f8RWtJ6nl1loiE9afE3l3G4HnAYfgf/r000mD50bf7wP5Z/pW5zn0Bp0omtYpAcqyhh+IzWiOlc34PuBc+HbF+4TafwJH9K6UcVmwCjFLRikCEwKWiikMTFLRiikUFFFFIBaSl9qKQxKKKWkMKWiigAxS0UUhhijpRRSASkp2KbQM+aJG2RO3oOPrVOyG6SSU8gHA/AVNfyeXCAO+WP4U/TrfKRRd3YA/1r0TkOy8PweRpyE8M/zGtpGxVaFBHEqgYwMVMDisXqzVaIuI42E+tKh5qu52hRT45QODSAtKalDVXVwRwaeGHrSGWUapQ9VVYVIGpWGWA/vS7vSoA3FLupWAl3YNLnNQ7qkjPFAXFJxRmmk5NFADvwqxA5ztNQAcYqaMc5zimBcHSlI9qtRWsrJnynH1Wo5YynBFUTYr8danThcVASM1Kp7UyGS9qajb1yBUc0hWM89aLY5i/GgRL25o70UhNICpIT5hpAc01jlj9ad2qHqWc74Y/wCQ1r3/AF8f+zPXWFgVII5xwa5Lwwca1r3/AF8f+zPXVR4LDPrWWHfuff8Amevm8msbL0j/AOkRNCAYUCrK8DFVozhakDY6V2I84fK+FzWTezDpnmrk7cdaw76U5wBye9KTKgiheTHkA4rKLtI+0U6+udpxn8Ks6NatO28g/lWLd3Y6FojT0aBInAbq3XNb76pbWw2koO/JrOawcAMjFHHSuY17RLzUA0UoBQjHB61SbQtHud5DqUTJvXaTWff6gCfvAVwOhWd74cVoRKZLVjnym52+6+nuKvXWpiQZ3c+9Ny0FFRuWL65WVzzwKoKqO3JrJutSSMF2YtjsvJqrZ6lc3NxuMYjh/wBo/Mf6CsmjXmRoX0Qt50ZDw3WtXSpTvGTxWNcTCZ0jHJzk1q6enl4oQjplwUGSM1DOw+mKI3BTjke1MmxtJ9qsCnK4FVHYlh7VNL1OKqEndg1mw2MXxdKV0lEz9+QcfQVzMFq4uFiKHecbx+OR/Oup1qFZ2gMrARRks2fwx/WodOt/MklvHXaWPC+mBgfpTjsGi99mHrkXlXsanqIhn9aog5jQ/wCzj+laviRf9MiYd0/qayk/1aD0yP1/+vXRHY82cnKTbJn/AOQdGP8Aa/xqmPu1cf8A48I/94/1qmPu1xx+F+r/ADPax/8AEpf9e4f+koY3WtKP/jwi9f8A7I/41nkVetz/AMS9if4WY/kAaqn8RwVV7omMrmkJI2Y/vr+pwf508DAI9CRUc2RbuR1AJH1rpOQ9b+Hdx5nh5YuP3UrKP0P9a7deRmvOfhvJhL+HPSRWH0IP+FejpjFZsYtLSijFIBuKKdSUgEo96Wk7UDCjiiikMKKKKQw5oxRRSAXiiilpDCikpfxpAGaSg0vagYU2lpDQB8t3jCa6SNeQSB+A6103hqOIaxE88HnQwglk3Fckg45HvzXM2iCS8Zu0Yx+Ndl4ci/0eSc/xtx9K7nscsdzopXR5C0cflp2TdnH40RjLAVEBU0XAY/hWRoKQZJQF6k4FPa0liI3Ac9MGlsl33S+g5NXrht83PYYqrCvqUVjk7CpVSTupqbgdKA+KmxQ0I/8AdNO2v/dNTJMo71Mk0bd6LBcp/N6EUcj1q+XTsaQOvqKVguUwTnNKGOcbiK1ISvks3HJxW41sEsYYXUAyFV6dycmqULkudjkgx9TTwWrfktYre5MbqrYG4HHY+tXr+GG30vZ5SbiAN20Z9aPZsOdHKqx9avafePZ3Udwm0uhyAwyKliii+zs7Iuc8EjNTweRIuPKjyP8AZFTyl8yNtfGbqo32aMe5Dkfpg1h6trM+oziTYsQVdoVef89as+TCf+WSflV7ThYKxintImLHKuUB/Cqs3oQ7LU5QTzb+ufwqb7TKOw/Ku7FhpUgybWEf8BqtqFlpMFnIwto95GF5I5p8jI50cY07yY3Yp8Vw8YwAD9atm2hzwn6mr+lafZzXqpNFuUg4G4jnGe30pcrHzIyxdyYztX9aPtTEfdH512TaDph5EBH0Y1Uu9EsI7aV0jYMqEj5ieccU+Vi5kcnu9qeMlRVr7HET95h+NQOqpIUBJAqGmi73Oa8M/wDIa17/AK+P/ZnrqY/vj61y/hn/AJDWvf8AXx/7M9dOp2nJrnw/wL5/metnP++y9I/+kRNFThc5p3bk0xVDrtPIyG/EHIpSPlIJrtPPRDM21S1c1qlxsUtnPt610F3nbtB6iuU1tSwwvHFRNmsDIhSXUL35R8gIBPYV3ek2iQW47AVy1hH9kiyAMDkn3rpdMuBLCo3Zz97Hapgr7hOXRGsXUY6Gqtw4b5cY9KnKAAuWAUdc1Sur2EfKi7uOSa0dkQk5aGNqcQCZ46YrnZ7MTRszAHPTNdHdSrMfmBwf0rOlMMTYJyKzbNfZtbHK3OnGM5A4NVltHZsK7L9K6C8mjlO0EZHaqBXa2R2qGOzQtnaCMZPJ9TWpG2xsZqhFODweDVkuvrUlpmzaS45Jz9allYbSOtZsEhXB9asSy/JincZFMcNVVT8xJqSRwc1GrAKSxAA5/CkxXMrULQ3d8oU/6pRlT065z+tXRGsduiLyFyM+tMtA0m+4ZSobOM9TU3/LL8atIxrTfwo5nxKnMD/Ufy/xrDT7n/Aj/IV0HiUf6PE3oT/SufTo49CD/P8AwraOxxvcsSf8eEf+9/jVP1q5J/x4x/73+NVT95vwrkj8EvV/me1mD/e0v+vcP/SURkVesVMlvMvYFf1BqmRVvTWw0qeq5/Ij/wCvSg9TkmrxY8Hd8w7gH8xSMMqQaFBVQp7ZH5Ej+lOxXWcR1nw3uz/aoiLf66AH6svB/rXsEf3a8L8FTC38Q2A6ASvGfxBx/wChCvcoTlBUSQyaiilFIQhoxSmikMbS0e9JSGFJS96KQxKKDRQAUCkpaQwpc0lLSAKXNITR70hhS0lJQAuaSjpSUgPmHT42W0ZiPmduP5V32nQC3s44wMYFcjZw7rm2hA/i3H8K7KMkDFds2c8SyOmalPyRAdzzUCEsQKllOTj0qUimXdOXCu/qcUglLSMT3NLF+6s/QkZ/Oo0pvYS3JgcmnVGppwNSULs7ilHHUUopcetAAGNShgRxUJGOlCglgBwScUAatvGZPIh7u2D+ddJI2/UraJsEKGYj17A1h6bGZdSQAkBFLZ9OOP6VrwyD7ZM02Nyqq5/MnH5itoLQym9Sjfy77ufYScsEU/TrS6ks0ZW2eXeEG5D6g9j78GoLY+deW6kAlpN5/Pn+Va1yuYr+R13IAEUnsQMj9WpWuF7WINJtFmQrKMqq8j3NZcePtfyZCAkjPXFX7K++zw3ClW3FQAw/vYOBVDT1Ms5XoSQv0yahotPUuRTiRSQafuI7nNUJUezvzBkMQRkjp0zVsOG6GhBc2LS6M0eD99eD/jVO9ufNm2hvlTgfXvUEMjRHenUevQ1VWVidqhfTpWjnpYz5NSXcd2T61cspfLu4Xz0cZ+neqAlJwCBxU0TKXGcgZGT6VNx2O4U/L0qhqrldPlI44A/MitCEBoVbOcjIrO10hLHb3dwKYjmSR6VUPzSE+9XVAIyappn8axkXE5rwz/yGtf8A+vj/ANmeuoAzXMeGP+Q3r/8A18f+zPXUjjmuah8H3/mevnP++S9I/wDpESzE4Kins3GBVVHKnHrUjSHHFdkXdHnx1GzEHp6Vz9/GJHX0HWtqV+2e1Y10SXytRM2gYeql44dsO5mPHA6VS0LTvFcU7TLOhtz/AMs5Rjj2OK6a3s/tMilwCuea6iGBFhCBQB9KmKdynY5Kb+2VVQ1uz/7sg/rioN2rH/mG3H1yn/xVdW2R1APtSSXMBi2sSp/St1FMq9tjhLjWXtg3nWtzGQMnMLMPzXIrEudetrh/+PlF9nYKfyNd7drabQWKMfTNYF3YafOGPlJk+oFTKBomc6tykvKSK/8AunNOF0F4c5HrT7jR9PUn9zDn1CAVnSaXC7bVkmA9BIcflWTVhPUuveRZAVwGq7AWaPOc1z0Ph2FJ1dAdwOc7jXWWdqUjUHPFQ7EW1LkKkwoT1NOkIVMZ5qVsIqD0qpcMS454pFEZcjgn3p8R3Nx2qvkkkmrNuMqT+FNIibshz9DUI5jf2xU796hX7sg9gf1rQ4zB8RJusM+jVzK/x+6g/r/9eut1xd2my8dMVyY+8PdTVx2JluWJP+PGP/e/xqof9YfcVcf/AI8Y/wDe/wAaqsMOp9q5ofDL1f5nr5i/3tH/AK9w/wDSUMNWLD/j7Ueob/0E1AaltCReQ84y4H5moW5zyV0WX4kb/eP8gf60lSTDEjceh/P/APVTK7UcLLGjSrbatFIxwI7mOQ/Tgf0Ne/WxzHXzzGcXEnqUU/8AfJ/+vXv2kzC4sIJgfvoG/SpkCNIUYpw6UVAXG4OKKdikoASkPFOpDSGN70U7HvSHrzSGNopTSUAJiloopMYCiilpAFGaSikMKM0UZpABpKSigDw3w1Zx3E0txIMhSFX8ua6lbSD0P51i6BB9n01AerfNWyre9dj3MoqyHSQxQrvXOe3NVlBkkUepxTp36DNOsxuuAeyjNIGW7lsIqDvUa9KWXDzHn7oxSUMSHrTxTAeKkH1pFDx0xgUopoNOHNIBakgXdMCR05qOp7c7VdiKEDN7QYiy3E2M5IUH6df6VY2suiTXJA3SMWHsScUyykNt4dY4wXVjn3JwP6UuqMYLS1tQflJGfooFbr4TDdkGmIh1PLn5Y0wPqR/+urMspfTGUMqrcTFvmOO/T9Kr6XkWd9PxyMD6gE/1FJqANvFbQsQSqbv0/wAc0ug+pJBARYXOdpWSRVJBBxyP8abbRpb6p5TMMKw+c8Z4yKkswBaWUef9ZKXI/wB3P/1qqQhLrUQJP9W7ux+mDilYd9SCRzcao7g5yxP4Ui+bbXbQSjDE8jrirFpCUvoDLjMm1h7qTUMpN3rEpQZJYhR684FSMuKcR5/Gq9qMzDHbJpkcjLCyHnAqWyH7xj6DFS9Rj5owkgI/i7UqLiluSS6j0pqZ4oA7HTy8dhAucfIDj681n69KT5CE/wB4/wAv8a0LaUSQIemBjH0rH1pwbqNc52pn8yf8Kt7EGceInI64NVFHGatOcW7e4xVVcBaymXE5vwx/yGvEH/Xx/wCzPXUVy/hj/kN+IP8Ar4/9meun4rlofB9/5nsZz/vkvSP/AKRElhjEsgiJA35UH3x8v64qqJtyjnrU6sVYFThgcg+hqHVIglw80Qby3O/J9G5/mSPwrqg9Dy4uzsV5WLVD5W5gAMmlV9xxkVbgQHnFNq5unYW1g2YyK0lbAGOlQJHhalQfLzSG3crTxE7iCaw743EfIG4dq6NwTxjiqFxbhwRk07spM4i81F1kIaIjHvWdPfhzlSR61119pwZsnBGOhFYc2lIpJC4qXItNmE0u71P1p8Qy2cVd+yqrEbOlOEKr2xUcxQ6CMAbiKuJMAMVV8zAwKiaUqc1O4rmhJOWYc8Cqssu5ic1B53qaYz5GTTSFcn39AOSa0UTy41Xv3+tYk92bLTZr8I0jowWNVG7n+I49gR+Yqaz1k3MEUs0RiDjJB6r9fTsfxq1F7nPVlfRGox5xUK9XHsalYjNRL/rMeoP8qZkZmrLu0+Ye39a48dYz6ZH6Gu1v13WM4/2D/KuKUkOn+9irhsTLcst/x5R/73+NVnHA9qtH/jyj+v8AjVd+EJrClrGXq/zPWzN2qUf+vcP/AElEfakVikgYdQc06mHrWXUy6GtdLtkceo/kf/r1XFWJz5vlyf3kz/47n+lVu9dkdjz5aMT/AJeoSO4ZT+Wf6V7b4LnM/huzYnJClfyJFeJE4eIjqHX9Tg/zr1n4d3BfQ2iJH7qZlx7HB/rRISO7HSnZqNW4p+agBaQ0bqTdSAMUUhIpA3egY78KSk3Um6lYYfWik3UhYAUDFzR0pu4UbhUgOzRmm7hRuHrQA40maaWFJvpDH0maj3880b/ekBJTSaZv96TeKQzwKG8mVR8soA/2qnGpTj/n4/76/wDr1XFP7V6HKcvMT/2rMev2j9f8aemsTx/dNyPpValFPlQXLI1y4B+9c/lml/t+4H8c/wCKCqvNHPrRyoLlweIpx/HL/wB+xR/wktwP+Wrj6xiqnPqaOfU0uVBzFz/hJ5x/y3P/AH7H+FKPFE4/5eP/ABwf4VUBPqaNzf3j+dHKg5i7/wAJTP8A8/H/AJDH+FPXxXOFx9rwP+uQ/wAKz9zY+8fzo3P/AHj+dHKguzdHjy+EPkm+QxjGAYR2/CnXXju7vGVpb2MFQQMQ+v4Vz/mOP4m/OjzH/vH86dhG/H46u4rV7ZbuHy2bcT5XJ6e3tS3Xju7vJfMku4AwXbxDgY/ya53zX/vH86PMf+8aVhnSQ+P72FoyLq3bygQmYj8uetRQeOLq3Ylbm3JKlfmiPANYQdwM7j+dL5kn98/nRYVzdl8bXcxBa7txtUKAIjgAdqSHxrdQTiZbu2LAg8xGsMPJ/wA9D+dLvcf8tD+dFhm2vjK5CkfbLfn/AKZmpYvG11FnbdWxz6xmufDynozfnT1Mh6uR+NKwXN5vHN4zZ+02mf8Arm1OXxtd5z9qtSf+uRrBz/01bP1puX/56tj60coJnYwfE3UYIwgl05sd2jfP6NVe6+IF/dTeaZ7FWwBhY2xx9TXL73/56n86aWf/AJ6t+dFg0OkbxtfuuwzWeP8AcP8AjTB4wvwP9dZ/98n/ABrnC0vaVqaZpV/5av8AnUuJVzX0/X7uxur2eI2+65fe+8HBOSeOfc1e/wCEy1UngWP5H/4quXM8sfKSupbqQ2M037TdsQFuJix6AOTXPho3pr5/mz185a+uy9If+kROq/4TLV15KWWPof8A4qtqPXb/AFDw0b1Raq8ExgucZO2JhlX6+pcflXExWWosu+W9eJfQyEn+eP1rqPDUQm+36M8s7jUYGjLyHJVlUlf6jH+1XTGm+x5EpI04bn91by4/dzIrK31HQ1uW0q4UH865nwtMNS8LQiQkurSI2eqkMcfTjFX7a5e3mNvMRuHRvUVm9zpjsdMp3cjAqQAdBVK3mDKDnNWhIucetAx7D0qtJHnnNTO6rg5A+tZ9xdY3HPT8qCkVrnaqnJzWPMwdm4qxdXWRk4rNmuV/hAxWbLTILhR5mB9apOR61LLPuYn09KrZFQXcMdzUEj/N1p8sgCmqbSc00iWyQt3qKSbAJ9KgmuQBxS2jiKG41CVQ0NmokYHoxzhV/E4FNdiXKyuM8TQz2VnY2rSqjrAZBz8yyFslvbsPoprn/Ct+fmhkXkHC44Pv9fxrQ1/VJL66W7ZArEfcB3YAC9PzP51gRKLTWmcbSCA5UDjHIP8AjXSo2Rxylrc9Et9Rt4LdYjIqlcjaWxjJp32643eZDaCZR/dmAP5EZrlNYyWQpyzxlR3ww5AznuD+lM0jUp4FETnpn5ee/oexpezuHMdDc6nKIXSWxljBUjJzxn6iuXDDzE/2Xz/Kuqg1yJwFlIQg43EHj8f58irUf9nXzfvEhlY87tgzj/eH+NJRsN6nLt/x5p/vH+tQPzG1blxpkT3U1rFLsWMblLc5PHH61kXEElvIYpFwfXqCPUVz0dper/M9XNP4lL/r3D/0lFSkNLSE1izJbGrF81nAT/u/qVqspqe0OdPyeiOf0warkbZCvocV10tYnFVVpCTZETEdQM11nhbxUmhpcRSW0kqyOGBQjg1yynEik9Aane6eJvLVFAXgAO4/k1UyEemp8SLbH/HhcfmtSf8ACyLXvY3H5r/jXl41Ccev/f2T/wCKqQarcr9P+usv/wAXU6l2R6b/AMLIs/8Anyuf/Hf8aP8AhY9l/wA+dz/47/jXmy63cKc7FP8A21l/+LqdPEt2gwIYz/22n/8AjlS79hpRPQh8RbE/8ud1/wCO/wCNH/CxbH/nzuv/AB3/ABrhE8X3qAg2tu2fWa44/wDItB8XXjjBtbf/AL/XH/x2lr2HaPc7o/Eax/59Ln/x3/GkPxGse1pc/wDjv+NcC3iO6b/l3h/7+z//AByojrtwf+WUf/f2b/45Rr2C0T0I/Eax/wCfS5/8d/xpv/CxrL/n0uf/AB3/ABrzttXuG/gX/v5L/wDF1E2oznsP+/kv/wAXRr2Foejn4i2Xa0uP/Hf8ab/wsaz7Wlx/47/jXm5vpj2H/fyT/wCLprXcrf8A7yT/AOKosB6V/wALHtP+fS4/8d/xpP8AhY1p/wA+c/6f415p9plPcf8Afcn/AMVTftEuOv8A4+//AMVRYD0w/Ee27Wc/5io2+I8Haym/MV5v9pmHcf8AfTf40huZO+Pzb/GjlDQ9GPxIizxYS/8AfQph+JAx/wAg+T/vv/61ecm4Y9Qv5H/GmmZj2X8qOVBc9G/4WP6ac/8A33/9akPxHbtpzfjJ/wDWrzkuTzxTMmjlQXNAOn99fzp25ezD86P+EbkBPzn/AL4pD4ecfx/+OV22OPmQ7cPUfnTh9ai/4R+X/np/46aX/hH5v+eg/wC+TRYLolp2DUH9gTj/AJar+RpP7BuP+eyfrRYLosAkdKU5PNVv7Cue0qfrR/Yl32mT8zQO5ZApxU1TOi3o/wCW6f8AfRpRot/2nX/vs0WAtbTSbTVb+xtRH/Lcf9/DSf2NqX/Pcf8Afw0gLfzDsDTdrelVDo+pj/lsP+/hpP7I1T/nv/5FNAFrafSnLuX0/Kqf9kar2m/8imkOkar/AM9v/IpoHcvEE9aTb71QOkar2m/8jGk/sjVv+ep/7/GgRoAUq5Bzis4aPqx6Tf8AkY0HSNXH/LY/9/zSGafmSdqN8gHPQ+1Zn9j6x/z3P/f40HSNYH/Lc/8Af80AaO9j1FIxJFZv9k6uf+W5/wC/xpp0rVx/y2P/AH+NAjRLEUu41lHS9XHWY/8Af6pING1aeZVe5ZFPVvNJ/SmlcLo0QWLAAHJ4Fa1rpqOELyF3J5UYCr9Tjn8Kq6fpkdrJl5p52UZ3ySE+3AzWrcxSS2wdF3BQCRwVz9K3jR6shz6IpPZWbSEK0m4nGFIwDSHToFbaTJuxkLkc/jiprd1eHafvNghhyMcdPTkH8qZLuaAbYwM9x9f8/lWcsvw797lPTp57mMEoKq7IbHp0DyBWd1yehccDvkkVnXQji0qW9RWG2RgAzg/L8oHQcnJb0+7WpcTx29vI+csUZY16kuRxx+Ncv4naO2gtrWFyy7SMgYBwSCT9W8z8CKh4LDqN+RFf29mTdvbM7yDw7pV3NHNa3Fy9hdwLPaOWXdx8ro3GNysO3r361ZfwdYhCUmud3bLLj+Vc98MNcS7s5/D05JuoS11pxOT0GZYwfdRkDpkE16Km2aEMO9cVTC0k9InXTzzHta1WcXFoFis/lXL3Ct2KsuD+laUfhLSHBPn3eP8AfX/4mtO9tVmGGQVlOLuzUlSZIx3HUfUVKw9H+U0/trH/APP1jbjwtpUS5We6J9Cy/wDxNVZPD2mov+uuc/7y/wCFSPqgPJOTVJ74szEt1o+rUv5Q/trH/wDP1kE+l2kbAK8xPuw/wqBrG3X+OT8x/hT2ud0mSTUDzH1qfq1L+Uf9tY//AJ+sBZwkkbn/ADFK1nCozuf8x/hTRLjkmq091/CtL6tT7FLOsd/z9YsqxIeC341AWA57VGWOcnk0zDOcsflFH1el2D+2cf8A8/WSCUseB16etJrE/wDZ2rwaZHtadUU3TMchWbkKv0BGTz1q5puy2iudXlUG3sF3BT/HIeEH/fWK5DS5JbzUpbu4YySSuXLtzlgCT/Orp4ak3rEyqZ3j1oqrNO81WS2QsqKcHuO2cetUpvEF1HPEgSEq3BJU9c9ufpUOruS7IMHEYJ5+lZd2zGG2c8nB5/Gt/qlG1+U5/wC3cxv/ABmdmbl201rhApdDkg9CM/8A66h+2TOylPL2ld2GBz/OoNMPm2c8BPLoQp9O39aqQOZdg3YKkqFyeAf8mmsJRv8ACH9u5j/z+ZfOoyqrEiMEcD5T1/OpLPUDNnzQoIHReOapTJIlwQWBU4HIyD6VBE7R3bjOCSNq5PX61X1Oh/Kif7dzK/8AGZ2cIigl2ruLk4yeh/zx601zFcEo0YdTkjcOQOvHofyqGzmjkjYISCvYk8e9WrTy1maN1DA4wT1pqnGCtFWRy1sTVxE/aVZXfdlM6HBOWMUzRE/dVl3A/jxVK60DULaMy+SZIx1aPn9Ov6V18OEk/dplPyx+NQXV3IVxyp7dhWToplKq0crp5L2c6eh/mD/hTJ8eecd8H8xXQCza73zRoqu+MnP3sHjPv15rAuIJbeQRSqQ6gAgjninCPKrGdSXM7jDTpcGTPqAaYaq3dxPGyhBFtxjLE5/QVZBcFGKzPt1yP+ff8n/wpft9z62//fL1Nh3NLFJt9qzxf3PX/R/yel/tKcdVtz+D07Bcv4o6VnG/uD0WH8m/wpPt0+OVh/8AHv8ACiwcyNItSbqzvtkx/hi/8e/wo+1y/wB1P/Hv8KVrhc0t1G4Vm/apz2j/ACb/AApPtUx6BP8AvlqOULmlvFBYVmG5n9F/BW/wpfPuP9n/AL4alyj5kaG4UbhWf50/qv8A3yaQzTf3v/HDRYLmhuFISKoedP3b/wAhmjzZ/wC//wCOUWDmLpxSZFU/Mn/vf+OUm6f+9/45RysOYu7hSZqmftB/5aH/AL5pP3/98/lS5QufUX2dD/Av5UhtYu8an8Kt7aTbXaee0VltIevlJ/3yKabSE9YkP/ARVzbxSbaBWKX2K3/54R/98ikNhbH/AJd4v++RV7b7UbfajQNTPOm2h620X/fApDpVketpD/3wK0dtG2loMzDo9if+XOD/AL4FNOiacetlB/3wK1dtG3igd2ZH9g6Yf+XGD/vgUDQdMA/48YP++BWtspSvFGgrsxzoGmY/48YP++BTf+Ef0zP/AB4wf981skcU3bRZBdmOfD+lnn7DB/3zTf8AhHdLz/x5Rf8AfNbW2m7aLINTEbw3pX/PlF+VIPDelDrZR1uFaQrRZBdmRF4Z0sn/AI8oicgDIp0XhvSCxY2ERyeAR0ya2o+AOOhJ/SiMbVOR1P8AIUtBps52Tw1pbNkWcYz2AqRPDGlCEn7FGT6kfSrl7qdhYk/abqOMjGQTkj8BzUJ8T6MsJH20f9+3/wAKLD94qL4a0nOTZR1HcaN4fsbaWe7t4UQDjPUn0A7mszWfFzkLFpQwp+9cSLjH+6Dz+JH4VzkkrXDeZPNJPNtI3FiR0zjJ5q1TuCUupVe4t5Lt5BbxRoeEjAyoHv6mntGgYyJGcKCcgf4UsiCN1UBWOMuOwqWaQQRLsI2j7wO48E/gP/11vGCWw7tEf2URq29lViBjd6j3qOykSOUwFz5QBzx98/5P8qZJML1owsSnqpJ3Dbzjkg0jMYJxIuH3kE8cE5OMY+mfwrZaoze5QupRbzyWR3DHzDkAgHn/ABq1Zy+bGoyMjP0rJ10yrqUErYRzhSSMD2z+BHX0q/p0o3SbQCCCAN3GPX+dTHswb6jrsynU0WNERbcBzjHDZwu4/wC8V6dgfSuH1a5W81SRoR+6ThBnsOB/j+NdNrEptNPnlZypmyVCn72cj26fvD+K1xiZEbyDqf5ZrKt2NKfdi2F9caLrFpqNm5WW3mDox6ZB7+oPf2r6QlWBZkmtCDZXSCaEjptYZx/n2r5suEDQljxjoOwr6S8FfY9T+GulG1BcpCY23YLJIGO76DPI/wBnFcko3RvGXK7kc6evKnvVBkO5vStQM2zDr9ciqs8Y6qOP5VynWjFks7aVttzApPZhwfzFY95o0cR/dyyAe+DW/c5zg9qz7rc0fykk0xo5qSB4/wCIGoCSDywq5dMw4xg1nnk5NTcrlFOe7VHwOAKec9hRsA5Y0itiM4+tQvuchEBJJwAByTU5B78CtDQoER7nV5wGttOTzSCfvSfwKPx/pQlcUnZGT4wf+zrO20NH5hXzbraeGlbsfXauAPrWDokRaIMCPlDHGOuTt/wqPVriW6mluJ3LyyEszHuTV7RUEdgspwDsDfhv5rogtTlnexk6gpN5cYPAKqv4gGql6NsUKnqFLH8a0JY/MuAgf5g24nHGQP8AAVQvXG+UY6EID9OTWr2MepuaPL8kbDBA5Ix6jBxVkwxR6hIgJxuyMdMGs3RJdsUWemSCfbmtjUbf5vNQdBg89R2IoAq3sQSaMhQp9eeTVW4UrIroxJ6Nzyfr+dW9RVJLVWWRjt7E8j+lVTIJbdQeHAwfQ1aJe5vadOZIWT7hAKjg7j1PHHvWvEUFwsgDHnlQeV9cVzWm3CxyIxAfBwA46109m6PhwBtY/KDklfUH+hqZrQ0gy15oBQMxbsCq4JqO45ibBc4xkYxSH92wADqg565qtNvHGSVA6/hU20LuaVvKohTZsLc5yP8A63FSyGC9UC5gVl6FiOV+h7VRgmVoI9xILDn5c4BP+fWpYFkLZUnceASeD6d+tTYdyCTw7au4kiuWWH+IHBP4GoV0jT7yRo4Yx5KDmV5DuY99ozjj1xWheXRjgjtombdJkAjp7n8OtPXybSMiKPasSBQrdSO9ONO7JlKxl3WiaPbzeWk05OOoKn9MVoWvgq1u03QXjMOvTB/KsKNWmmku5T+6TB56kD/Guk0G+MjxzowXIJBA6e3HuKqVO2xndi/8K+T/AJ+X/IUn/Cv0/wCfhvyH+Fd/a4vLWO4jU7HGenT1H51N9mf+4fyrKyJ5medn4fx97h/0/wAKb/wgEf8Az8P+n+Feim1f+4fypptX/uH8qNAuzzz/AIQGH/n4k/T/AApP+ECgz/x8Sfp/hXoRtX/uH8qQ2j/3D+VGgc0jz/8A4QOD/nvL+Y/wo/4QW3/57SfmP8K742knZD+VNNpJ/cP5UaDvI4M+B7b/AJ6y/mP8KP8AhB7X/nrL+Y/wrujaSf3D+VH2OT+4fyo0C8jhh4ItP+ekn5j/AApR4Js/78h/Gu4+yS/3D+VH2OT+4aWg9TiB4Ksh3kP40v8Awhlj38z/AL6rtvsUn900hsZP7lF0HvHE/wDCHaeO0n/fVL/wiGnf3H/76rszYSf3ab9gk/u0roXvHH/8Ijp39x/++qP+ET00f8sm/wC+zXYfYH/u0fYJP7tO4e8f/9k=\" />"
            ],
            "text/plain": [
              "<IPython.core.display.HTML object>"
            ]
          },
          "metadata": {},
          "output_type": "display_data"
        },
        {
          "data": {
            "application/javascript": "\n    async function captureFrame() {\n        const div = document.createElement('div');\n        const video = document.createElement('video');\n        video.style.display = 'block';\n        const stream = await navigator.mediaDevices.getUserMedia({video: true});\n        document.body.appendChild(div);\n        div.appendChild(video);\n        video.srcObject = stream;\n        await video.play();\n\n        // Wait for the video to start playing\n        await new Promise(resolve => setTimeout(resolve, 1000));\n\n        const canvas = document.createElement('canvas');\n        canvas.width = video.videoWidth;\n        canvas.height = video.videoHeight;\n        canvas.getContext('2d').drawImage(video, 0, 0);\n        const dataUrl = canvas.toDataURL('image/jpeg');\n        stream.getTracks().forEach(track => track.stop()); // Stop the video stream\n        div.remove();\n        return dataUrl;\n    }\n    ",
            "text/plain": [
              "<IPython.core.display.Javascript object>"
            ]
          },
          "metadata": {},
          "output_type": "display_data"
        },
        {
          "name": "stdout",
          "output_type": "stream",
          "text": [
            "Predicted: LABEL_4\n"
          ]
        },
        {
          "data": {
            "text/html": [
              "<img src=\"data:image/jpeg;base64,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\" />"
            ],
            "text/plain": [
              "<IPython.core.display.HTML object>"
            ]
          },
          "metadata": {},
          "output_type": "display_data"
        },
        {
          "data": {
            "application/javascript": "\n    async function captureFrame() {\n        const div = document.createElement('div');\n        const video = document.createElement('video');\n        video.style.display = 'block';\n        const stream = await navigator.mediaDevices.getUserMedia({video: true});\n        document.body.appendChild(div);\n        div.appendChild(video);\n        video.srcObject = stream;\n        await video.play();\n\n        // Wait for the video to start playing\n        await new Promise(resolve => setTimeout(resolve, 1000));\n\n        const canvas = document.createElement('canvas');\n        canvas.width = video.videoWidth;\n        canvas.height = video.videoHeight;\n        canvas.getContext('2d').drawImage(video, 0, 0);\n        const dataUrl = canvas.toDataURL('image/jpeg');\n        stream.getTracks().forEach(track => track.stop()); // Stop the video stream\n        div.remove();\n        return dataUrl;\n    }\n    ",
            "text/plain": [
              "<IPython.core.display.Javascript object>"
            ]
          },
          "metadata": {},
          "output_type": "display_data"
        },
        {
          "name": "stdout",
          "output_type": "stream",
          "text": [
            "Predicted: LABEL_4\n"
          ]
        },
        {
          "data": {
            "text/html": [
              "<img src=\"data:image/jpeg;base64,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\" />"
            ],
            "text/plain": [
              "<IPython.core.display.HTML object>"
            ]
          },
          "metadata": {},
          "output_type": "display_data"
        },
        {
          "data": {
            "application/javascript": "\n    async function captureFrame() {\n        const div = document.createElement('div');\n        const video = document.createElement('video');\n        video.style.display = 'block';\n        const stream = await navigator.mediaDevices.getUserMedia({video: true});\n        document.body.appendChild(div);\n        div.appendChild(video);\n        video.srcObject = stream;\n        await video.play();\n\n        // Wait for the video to start playing\n        await new Promise(resolve => setTimeout(resolve, 1000));\n\n        const canvas = document.createElement('canvas');\n        canvas.width = video.videoWidth;\n        canvas.height = video.videoHeight;\n        canvas.getContext('2d').drawImage(video, 0, 0);\n        const dataUrl = canvas.toDataURL('image/jpeg');\n        stream.getTracks().forEach(track => track.stop()); // Stop the video stream\n        div.remove();\n        return dataUrl;\n    }\n    ",
            "text/plain": [
              "<IPython.core.display.Javascript object>"
            ]
          },
          "metadata": {},
          "output_type": "display_data"
        },
        {
          "name": "stdout",
          "output_type": "stream",
          "text": [
            "Predicted: LABEL_4\n"
          ]
        },
        {
          "data": {
            "text/html": [
              "<img src=\"data:image/jpeg;base64,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\" />"
            ],
            "text/plain": [
              "<IPython.core.display.HTML object>"
            ]
          },
          "metadata": {},
          "output_type": "display_data"
        },
        {
          "data": {
            "application/javascript": "\n    async function captureFrame() {\n        const div = document.createElement('div');\n        const video = document.createElement('video');\n        video.style.display = 'block';\n        const stream = await navigator.mediaDevices.getUserMedia({video: true});\n        document.body.appendChild(div);\n        div.appendChild(video);\n        video.srcObject = stream;\n        await video.play();\n\n        // Wait for the video to start playing\n        await new Promise(resolve => setTimeout(resolve, 1000));\n\n        const canvas = document.createElement('canvas');\n        canvas.width = video.videoWidth;\n        canvas.height = video.videoHeight;\n        canvas.getContext('2d').drawImage(video, 0, 0);\n        const dataUrl = canvas.toDataURL('image/jpeg');\n        stream.getTracks().forEach(track => track.stop()); // Stop the video stream\n        div.remove();\n        return dataUrl;\n    }\n    ",
            "text/plain": [
              "<IPython.core.display.Javascript object>"
            ]
          },
          "metadata": {},
          "output_type": "display_data"
        },
        {
          "name": "stdout",
          "output_type": "stream",
          "text": [
            "Predicted: LABEL_4\n"
          ]
        },
        {
          "data": {
            "text/html": [
              "<img src=\"data:image/jpeg;base64,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\" />"
            ],
            "text/plain": [
              "<IPython.core.display.HTML object>"
            ]
          },
          "metadata": {},
          "output_type": "display_data"
        },
        {
          "data": {
            "application/javascript": "\n    async function captureFrame() {\n        const div = document.createElement('div');\n        const video = document.createElement('video');\n        video.style.display = 'block';\n        const stream = await navigator.mediaDevices.getUserMedia({video: true});\n        document.body.appendChild(div);\n        div.appendChild(video);\n        video.srcObject = stream;\n        await video.play();\n\n        // Wait for the video to start playing\n        await new Promise(resolve => setTimeout(resolve, 1000));\n\n        const canvas = document.createElement('canvas');\n        canvas.width = video.videoWidth;\n        canvas.height = video.videoHeight;\n        canvas.getContext('2d').drawImage(video, 0, 0);\n        const dataUrl = canvas.toDataURL('image/jpeg');\n        stream.getTracks().forEach(track => track.stop()); // Stop the video stream\n        div.remove();\n        return dataUrl;\n    }\n    ",
            "text/plain": [
              "<IPython.core.display.Javascript object>"
            ]
          },
          "metadata": {},
          "output_type": "display_data"
        },
        {
          "ename": "KeyboardInterrupt",
          "evalue": "",
          "output_type": "error",
          "traceback": [
            "\u001b[0;31m---------------------------------------------------------------------------\u001b[0m",
            "\u001b[0;31mKeyboardInterrupt\u001b[0m                         Traceback (most recent call last)",
            "\u001b[0;32m<ipython-input-20-3bf04e97c0d1>\u001b[0m in \u001b[0;36m<cell line: 85>\u001b[0;34m()\u001b[0m\n\u001b[1;32m     84\u001b[0m \u001b[0;31m# Call the real-time inference function\u001b[0m\u001b[0;34m\u001b[0m\u001b[0;34m\u001b[0m\u001b[0m\n\u001b[1;32m     85\u001b[0m \u001b[0;32mwhile\u001b[0m \u001b[0;32mTrue\u001b[0m\u001b[0;34m:\u001b[0m\u001b[0;34m\u001b[0m\u001b[0;34m\u001b[0m\u001b[0m\n\u001b[0;32m---> 86\u001b[0;31m   \u001b[0mreal_time_inference\u001b[0m\u001b[0;34m(\u001b[0m\u001b[0;34m)\u001b[0m\u001b[0;34m\u001b[0m\u001b[0;34m\u001b[0m\u001b[0m\n\u001b[0m",
            "\u001b[0;32m<ipython-input-20-3bf04e97c0d1>\u001b[0m in \u001b[0;36mreal_time_inference\u001b[0;34m()\u001b[0m\n\u001b[1;32m     59\u001b[0m \u001b[0;34m\u001b[0m\u001b[0m\n\u001b[1;32m     60\u001b[0m         \u001b[0;31m# Make prediction\u001b[0m\u001b[0;34m\u001b[0m\u001b[0;34m\u001b[0m\u001b[0m\n\u001b[0;32m---> 61\u001b[0;31m         \u001b[0moutputs\u001b[0m \u001b[0;34m=\u001b[0m \u001b[0mmodel\u001b[0m\u001b[0;34m(\u001b[0m\u001b[0;34m**\u001b[0m\u001b[0minputs\u001b[0m\u001b[0;34m)\u001b[0m\u001b[0;34m\u001b[0m\u001b[0;34m\u001b[0m\u001b[0m\n\u001b[0m\u001b[1;32m     62\u001b[0m         \u001b[0mlogits\u001b[0m \u001b[0;34m=\u001b[0m \u001b[0moutputs\u001b[0m\u001b[0;34m.\u001b[0m\u001b[0mlogits\u001b[0m\u001b[0;34m\u001b[0m\u001b[0;34m\u001b[0m\u001b[0m\n\u001b[1;32m     63\u001b[0m         \u001b[0mpredicted_class_idx\u001b[0m \u001b[0;34m=\u001b[0m \u001b[0mlogits\u001b[0m\u001b[0;34m.\u001b[0m\u001b[0margmax\u001b[0m\u001b[0;34m(\u001b[0m\u001b[0;34m-\u001b[0m\u001b[0;36m1\u001b[0m\u001b[0;34m)\u001b[0m\u001b[0;34m.\u001b[0m\u001b[0mitem\u001b[0m\u001b[0;34m(\u001b[0m\u001b[0;34m)\u001b[0m\u001b[0;34m\u001b[0m\u001b[0;34m\u001b[0m\u001b[0m\n",
            "\u001b[0;32m/usr/local/lib/python3.10/dist-packages/torch/nn/modules/module.py\u001b[0m in \u001b[0;36m_wrapped_call_impl\u001b[0;34m(self, *args, **kwargs)\u001b[0m\n\u001b[1;32m   1509\u001b[0m             \u001b[0;32mreturn\u001b[0m \u001b[0mself\u001b[0m\u001b[0;34m.\u001b[0m\u001b[0m_compiled_call_impl\u001b[0m\u001b[0;34m(\u001b[0m\u001b[0;34m*\u001b[0m\u001b[0margs\u001b[0m\u001b[0;34m,\u001b[0m \u001b[0;34m**\u001b[0m\u001b[0mkwargs\u001b[0m\u001b[0;34m)\u001b[0m  \u001b[0;31m# type: ignore[misc]\u001b[0m\u001b[0;34m\u001b[0m\u001b[0;34m\u001b[0m\u001b[0m\n\u001b[1;32m   1510\u001b[0m         \u001b[0;32melse\u001b[0m\u001b[0;34m:\u001b[0m\u001b[0;34m\u001b[0m\u001b[0;34m\u001b[0m\u001b[0m\n\u001b[0;32m-> 1511\u001b[0;31m             \u001b[0;32mreturn\u001b[0m \u001b[0mself\u001b[0m\u001b[0;34m.\u001b[0m\u001b[0m_call_impl\u001b[0m\u001b[0;34m(\u001b[0m\u001b[0;34m*\u001b[0m\u001b[0margs\u001b[0m\u001b[0;34m,\u001b[0m \u001b[0;34m**\u001b[0m\u001b[0mkwargs\u001b[0m\u001b[0;34m)\u001b[0m\u001b[0;34m\u001b[0m\u001b[0;34m\u001b[0m\u001b[0m\n\u001b[0m\u001b[1;32m   1512\u001b[0m \u001b[0;34m\u001b[0m\u001b[0m\n\u001b[1;32m   1513\u001b[0m     \u001b[0;32mdef\u001b[0m \u001b[0m_call_impl\u001b[0m\u001b[0;34m(\u001b[0m\u001b[0mself\u001b[0m\u001b[0;34m,\u001b[0m \u001b[0;34m*\u001b[0m\u001b[0margs\u001b[0m\u001b[0;34m,\u001b[0m \u001b[0;34m**\u001b[0m\u001b[0mkwargs\u001b[0m\u001b[0;34m)\u001b[0m\u001b[0;34m:\u001b[0m\u001b[0;34m\u001b[0m\u001b[0;34m\u001b[0m\u001b[0m\n",
            "\u001b[0;32m/usr/local/lib/python3.10/dist-packages/torch/nn/modules/module.py\u001b[0m in \u001b[0;36m_call_impl\u001b[0;34m(self, *args, **kwargs)\u001b[0m\n\u001b[1;32m   1518\u001b[0m                 \u001b[0;32mor\u001b[0m \u001b[0m_global_backward_pre_hooks\u001b[0m \u001b[0;32mor\u001b[0m \u001b[0m_global_backward_hooks\u001b[0m\u001b[0;34m\u001b[0m\u001b[0;34m\u001b[0m\u001b[0m\n\u001b[1;32m   1519\u001b[0m                 or _global_forward_hooks or _global_forward_pre_hooks):\n\u001b[0;32m-> 1520\u001b[0;31m             \u001b[0;32mreturn\u001b[0m \u001b[0mforward_call\u001b[0m\u001b[0;34m(\u001b[0m\u001b[0;34m*\u001b[0m\u001b[0margs\u001b[0m\u001b[0;34m,\u001b[0m \u001b[0;34m**\u001b[0m\u001b[0mkwargs\u001b[0m\u001b[0;34m)\u001b[0m\u001b[0;34m\u001b[0m\u001b[0;34m\u001b[0m\u001b[0m\n\u001b[0m\u001b[1;32m   1521\u001b[0m \u001b[0;34m\u001b[0m\u001b[0m\n\u001b[1;32m   1522\u001b[0m         \u001b[0;32mtry\u001b[0m\u001b[0;34m:\u001b[0m\u001b[0;34m\u001b[0m\u001b[0;34m\u001b[0m\u001b[0m\n",
            "\u001b[0;32m/usr/local/lib/python3.10/dist-packages/transformers/models/vit/modeling_vit.py\u001b[0m in \u001b[0;36mforward\u001b[0;34m(self, pixel_values, head_mask, labels, output_attentions, output_hidden_states, interpolate_pos_encoding, return_dict)\u001b[0m\n\u001b[1;32m    733\u001b[0m         \u001b[0mreturn_dict\u001b[0m \u001b[0;34m=\u001b[0m \u001b[0mreturn_dict\u001b[0m \u001b[0;32mif\u001b[0m \u001b[0mreturn_dict\u001b[0m \u001b[0;32mis\u001b[0m \u001b[0;32mnot\u001b[0m \u001b[0;32mNone\u001b[0m \u001b[0;32melse\u001b[0m \u001b[0mself\u001b[0m\u001b[0;34m.\u001b[0m\u001b[0mconfig\u001b[0m\u001b[0;34m.\u001b[0m\u001b[0muse_return_dict\u001b[0m\u001b[0;34m\u001b[0m\u001b[0;34m\u001b[0m\u001b[0m\n\u001b[1;32m    734\u001b[0m \u001b[0;34m\u001b[0m\u001b[0m\n\u001b[0;32m--> 735\u001b[0;31m         outputs = self.vit(\n\u001b[0m\u001b[1;32m    736\u001b[0m             \u001b[0mpixel_values\u001b[0m\u001b[0;34m,\u001b[0m\u001b[0;34m\u001b[0m\u001b[0;34m\u001b[0m\u001b[0m\n\u001b[1;32m    737\u001b[0m             \u001b[0mhead_mask\u001b[0m\u001b[0;34m=\u001b[0m\u001b[0mhead_mask\u001b[0m\u001b[0;34m,\u001b[0m\u001b[0;34m\u001b[0m\u001b[0;34m\u001b[0m\u001b[0m\n",
            "\u001b[0;32m/usr/local/lib/python3.10/dist-packages/torch/nn/modules/module.py\u001b[0m in \u001b[0;36m_wrapped_call_impl\u001b[0;34m(self, *args, **kwargs)\u001b[0m\n\u001b[1;32m   1509\u001b[0m             \u001b[0;32mreturn\u001b[0m \u001b[0mself\u001b[0m\u001b[0;34m.\u001b[0m\u001b[0m_compiled_call_impl\u001b[0m\u001b[0;34m(\u001b[0m\u001b[0;34m*\u001b[0m\u001b[0margs\u001b[0m\u001b[0;34m,\u001b[0m \u001b[0;34m**\u001b[0m\u001b[0mkwargs\u001b[0m\u001b[0;34m)\u001b[0m  \u001b[0;31m# type: ignore[misc]\u001b[0m\u001b[0;34m\u001b[0m\u001b[0;34m\u001b[0m\u001b[0m\n\u001b[1;32m   1510\u001b[0m         \u001b[0;32melse\u001b[0m\u001b[0;34m:\u001b[0m\u001b[0;34m\u001b[0m\u001b[0;34m\u001b[0m\u001b[0m\n\u001b[0;32m-> 1511\u001b[0;31m             \u001b[0;32mreturn\u001b[0m \u001b[0mself\u001b[0m\u001b[0;34m.\u001b[0m\u001b[0m_call_impl\u001b[0m\u001b[0;34m(\u001b[0m\u001b[0;34m*\u001b[0m\u001b[0margs\u001b[0m\u001b[0;34m,\u001b[0m \u001b[0;34m**\u001b[0m\u001b[0mkwargs\u001b[0m\u001b[0;34m)\u001b[0m\u001b[0;34m\u001b[0m\u001b[0;34m\u001b[0m\u001b[0m\n\u001b[0m\u001b[1;32m   1512\u001b[0m \u001b[0;34m\u001b[0m\u001b[0m\n\u001b[1;32m   1513\u001b[0m     \u001b[0;32mdef\u001b[0m \u001b[0m_call_impl\u001b[0m\u001b[0;34m(\u001b[0m\u001b[0mself\u001b[0m\u001b[0;34m,\u001b[0m \u001b[0;34m*\u001b[0m\u001b[0margs\u001b[0m\u001b[0;34m,\u001b[0m \u001b[0;34m**\u001b[0m\u001b[0mkwargs\u001b[0m\u001b[0;34m)\u001b[0m\u001b[0;34m:\u001b[0m\u001b[0;34m\u001b[0m\u001b[0;34m\u001b[0m\u001b[0m\n",
            "\u001b[0;32m/usr/local/lib/python3.10/dist-packages/torch/nn/modules/module.py\u001b[0m in \u001b[0;36m_call_impl\u001b[0;34m(self, *args, **kwargs)\u001b[0m\n\u001b[1;32m   1518\u001b[0m                 \u001b[0;32mor\u001b[0m \u001b[0m_global_backward_pre_hooks\u001b[0m \u001b[0;32mor\u001b[0m \u001b[0m_global_backward_hooks\u001b[0m\u001b[0;34m\u001b[0m\u001b[0;34m\u001b[0m\u001b[0m\n\u001b[1;32m   1519\u001b[0m                 or _global_forward_hooks or _global_forward_pre_hooks):\n\u001b[0;32m-> 1520\u001b[0;31m             \u001b[0;32mreturn\u001b[0m \u001b[0mforward_call\u001b[0m\u001b[0;34m(\u001b[0m\u001b[0;34m*\u001b[0m\u001b[0margs\u001b[0m\u001b[0;34m,\u001b[0m \u001b[0;34m**\u001b[0m\u001b[0mkwargs\u001b[0m\u001b[0;34m)\u001b[0m\u001b[0;34m\u001b[0m\u001b[0;34m\u001b[0m\u001b[0m\n\u001b[0m\u001b[1;32m   1521\u001b[0m \u001b[0;34m\u001b[0m\u001b[0m\n\u001b[1;32m   1522\u001b[0m         \u001b[0;32mtry\u001b[0m\u001b[0;34m:\u001b[0m\u001b[0;34m\u001b[0m\u001b[0;34m\u001b[0m\u001b[0m\n",
            "\u001b[0;32m/usr/local/lib/python3.10/dist-packages/transformers/models/vit/modeling_vit.py\u001b[0m in \u001b[0;36mforward\u001b[0;34m(self, pixel_values, bool_masked_pos, head_mask, output_attentions, output_hidden_states, interpolate_pos_encoding, return_dict)\u001b[0m\n\u001b[1;32m    549\u001b[0m         )\n\u001b[1;32m    550\u001b[0m \u001b[0;34m\u001b[0m\u001b[0m\n\u001b[0;32m--> 551\u001b[0;31m         encoder_outputs = self.encoder(\n\u001b[0m\u001b[1;32m    552\u001b[0m             \u001b[0membedding_output\u001b[0m\u001b[0;34m,\u001b[0m\u001b[0;34m\u001b[0m\u001b[0;34m\u001b[0m\u001b[0m\n\u001b[1;32m    553\u001b[0m             \u001b[0mhead_mask\u001b[0m\u001b[0;34m=\u001b[0m\u001b[0mhead_mask\u001b[0m\u001b[0;34m,\u001b[0m\u001b[0;34m\u001b[0m\u001b[0;34m\u001b[0m\u001b[0m\n",
            "\u001b[0;32m/usr/local/lib/python3.10/dist-packages/torch/nn/modules/module.py\u001b[0m in \u001b[0;36m_wrapped_call_impl\u001b[0;34m(self, *args, **kwargs)\u001b[0m\n\u001b[1;32m   1509\u001b[0m             \u001b[0;32mreturn\u001b[0m \u001b[0mself\u001b[0m\u001b[0;34m.\u001b[0m\u001b[0m_compiled_call_impl\u001b[0m\u001b[0;34m(\u001b[0m\u001b[0;34m*\u001b[0m\u001b[0margs\u001b[0m\u001b[0;34m,\u001b[0m \u001b[0;34m**\u001b[0m\u001b[0mkwargs\u001b[0m\u001b[0;34m)\u001b[0m  \u001b[0;31m# type: ignore[misc]\u001b[0m\u001b[0;34m\u001b[0m\u001b[0;34m\u001b[0m\u001b[0m\n\u001b[1;32m   1510\u001b[0m         \u001b[0;32melse\u001b[0m\u001b[0;34m:\u001b[0m\u001b[0;34m\u001b[0m\u001b[0;34m\u001b[0m\u001b[0m\n\u001b[0;32m-> 1511\u001b[0;31m             \u001b[0;32mreturn\u001b[0m \u001b[0mself\u001b[0m\u001b[0;34m.\u001b[0m\u001b[0m_call_impl\u001b[0m\u001b[0;34m(\u001b[0m\u001b[0;34m*\u001b[0m\u001b[0margs\u001b[0m\u001b[0;34m,\u001b[0m \u001b[0;34m**\u001b[0m\u001b[0mkwargs\u001b[0m\u001b[0;34m)\u001b[0m\u001b[0;34m\u001b[0m\u001b[0;34m\u001b[0m\u001b[0m\n\u001b[0m\u001b[1;32m   1512\u001b[0m \u001b[0;34m\u001b[0m\u001b[0m\n\u001b[1;32m   1513\u001b[0m     \u001b[0;32mdef\u001b[0m \u001b[0m_call_impl\u001b[0m\u001b[0;34m(\u001b[0m\u001b[0mself\u001b[0m\u001b[0;34m,\u001b[0m \u001b[0;34m*\u001b[0m\u001b[0margs\u001b[0m\u001b[0;34m,\u001b[0m \u001b[0;34m**\u001b[0m\u001b[0mkwargs\u001b[0m\u001b[0;34m)\u001b[0m\u001b[0;34m:\u001b[0m\u001b[0;34m\u001b[0m\u001b[0;34m\u001b[0m\u001b[0m\n",
            "\u001b[0;32m/usr/local/lib/python3.10/dist-packages/torch/nn/modules/module.py\u001b[0m in \u001b[0;36m_call_impl\u001b[0;34m(self, *args, **kwargs)\u001b[0m\n\u001b[1;32m   1518\u001b[0m                 \u001b[0;32mor\u001b[0m \u001b[0m_global_backward_pre_hooks\u001b[0m \u001b[0;32mor\u001b[0m \u001b[0m_global_backward_hooks\u001b[0m\u001b[0;34m\u001b[0m\u001b[0;34m\u001b[0m\u001b[0m\n\u001b[1;32m   1519\u001b[0m                 or _global_forward_hooks or _global_forward_pre_hooks):\n\u001b[0;32m-> 1520\u001b[0;31m             \u001b[0;32mreturn\u001b[0m \u001b[0mforward_call\u001b[0m\u001b[0;34m(\u001b[0m\u001b[0;34m*\u001b[0m\u001b[0margs\u001b[0m\u001b[0;34m,\u001b[0m \u001b[0;34m**\u001b[0m\u001b[0mkwargs\u001b[0m\u001b[0;34m)\u001b[0m\u001b[0;34m\u001b[0m\u001b[0;34m\u001b[0m\u001b[0m\n\u001b[0m\u001b[1;32m   1521\u001b[0m \u001b[0;34m\u001b[0m\u001b[0m\n\u001b[1;32m   1522\u001b[0m         \u001b[0;32mtry\u001b[0m\u001b[0;34m:\u001b[0m\u001b[0;34m\u001b[0m\u001b[0;34m\u001b[0m\u001b[0m\n",
            "\u001b[0;32m/usr/local/lib/python3.10/dist-packages/transformers/models/vit/modeling_vit.py\u001b[0m in \u001b[0;36mforward\u001b[0;34m(self, hidden_states, head_mask, output_attentions, output_hidden_states, return_dict)\u001b[0m\n\u001b[1;32m    398\u001b[0m                 )\n\u001b[1;32m    399\u001b[0m             \u001b[0;32melse\u001b[0m\u001b[0;34m:\u001b[0m\u001b[0;34m\u001b[0m\u001b[0;34m\u001b[0m\u001b[0m\n\u001b[0;32m--> 400\u001b[0;31m                 \u001b[0mlayer_outputs\u001b[0m \u001b[0;34m=\u001b[0m \u001b[0mlayer_module\u001b[0m\u001b[0;34m(\u001b[0m\u001b[0mhidden_states\u001b[0m\u001b[0;34m,\u001b[0m \u001b[0mlayer_head_mask\u001b[0m\u001b[0;34m,\u001b[0m \u001b[0moutput_attentions\u001b[0m\u001b[0;34m)\u001b[0m\u001b[0;34m\u001b[0m\u001b[0;34m\u001b[0m\u001b[0m\n\u001b[0m\u001b[1;32m    401\u001b[0m \u001b[0;34m\u001b[0m\u001b[0m\n\u001b[1;32m    402\u001b[0m             \u001b[0mhidden_states\u001b[0m \u001b[0;34m=\u001b[0m \u001b[0mlayer_outputs\u001b[0m\u001b[0;34m[\u001b[0m\u001b[0;36m0\u001b[0m\u001b[0;34m]\u001b[0m\u001b[0;34m\u001b[0m\u001b[0;34m\u001b[0m\u001b[0m\n",
            "\u001b[0;32m/usr/local/lib/python3.10/dist-packages/torch/nn/modules/module.py\u001b[0m in \u001b[0;36m_wrapped_call_impl\u001b[0;34m(self, *args, **kwargs)\u001b[0m\n\u001b[1;32m   1509\u001b[0m             \u001b[0;32mreturn\u001b[0m \u001b[0mself\u001b[0m\u001b[0;34m.\u001b[0m\u001b[0m_compiled_call_impl\u001b[0m\u001b[0;34m(\u001b[0m\u001b[0;34m*\u001b[0m\u001b[0margs\u001b[0m\u001b[0;34m,\u001b[0m \u001b[0;34m**\u001b[0m\u001b[0mkwargs\u001b[0m\u001b[0;34m)\u001b[0m  \u001b[0;31m# type: ignore[misc]\u001b[0m\u001b[0;34m\u001b[0m\u001b[0;34m\u001b[0m\u001b[0m\n\u001b[1;32m   1510\u001b[0m         \u001b[0;32melse\u001b[0m\u001b[0;34m:\u001b[0m\u001b[0;34m\u001b[0m\u001b[0;34m\u001b[0m\u001b[0m\n\u001b[0;32m-> 1511\u001b[0;31m             \u001b[0;32mreturn\u001b[0m \u001b[0mself\u001b[0m\u001b[0;34m.\u001b[0m\u001b[0m_call_impl\u001b[0m\u001b[0;34m(\u001b[0m\u001b[0;34m*\u001b[0m\u001b[0margs\u001b[0m\u001b[0;34m,\u001b[0m \u001b[0;34m**\u001b[0m\u001b[0mkwargs\u001b[0m\u001b[0;34m)\u001b[0m\u001b[0;34m\u001b[0m\u001b[0;34m\u001b[0m\u001b[0m\n\u001b[0m\u001b[1;32m   1512\u001b[0m \u001b[0;34m\u001b[0m\u001b[0m\n\u001b[1;32m   1513\u001b[0m     \u001b[0;32mdef\u001b[0m \u001b[0m_call_impl\u001b[0m\u001b[0;34m(\u001b[0m\u001b[0mself\u001b[0m\u001b[0;34m,\u001b[0m \u001b[0;34m*\u001b[0m\u001b[0margs\u001b[0m\u001b[0;34m,\u001b[0m \u001b[0;34m**\u001b[0m\u001b[0mkwargs\u001b[0m\u001b[0;34m)\u001b[0m\u001b[0;34m:\u001b[0m\u001b[0;34m\u001b[0m\u001b[0;34m\u001b[0m\u001b[0m\n",
            "\u001b[0;32m/usr/local/lib/python3.10/dist-packages/torch/nn/modules/module.py\u001b[0m in \u001b[0;36m_call_impl\u001b[0;34m(self, *args, **kwargs)\u001b[0m\n\u001b[1;32m   1518\u001b[0m                 \u001b[0;32mor\u001b[0m \u001b[0m_global_backward_pre_hooks\u001b[0m \u001b[0;32mor\u001b[0m \u001b[0m_global_backward_hooks\u001b[0m\u001b[0;34m\u001b[0m\u001b[0;34m\u001b[0m\u001b[0m\n\u001b[1;32m   1519\u001b[0m                 or _global_forward_hooks or _global_forward_pre_hooks):\n\u001b[0;32m-> 1520\u001b[0;31m             \u001b[0;32mreturn\u001b[0m \u001b[0mforward_call\u001b[0m\u001b[0;34m(\u001b[0m\u001b[0;34m*\u001b[0m\u001b[0margs\u001b[0m\u001b[0;34m,\u001b[0m \u001b[0;34m**\u001b[0m\u001b[0mkwargs\u001b[0m\u001b[0;34m)\u001b[0m\u001b[0;34m\u001b[0m\u001b[0;34m\u001b[0m\u001b[0m\n\u001b[0m\u001b[1;32m   1521\u001b[0m \u001b[0;34m\u001b[0m\u001b[0m\n\u001b[1;32m   1522\u001b[0m         \u001b[0;32mtry\u001b[0m\u001b[0;34m:\u001b[0m\u001b[0;34m\u001b[0m\u001b[0;34m\u001b[0m\u001b[0m\n",
            "\u001b[0;32m/usr/local/lib/python3.10/dist-packages/transformers/models/vit/modeling_vit.py\u001b[0m in \u001b[0;36mforward\u001b[0;34m(self, hidden_states, head_mask, output_attentions)\u001b[0m\n\u001b[1;32m    353\u001b[0m \u001b[0;34m\u001b[0m\u001b[0m\n\u001b[1;32m    354\u001b[0m         \u001b[0;31m# second residual connection is done here\u001b[0m\u001b[0;34m\u001b[0m\u001b[0;34m\u001b[0m\u001b[0m\n\u001b[0;32m--> 355\u001b[0;31m         \u001b[0mlayer_output\u001b[0m \u001b[0;34m=\u001b[0m \u001b[0mself\u001b[0m\u001b[0;34m.\u001b[0m\u001b[0moutput\u001b[0m\u001b[0;34m(\u001b[0m\u001b[0mlayer_output\u001b[0m\u001b[0;34m,\u001b[0m \u001b[0mhidden_states\u001b[0m\u001b[0;34m)\u001b[0m\u001b[0;34m\u001b[0m\u001b[0;34m\u001b[0m\u001b[0m\n\u001b[0m\u001b[1;32m    356\u001b[0m \u001b[0;34m\u001b[0m\u001b[0m\n\u001b[1;32m    357\u001b[0m         \u001b[0moutputs\u001b[0m \u001b[0;34m=\u001b[0m \u001b[0;34m(\u001b[0m\u001b[0mlayer_output\u001b[0m\u001b[0;34m,\u001b[0m\u001b[0;34m)\u001b[0m \u001b[0;34m+\u001b[0m \u001b[0moutputs\u001b[0m\u001b[0;34m\u001b[0m\u001b[0;34m\u001b[0m\u001b[0m\n",
            "\u001b[0;32m/usr/local/lib/python3.10/dist-packages/torch/nn/modules/module.py\u001b[0m in \u001b[0;36m_wrapped_call_impl\u001b[0;34m(self, *args, **kwargs)\u001b[0m\n\u001b[1;32m   1509\u001b[0m             \u001b[0;32mreturn\u001b[0m \u001b[0mself\u001b[0m\u001b[0;34m.\u001b[0m\u001b[0m_compiled_call_impl\u001b[0m\u001b[0;34m(\u001b[0m\u001b[0;34m*\u001b[0m\u001b[0margs\u001b[0m\u001b[0;34m,\u001b[0m \u001b[0;34m**\u001b[0m\u001b[0mkwargs\u001b[0m\u001b[0;34m)\u001b[0m  \u001b[0;31m# type: ignore[misc]\u001b[0m\u001b[0;34m\u001b[0m\u001b[0;34m\u001b[0m\u001b[0m\n\u001b[1;32m   1510\u001b[0m         \u001b[0;32melse\u001b[0m\u001b[0;34m:\u001b[0m\u001b[0;34m\u001b[0m\u001b[0;34m\u001b[0m\u001b[0m\n\u001b[0;32m-> 1511\u001b[0;31m             \u001b[0;32mreturn\u001b[0m \u001b[0mself\u001b[0m\u001b[0;34m.\u001b[0m\u001b[0m_call_impl\u001b[0m\u001b[0;34m(\u001b[0m\u001b[0;34m*\u001b[0m\u001b[0margs\u001b[0m\u001b[0;34m,\u001b[0m \u001b[0;34m**\u001b[0m\u001b[0mkwargs\u001b[0m\u001b[0;34m)\u001b[0m\u001b[0;34m\u001b[0m\u001b[0;34m\u001b[0m\u001b[0m\n\u001b[0m\u001b[1;32m   1512\u001b[0m \u001b[0;34m\u001b[0m\u001b[0m\n\u001b[1;32m   1513\u001b[0m     \u001b[0;32mdef\u001b[0m \u001b[0m_call_impl\u001b[0m\u001b[0;34m(\u001b[0m\u001b[0mself\u001b[0m\u001b[0;34m,\u001b[0m \u001b[0;34m*\u001b[0m\u001b[0margs\u001b[0m\u001b[0;34m,\u001b[0m \u001b[0;34m**\u001b[0m\u001b[0mkwargs\u001b[0m\u001b[0;34m)\u001b[0m\u001b[0;34m:\u001b[0m\u001b[0;34m\u001b[0m\u001b[0;34m\u001b[0m\u001b[0m\n",
            "\u001b[0;32m/usr/local/lib/python3.10/dist-packages/torch/nn/modules/module.py\u001b[0m in \u001b[0;36m_call_impl\u001b[0;34m(self, *args, **kwargs)\u001b[0m\n\u001b[1;32m   1518\u001b[0m                 \u001b[0;32mor\u001b[0m \u001b[0m_global_backward_pre_hooks\u001b[0m \u001b[0;32mor\u001b[0m \u001b[0m_global_backward_hooks\u001b[0m\u001b[0;34m\u001b[0m\u001b[0;34m\u001b[0m\u001b[0m\n\u001b[1;32m   1519\u001b[0m                 or _global_forward_hooks or _global_forward_pre_hooks):\n\u001b[0;32m-> 1520\u001b[0;31m             \u001b[0;32mreturn\u001b[0m \u001b[0mforward_call\u001b[0m\u001b[0;34m(\u001b[0m\u001b[0;34m*\u001b[0m\u001b[0margs\u001b[0m\u001b[0;34m,\u001b[0m \u001b[0;34m**\u001b[0m\u001b[0mkwargs\u001b[0m\u001b[0;34m)\u001b[0m\u001b[0;34m\u001b[0m\u001b[0;34m\u001b[0m\u001b[0m\n\u001b[0m\u001b[1;32m   1521\u001b[0m \u001b[0;34m\u001b[0m\u001b[0m\n\u001b[1;32m   1522\u001b[0m         \u001b[0;32mtry\u001b[0m\u001b[0;34m:\u001b[0m\u001b[0;34m\u001b[0m\u001b[0;34m\u001b[0m\u001b[0m\n",
            "\u001b[0;32m/usr/local/lib/python3.10/dist-packages/transformers/models/vit/modeling_vit.py\u001b[0m in \u001b[0;36mforward\u001b[0;34m(self, hidden_states, input_tensor)\u001b[0m\n\u001b[1;32m    315\u001b[0m \u001b[0;34m\u001b[0m\u001b[0m\n\u001b[1;32m    316\u001b[0m     \u001b[0;32mdef\u001b[0m \u001b[0mforward\u001b[0m\u001b[0;34m(\u001b[0m\u001b[0mself\u001b[0m\u001b[0;34m,\u001b[0m \u001b[0mhidden_states\u001b[0m\u001b[0;34m,\u001b[0m \u001b[0minput_tensor\u001b[0m\u001b[0;34m)\u001b[0m\u001b[0;34m:\u001b[0m\u001b[0;34m\u001b[0m\u001b[0;34m\u001b[0m\u001b[0m\n\u001b[0;32m--> 317\u001b[0;31m         \u001b[0mhidden_states\u001b[0m \u001b[0;34m=\u001b[0m \u001b[0mself\u001b[0m\u001b[0;34m.\u001b[0m\u001b[0mdense\u001b[0m\u001b[0;34m(\u001b[0m\u001b[0mhidden_states\u001b[0m\u001b[0;34m)\u001b[0m\u001b[0;34m\u001b[0m\u001b[0;34m\u001b[0m\u001b[0m\n\u001b[0m\u001b[1;32m    318\u001b[0m         \u001b[0mhidden_states\u001b[0m \u001b[0;34m=\u001b[0m \u001b[0mself\u001b[0m\u001b[0;34m.\u001b[0m\u001b[0mdropout\u001b[0m\u001b[0;34m(\u001b[0m\u001b[0mhidden_states\u001b[0m\u001b[0;34m)\u001b[0m\u001b[0;34m\u001b[0m\u001b[0;34m\u001b[0m\u001b[0m\n\u001b[1;32m    319\u001b[0m \u001b[0;34m\u001b[0m\u001b[0m\n",
            "\u001b[0;32m/usr/local/lib/python3.10/dist-packages/torch/nn/modules/module.py\u001b[0m in \u001b[0;36m_wrapped_call_impl\u001b[0;34m(self, *args, **kwargs)\u001b[0m\n\u001b[1;32m   1509\u001b[0m             \u001b[0;32mreturn\u001b[0m \u001b[0mself\u001b[0m\u001b[0;34m.\u001b[0m\u001b[0m_compiled_call_impl\u001b[0m\u001b[0;34m(\u001b[0m\u001b[0;34m*\u001b[0m\u001b[0margs\u001b[0m\u001b[0;34m,\u001b[0m \u001b[0;34m**\u001b[0m\u001b[0mkwargs\u001b[0m\u001b[0;34m)\u001b[0m  \u001b[0;31m# type: ignore[misc]\u001b[0m\u001b[0;34m\u001b[0m\u001b[0;34m\u001b[0m\u001b[0m\n\u001b[1;32m   1510\u001b[0m         \u001b[0;32melse\u001b[0m\u001b[0;34m:\u001b[0m\u001b[0;34m\u001b[0m\u001b[0;34m\u001b[0m\u001b[0m\n\u001b[0;32m-> 1511\u001b[0;31m             \u001b[0;32mreturn\u001b[0m \u001b[0mself\u001b[0m\u001b[0;34m.\u001b[0m\u001b[0m_call_impl\u001b[0m\u001b[0;34m(\u001b[0m\u001b[0;34m*\u001b[0m\u001b[0margs\u001b[0m\u001b[0;34m,\u001b[0m \u001b[0;34m**\u001b[0m\u001b[0mkwargs\u001b[0m\u001b[0;34m)\u001b[0m\u001b[0;34m\u001b[0m\u001b[0;34m\u001b[0m\u001b[0m\n\u001b[0m\u001b[1;32m   1512\u001b[0m \u001b[0;34m\u001b[0m\u001b[0m\n\u001b[1;32m   1513\u001b[0m     \u001b[0;32mdef\u001b[0m \u001b[0m_call_impl\u001b[0m\u001b[0;34m(\u001b[0m\u001b[0mself\u001b[0m\u001b[0;34m,\u001b[0m \u001b[0;34m*\u001b[0m\u001b[0margs\u001b[0m\u001b[0;34m,\u001b[0m \u001b[0;34m**\u001b[0m\u001b[0mkwargs\u001b[0m\u001b[0;34m)\u001b[0m\u001b[0;34m:\u001b[0m\u001b[0;34m\u001b[0m\u001b[0;34m\u001b[0m\u001b[0m\n",
            "\u001b[0;32m/usr/local/lib/python3.10/dist-packages/torch/nn/modules/module.py\u001b[0m in \u001b[0;36m_call_impl\u001b[0;34m(self, *args, **kwargs)\u001b[0m\n\u001b[1;32m   1518\u001b[0m                 \u001b[0;32mor\u001b[0m \u001b[0m_global_backward_pre_hooks\u001b[0m \u001b[0;32mor\u001b[0m \u001b[0m_global_backward_hooks\u001b[0m\u001b[0;34m\u001b[0m\u001b[0;34m\u001b[0m\u001b[0m\n\u001b[1;32m   1519\u001b[0m                 or _global_forward_hooks or _global_forward_pre_hooks):\n\u001b[0;32m-> 1520\u001b[0;31m             \u001b[0;32mreturn\u001b[0m \u001b[0mforward_call\u001b[0m\u001b[0;34m(\u001b[0m\u001b[0;34m*\u001b[0m\u001b[0margs\u001b[0m\u001b[0;34m,\u001b[0m \u001b[0;34m**\u001b[0m\u001b[0mkwargs\u001b[0m\u001b[0;34m)\u001b[0m\u001b[0;34m\u001b[0m\u001b[0;34m\u001b[0m\u001b[0m\n\u001b[0m\u001b[1;32m   1521\u001b[0m \u001b[0;34m\u001b[0m\u001b[0m\n\u001b[1;32m   1522\u001b[0m         \u001b[0;32mtry\u001b[0m\u001b[0;34m:\u001b[0m\u001b[0;34m\u001b[0m\u001b[0;34m\u001b[0m\u001b[0m\n",
            "\u001b[0;32m/usr/local/lib/python3.10/dist-packages/torch/nn/modules/linear.py\u001b[0m in \u001b[0;36mforward\u001b[0;34m(self, input)\u001b[0m\n\u001b[1;32m    114\u001b[0m \u001b[0;34m\u001b[0m\u001b[0m\n\u001b[1;32m    115\u001b[0m     \u001b[0;32mdef\u001b[0m \u001b[0mforward\u001b[0m\u001b[0;34m(\u001b[0m\u001b[0mself\u001b[0m\u001b[0;34m,\u001b[0m \u001b[0minput\u001b[0m\u001b[0;34m:\u001b[0m \u001b[0mTensor\u001b[0m\u001b[0;34m)\u001b[0m \u001b[0;34m->\u001b[0m \u001b[0mTensor\u001b[0m\u001b[0;34m:\u001b[0m\u001b[0;34m\u001b[0m\u001b[0;34m\u001b[0m\u001b[0m\n\u001b[0;32m--> 116\u001b[0;31m         \u001b[0;32mreturn\u001b[0m \u001b[0mF\u001b[0m\u001b[0;34m.\u001b[0m\u001b[0mlinear\u001b[0m\u001b[0;34m(\u001b[0m\u001b[0minput\u001b[0m\u001b[0;34m,\u001b[0m \u001b[0mself\u001b[0m\u001b[0;34m.\u001b[0m\u001b[0mweight\u001b[0m\u001b[0;34m,\u001b[0m \u001b[0mself\u001b[0m\u001b[0;34m.\u001b[0m\u001b[0mbias\u001b[0m\u001b[0;34m)\u001b[0m\u001b[0;34m\u001b[0m\u001b[0;34m\u001b[0m\u001b[0m\n\u001b[0m\u001b[1;32m    117\u001b[0m \u001b[0;34m\u001b[0m\u001b[0m\n\u001b[1;32m    118\u001b[0m     \u001b[0;32mdef\u001b[0m \u001b[0mextra_repr\u001b[0m\u001b[0;34m(\u001b[0m\u001b[0mself\u001b[0m\u001b[0;34m)\u001b[0m \u001b[0;34m->\u001b[0m \u001b[0mstr\u001b[0m\u001b[0;34m:\u001b[0m\u001b[0;34m\u001b[0m\u001b[0;34m\u001b[0m\u001b[0m\n",
            "\u001b[0;31mKeyboardInterrupt\u001b[0m: "
          ]
        }
      ],
      "source": [
        "from IPython.display import display, Javascript\n",
        "from base64 import b64decode\n",
        "from PIL import Image\n",
        "import numpy as np\n",
        "import cv2\n",
        "from io import BytesIO\n",
        "\n",
        "def real_time_inference():\n",
        "    js = Javascript('''\n",
        "    async function captureFrame() {\n",
        "        const div = document.createElement('div');\n",
        "        const video = document.createElement('video');\n",
        "        video.style.display = 'block';\n",
        "        const stream = await navigator.mediaDevices.getUserMedia({video: true});\n",
        "        document.body.appendChild(div);\n",
        "        div.appendChild(video);\n",
        "        video.srcObject = stream;\n",
        "        await video.play();\n",
        "\n",
        "        // Wait for the video to start playing\n",
        "        await new Promise(resolve => setTimeout(resolve, 1000));\n",
        "\n",
        "        const canvas = document.createElement('canvas');\n",
        "        canvas.width = video.videoWidth;\n",
        "        canvas.height = video.videoHeight;\n",
        "        canvas.getContext('2d').drawImage(video, 0, 0);\n",
        "        const dataUrl = canvas.toDataURL('image/jpeg');\n",
        "        stream.getTracks().forEach(track => track.stop()); // Stop the video stream\n",
        "        div.remove();\n",
        "        return dataUrl;\n",
        "    }\n",
        "    ''')\n",
        "    display(js)\n",
        "    data_url = eval_js('captureFrame()')\n",
        "    image_data = b64decode(data_url.split(',')[1])\n",
        "    image = Image.open(BytesIO(image_data))\n",
        "    frame = np.array(image)  # Convert PIL Image to numpy array for OpenCV processing\n",
        "\n",
        "    # Load pre-trained Haar Cascade for face detection\n",
        "    face_cascade = cv2.CascadeClassifier(cv2.data.haarcascades + 'haarcascade_frontalface_default.xml')\n",
        "\n",
        "    # Load the finetuned model and feature extractor\n",
        "    model = ViTForImageClassification.from_pretrained('./fer_2013/checkpoint-1000')\n",
        "    feature_extractor = ViTFeatureExtractor.from_pretrained('./fer_2013/checkpoint-1000')\n",
        "\n",
        "    # Convert the image to grayscale\n",
        "    gray = cv2.cvtColor(frame, cv2.COLOR_BGR2GRAY)\n",
        "\n",
        "    # Detect faces in the image\n",
        "    faces = face_cascade.detectMultiScale(gray, scaleFactor=1.1, minNeighbors=5, minSize=(30, 30))\n",
        "\n",
        "    # Process each face found\n",
        "    for (x, y, w, h) in faces:\n",
        "        # Extract face ROI (Region of Interest)\n",
        "        face_roi = frame[y:y+h, x:x+w]\n",
        "\n",
        "        # Preprocess the face ROI as per your model requirements\n",
        "        inputs = feature_extractor(images=face_roi, return_tensors=\"pt\")\n",
        "\n",
        "        # Make prediction\n",
        "        outputs = model(**inputs)\n",
        "        logits = outputs.logits\n",
        "        predicted_class_idx = logits.argmax(-1).item()\n",
        "\n",
        "        # Get the class label\n",
        "        class_label = model.config.id2label[predicted_class_idx]\n",
        "\n",
        "        # Display the prediction\n",
        "        display_str = f'Predicted: {class_label}'\n",
        "        print(display_str)\n",
        "\n",
        "        # Draw a rectangle around the face\n",
        "        cv2.rectangle(frame, (x, y), (x+w, y+h), (255, 0, 0), 2)\n",
        "\n",
        "    # Convert numpy array back to PIL Image for displaying in Colab\n",
        "    frame = Image.fromarray(frame)\n",
        "    img_byte_arr = BytesIO()\n",
        "    frame.save(img_byte_arr, format='JPEG')\n",
        "    encoded_img = b64encode(img_byte_arr.getvalue())\n",
        "    img_str = encoded_img.decode('utf-8')\n",
        "    img_html = f'<img src=\"data:image/jpeg;base64,{img_str}\" />'\n",
        "    display(HTML(img_html))\n",
        "\n",
        "# Call the real-time inference function\n",
        "while True:\n",
        "  real_time_inference()\n",
        "\n",
        "\n",
        "\n",
        "def extract_eye_region(frame, face_coordinates):\n",
        "    \"\"\"\n",
        "    Extracts the eye region from the given frame based on the face coordinates.\n",
        "    \n",
        "    Args:\n",
        "    frame (numpy array): The image from which to extract the eye region.\n",
        "    face_coordinates (tuple): A tuple (x, y, w, h) representing the bounding box of the face.\n",
        "    \n",
        "    Returns:\n",
        "    numpy array: The cropped image of the eye region.\n",
        "    \"\"\"\n",
        "    x, y, w, h = face_coordinates\n",
        "    # Typically, the eyes are located in the upper part of the face.\n",
        "    # We can approximate the region of the eyes as the top 1/3 of the face.\n",
        "    eye_region_height = h // 3\n",
        "    eye_region = frame[y:y + eye_region_height, x:x + w]\n",
        "    return eye_region\n"
      ]
    },
    {
      "cell_type": "markdown",
      "metadata": {
        "id": "ne4qRgDhCiVA"
      },
      "source": [
        "## References\n",
        "\n",
        "[Article](https://pinecone.io/learn/vision-transformers/)\n",
        "\n",
        "[1] Dosovitskiy et al., [An Image is Worth 16x16 Words: Transformers for Image Recognition at Scale](https://arxiv.org/abs/2010.11929), 2021, CV.\n",
        "\n",
        "[2] Vaswani et al., [Attention Is All You Need](https://arxiv.org/abs/1706.03762), 2017.\n",
        "\n",
        "[3] Saeed M., [A Gentle Introduction to Positional Encoding in Transformer Models, Part 1](https://machinelearningmastery.com/a-gentle-introduction-to-positional-encoding-in-transformer-models-part-1/), 2022, Attention, Machine Learning Mastery."
      ]
    }
  ],
  "metadata": {
    "accelerator": "GPU",
    "colab": {
      "gpuType": "T4",
      "provenance": []
    },
    "kernelspec": {
      "display_name": "Python 3",
      "name": "python3"
    },
    "language_info": {
      "codemirror_mode": {
        "name": "ipython",
        "version": 3
      },
      "file_extension": ".py",
      "mimetype": "text/x-python",
      "name": "python",
      "nbconvert_exporter": "python",
      "pygments_lexer": "ipython3",
      "version": "3.9.18"
    },
    "orig_nbformat": 4,
    "vscode": {
      "interpreter": {
        "hash": "5fe10bf018ef3e697f9035d60bf60847932a12bface18908407fd371fe880db9"
      }
    },
    "widgets": {
      "application/vnd.jupyter.widget-state+json": {
        "032acdf603dd49819a60ddcada59d786": {
          "model_module": "@jupyter-widgets/controls",
          "model_module_version": "1.5.0",
          "model_name": "HTMLModel",
          "state": {
            "_dom_classes": [],
            "_model_module": "@jupyter-widgets/controls",
            "_model_module_version": "1.5.0",
            "_model_name": "HTMLModel",
            "_view_count": null,
            "_view_module": "@jupyter-widgets/controls",
            "_view_module_version": "1.5.0",
            "_view_name": "HTMLView",
            "description": "",
            "description_tooltip": null,
            "layout": "IPY_MODEL_2541cde4c9e34aca9f410d55a1739109",
            "placeholder": "​",
            "style": "IPY_MODEL_9fc9d19d08f242f5849d292936ffbb00",
            "value": "Skipping the first batches: 100%"
          }
        },
        "168103042f7944269c51001c9cd66435": {
          "model_module": "@jupyter-widgets/controls",
          "model_module_version": "1.5.0",
          "model_name": "DescriptionStyleModel",
          "state": {
            "_model_module": "@jupyter-widgets/controls",
            "_model_module_version": "1.5.0",
            "_model_name": "DescriptionStyleModel",
            "_view_count": null,
            "_view_module": "@jupyter-widgets/base",
            "_view_module_version": "1.2.0",
            "_view_name": "StyleView",
            "description_width": ""
          }
        },
        "170d4e56839b4889b358cc83d43c1eab": {
          "model_module": "@jupyter-widgets/controls",
          "model_module_version": "1.5.0",
          "model_name": "HTMLModel",
          "state": {
            "_dom_classes": [],
            "_model_module": "@jupyter-widgets/controls",
            "_model_module_version": "1.5.0",
            "_model_name": "HTMLModel",
            "_view_count": null,
            "_view_module": "@jupyter-widgets/controls",
            "_view_module_version": "1.5.0",
            "_view_name": "HTMLView",
            "description": "",
            "description_tooltip": null,
            "layout": "IPY_MODEL_2de6ea2d3a5e49899b16899b136bd2c2",
            "placeholder": "​",
            "style": "IPY_MODEL_2676fcd8b45349fca96ae8a02a68f028",
            "value": " 160/160 [00:00&lt;00:00, 5.76kB/s]"
          }
        },
        "20e59f9213d24f01baca7584ed43c11a": {
          "model_module": "@jupyter-widgets/controls",
          "model_module_version": "1.5.0",
          "model_name": "FloatProgressModel",
          "state": {
            "_dom_classes": [],
            "_model_module": "@jupyter-widgets/controls",
            "_model_module_version": "1.5.0",
            "_model_name": "FloatProgressModel",
            "_view_count": null,
            "_view_module": "@jupyter-widgets/controls",
            "_view_module_version": "1.5.0",
            "_view_name": "ProgressView",
            "bar_style": "success",
            "description": "",
            "description_tooltip": null,
            "layout": "IPY_MODEL_7ccff54d88074fb6a0bef5f26e58d5be",
            "max": 160,
            "min": 0,
            "orientation": "horizontal",
            "style": "IPY_MODEL_22ad880b4bff4a68826574962a9961a2",
            "value": 160
          }
        },
        "22ad880b4bff4a68826574962a9961a2": {
          "model_module": "@jupyter-widgets/controls",
          "model_module_version": "1.5.0",
          "model_name": "ProgressStyleModel",
          "state": {
            "_model_module": "@jupyter-widgets/controls",
            "_model_module_version": "1.5.0",
            "_model_name": "ProgressStyleModel",
            "_view_count": null,
            "_view_module": "@jupyter-widgets/base",
            "_view_module_version": "1.2.0",
            "_view_name": "StyleView",
            "bar_color": null,
            "description_width": ""
          }
        },
        "2541cde4c9e34aca9f410d55a1739109": {
          "model_module": "@jupyter-widgets/base",
          "model_module_version": "1.2.0",
          "model_name": "LayoutModel",
          "state": {
            "_model_module": "@jupyter-widgets/base",
            "_model_module_version": "1.2.0",
            "_model_name": "LayoutModel",
            "_view_count": null,
            "_view_module": "@jupyter-widgets/base",
            "_view_module_version": "1.2.0",
            "_view_name": "LayoutView",
            "align_content": null,
            "align_items": null,
            "align_self": null,
            "border": null,
            "bottom": null,
            "display": null,
            "flex": null,
            "flex_flow": null,
            "grid_area": null,
            "grid_auto_columns": null,
            "grid_auto_flow": null,
            "grid_auto_rows": null,
            "grid_column": null,
            "grid_gap": null,
            "grid_row": null,
            "grid_template_areas": null,
            "grid_template_columns": null,
            "grid_template_rows": null,
            "height": null,
            "justify_content": null,
            "justify_items": null,
            "left": null,
            "margin": null,
            "max_height": null,
            "max_width": null,
            "min_height": null,
            "min_width": null,
            "object_fit": null,
            "object_position": null,
            "order": null,
            "overflow": null,
            "overflow_x": null,
            "overflow_y": null,
            "padding": null,
            "right": null,
            "top": null,
            "visibility": null,
            "width": null
          }
        },
        "2676fcd8b45349fca96ae8a02a68f028": {
          "model_module": "@jupyter-widgets/controls",
          "model_module_version": "1.5.0",
          "model_name": "DescriptionStyleModel",
          "state": {
            "_model_module": "@jupyter-widgets/controls",
            "_model_module_version": "1.5.0",
            "_model_name": "DescriptionStyleModel",
            "_view_count": null,
            "_view_module": "@jupyter-widgets/base",
            "_view_module_version": "1.2.0",
            "_view_name": "StyleView",
            "description_width": ""
          }
        },
        "2de6ea2d3a5e49899b16899b136bd2c2": {
          "model_module": "@jupyter-widgets/base",
          "model_module_version": "1.2.0",
          "model_name": "LayoutModel",
          "state": {
            "_model_module": "@jupyter-widgets/base",
            "_model_module_version": "1.2.0",
            "_model_name": "LayoutModel",
            "_view_count": null,
            "_view_module": "@jupyter-widgets/base",
            "_view_module_version": "1.2.0",
            "_view_name": "LayoutView",
            "align_content": null,
            "align_items": null,
            "align_self": null,
            "border": null,
            "bottom": null,
            "display": null,
            "flex": null,
            "flex_flow": null,
            "grid_area": null,
            "grid_auto_columns": null,
            "grid_auto_flow": null,
            "grid_auto_rows": null,
            "grid_column": null,
            "grid_gap": null,
            "grid_row": null,
            "grid_template_areas": null,
            "grid_template_columns": null,
            "grid_template_rows": null,
            "height": null,
            "justify_content": null,
            "justify_items": null,
            "left": null,
            "margin": null,
            "max_height": null,
            "max_width": null,
            "min_height": null,
            "min_width": null,
            "object_fit": null,
            "object_position": null,
            "order": null,
            "overflow": null,
            "overflow_x": null,
            "overflow_y": null,
            "padding": null,
            "right": null,
            "top": null,
            "visibility": null,
            "width": null
          }
        },
        "3fa34e2fd5634597a58abf6f5d48d6ad": {
          "model_module": "@jupyter-widgets/base",
          "model_module_version": "1.2.0",
          "model_name": "LayoutModel",
          "state": {
            "_model_module": "@jupyter-widgets/base",
            "_model_module_version": "1.2.0",
            "_model_name": "LayoutModel",
            "_view_count": null,
            "_view_module": "@jupyter-widgets/base",
            "_view_module_version": "1.2.0",
            "_view_name": "LayoutView",
            "align_content": null,
            "align_items": null,
            "align_self": null,
            "border": null,
            "bottom": null,
            "display": null,
            "flex": null,
            "flex_flow": null,
            "grid_area": null,
            "grid_auto_columns": null,
            "grid_auto_flow": null,
            "grid_auto_rows": null,
            "grid_column": null,
            "grid_gap": null,
            "grid_row": null,
            "grid_template_areas": null,
            "grid_template_columns": null,
            "grid_template_rows": null,
            "height": null,
            "justify_content": null,
            "justify_items": null,
            "left": null,
            "margin": null,
            "max_height": null,
            "max_width": null,
            "min_height": null,
            "min_width": null,
            "object_fit": null,
            "object_position": null,
            "order": null,
            "overflow": null,
            "overflow_x": null,
            "overflow_y": null,
            "padding": null,
            "right": null,
            "top": null,
            "visibility": null,
            "width": null
          }
        },
        "4caa9f327a0848ce9609fb6bf7591896": {
          "model_module": "@jupyter-widgets/base",
          "model_module_version": "1.2.0",
          "model_name": "LayoutModel",
          "state": {
            "_model_module": "@jupyter-widgets/base",
            "_model_module_version": "1.2.0",
            "_model_name": "LayoutModel",
            "_view_count": null,
            "_view_module": "@jupyter-widgets/base",
            "_view_module_version": "1.2.0",
            "_view_name": "LayoutView",
            "align_content": null,
            "align_items": null,
            "align_self": null,
            "border": null,
            "bottom": null,
            "display": null,
            "flex": null,
            "flex_flow": null,
            "grid_area": null,
            "grid_auto_columns": null,
            "grid_auto_flow": null,
            "grid_auto_rows": null,
            "grid_column": null,
            "grid_gap": null,
            "grid_row": null,
            "grid_template_areas": null,
            "grid_template_columns": null,
            "grid_template_rows": null,
            "height": null,
            "justify_content": null,
            "justify_items": null,
            "left": null,
            "margin": null,
            "max_height": null,
            "max_width": null,
            "min_height": null,
            "min_width": null,
            "object_fit": null,
            "object_position": null,
            "order": null,
            "overflow": null,
            "overflow_x": null,
            "overflow_y": null,
            "padding": null,
            "right": null,
            "top": null,
            "visibility": null,
            "width": null
          }
        },
        "7ccff54d88074fb6a0bef5f26e58d5be": {
          "model_module": "@jupyter-widgets/base",
          "model_module_version": "1.2.0",
          "model_name": "LayoutModel",
          "state": {
            "_model_module": "@jupyter-widgets/base",
            "_model_module_version": "1.2.0",
            "_model_name": "LayoutModel",
            "_view_count": null,
            "_view_module": "@jupyter-widgets/base",
            "_view_module_version": "1.2.0",
            "_view_name": "LayoutView",
            "align_content": null,
            "align_items": null,
            "align_self": null,
            "border": null,
            "bottom": null,
            "display": null,
            "flex": null,
            "flex_flow": null,
            "grid_area": null,
            "grid_auto_columns": null,
            "grid_auto_flow": null,
            "grid_auto_rows": null,
            "grid_column": null,
            "grid_gap": null,
            "grid_row": null,
            "grid_template_areas": null,
            "grid_template_columns": null,
            "grid_template_rows": null,
            "height": null,
            "justify_content": null,
            "justify_items": null,
            "left": null,
            "margin": null,
            "max_height": null,
            "max_width": null,
            "min_height": null,
            "min_width": null,
            "object_fit": null,
            "object_position": null,
            "order": null,
            "overflow": null,
            "overflow_x": null,
            "overflow_y": null,
            "padding": null,
            "right": null,
            "top": null,
            "visibility": null,
            "width": null
          }
        },
        "8275709b98974391932d2281000bd1c4": {
          "model_module": "@jupyter-widgets/controls",
          "model_module_version": "1.5.0",
          "model_name": "FloatProgressModel",
          "state": {
            "_dom_classes": [],
            "_model_module": "@jupyter-widgets/controls",
            "_model_module_version": "1.5.0",
            "_model_name": "FloatProgressModel",
            "_view_count": null,
            "_view_module": "@jupyter-widgets/controls",
            "_view_module_version": "1.5.0",
            "_view_name": "ProgressView",
            "bar_style": "success",
            "description": "",
            "description_tooltip": null,
            "layout": "IPY_MODEL_8c9a53a9a4184935a0340854c4ec21e0",
            "max": 600,
            "min": 0,
            "orientation": "horizontal",
            "style": "IPY_MODEL_e87c6c1524fd4653a7d63f71423f3872",
            "value": 600
          }
        },
        "852d418927fe4333a9202b1681686a60": {
          "model_module": "@jupyter-widgets/base",
          "model_module_version": "1.2.0",
          "model_name": "LayoutModel",
          "state": {
            "_model_module": "@jupyter-widgets/base",
            "_model_module_version": "1.2.0",
            "_model_name": "LayoutModel",
            "_view_count": null,
            "_view_module": "@jupyter-widgets/base",
            "_view_module_version": "1.2.0",
            "_view_name": "LayoutView",
            "align_content": null,
            "align_items": null,
            "align_self": null,
            "border": null,
            "bottom": null,
            "display": null,
            "flex": null,
            "flex_flow": null,
            "grid_area": null,
            "grid_auto_columns": null,
            "grid_auto_flow": null,
            "grid_auto_rows": null,
            "grid_column": null,
            "grid_gap": null,
            "grid_row": null,
            "grid_template_areas": null,
            "grid_template_columns": null,
            "grid_template_rows": null,
            "height": null,
            "justify_content": null,
            "justify_items": null,
            "left": null,
            "margin": null,
            "max_height": null,
            "max_width": null,
            "min_height": null,
            "min_width": null,
            "object_fit": null,
            "object_position": null,
            "order": null,
            "overflow": null,
            "overflow_x": null,
            "overflow_y": null,
            "padding": null,
            "right": null,
            "top": null,
            "visibility": null,
            "width": null
          }
        },
        "8c9a53a9a4184935a0340854c4ec21e0": {
          "model_module": "@jupyter-widgets/base",
          "model_module_version": "1.2.0",
          "model_name": "LayoutModel",
          "state": {
            "_model_module": "@jupyter-widgets/base",
            "_model_module_version": "1.2.0",
            "_model_name": "LayoutModel",
            "_view_count": null,
            "_view_module": "@jupyter-widgets/base",
            "_view_module_version": "1.2.0",
            "_view_name": "LayoutView",
            "align_content": null,
            "align_items": null,
            "align_self": null,
            "border": null,
            "bottom": null,
            "display": null,
            "flex": null,
            "flex_flow": null,
            "grid_area": null,
            "grid_auto_columns": null,
            "grid_auto_flow": null,
            "grid_auto_rows": null,
            "grid_column": null,
            "grid_gap": null,
            "grid_row": null,
            "grid_template_areas": null,
            "grid_template_columns": null,
            "grid_template_rows": null,
            "height": null,
            "justify_content": null,
            "justify_items": null,
            "left": null,
            "margin": null,
            "max_height": null,
            "max_width": null,
            "min_height": null,
            "min_width": null,
            "object_fit": null,
            "object_position": null,
            "order": null,
            "overflow": null,
            "overflow_x": null,
            "overflow_y": null,
            "padding": null,
            "right": null,
            "top": null,
            "visibility": null,
            "width": null
          }
        },
        "9fc9d19d08f242f5849d292936ffbb00": {
          "model_module": "@jupyter-widgets/controls",
          "model_module_version": "1.5.0",
          "model_name": "DescriptionStyleModel",
          "state": {
            "_model_module": "@jupyter-widgets/controls",
            "_model_module_version": "1.5.0",
            "_model_name": "DescriptionStyleModel",
            "_view_count": null,
            "_view_module": "@jupyter-widgets/base",
            "_view_module_version": "1.2.0",
            "_view_name": "StyleView",
            "description_width": ""
          }
        },
        "d013b983d5334dff9a8610a81eee4640": {
          "model_module": "@jupyter-widgets/base",
          "model_module_version": "1.2.0",
          "model_name": "LayoutModel",
          "state": {
            "_model_module": "@jupyter-widgets/base",
            "_model_module_version": "1.2.0",
            "_model_name": "LayoutModel",
            "_view_count": null,
            "_view_module": "@jupyter-widgets/base",
            "_view_module_version": "1.2.0",
            "_view_name": "LayoutView",
            "align_content": null,
            "align_items": null,
            "align_self": null,
            "border": null,
            "bottom": null,
            "display": null,
            "flex": null,
            "flex_flow": null,
            "grid_area": null,
            "grid_auto_columns": null,
            "grid_auto_flow": null,
            "grid_auto_rows": null,
            "grid_column": null,
            "grid_gap": null,
            "grid_row": null,
            "grid_template_areas": null,
            "grid_template_columns": null,
            "grid_template_rows": null,
            "height": null,
            "justify_content": null,
            "justify_items": null,
            "left": null,
            "margin": null,
            "max_height": null,
            "max_width": null,
            "min_height": null,
            "min_width": null,
            "object_fit": null,
            "object_position": null,
            "order": null,
            "overflow": null,
            "overflow_x": null,
            "overflow_y": null,
            "padding": null,
            "right": null,
            "top": null,
            "visibility": null,
            "width": null
          }
        },
        "dd83e176f63448498df3b2c05f4f3763": {
          "model_module": "@jupyter-widgets/controls",
          "model_module_version": "1.5.0",
          "model_name": "HBoxModel",
          "state": {
            "_dom_classes": [],
            "_model_module": "@jupyter-widgets/controls",
            "_model_module_version": "1.5.0",
            "_model_name": "HBoxModel",
            "_view_count": null,
            "_view_module": "@jupyter-widgets/controls",
            "_view_module_version": "1.5.0",
            "_view_name": "HBoxView",
            "box_style": "",
            "children": [
              "IPY_MODEL_032acdf603dd49819a60ddcada59d786",
              "IPY_MODEL_8275709b98974391932d2281000bd1c4",
              "IPY_MODEL_e71ba5b36f8e46fb9e68f542f509c9c4"
            ],
            "layout": "IPY_MODEL_d013b983d5334dff9a8610a81eee4640"
          }
        },
        "e4571aec7cbf4aa2bf634cc62cc19460": {
          "model_module": "@jupyter-widgets/controls",
          "model_module_version": "1.5.0",
          "model_name": "DescriptionStyleModel",
          "state": {
            "_model_module": "@jupyter-widgets/controls",
            "_model_module_version": "1.5.0",
            "_model_name": "DescriptionStyleModel",
            "_view_count": null,
            "_view_module": "@jupyter-widgets/base",
            "_view_module_version": "1.2.0",
            "_view_name": "StyleView",
            "description_width": ""
          }
        },
        "e627650404944cb58ec3b91abeafec2d": {
          "model_module": "@jupyter-widgets/controls",
          "model_module_version": "1.5.0",
          "model_name": "HTMLModel",
          "state": {
            "_dom_classes": [],
            "_model_module": "@jupyter-widgets/controls",
            "_model_module_version": "1.5.0",
            "_model_name": "HTMLModel",
            "_view_count": null,
            "_view_module": "@jupyter-widgets/controls",
            "_view_module_version": "1.5.0",
            "_view_name": "HTMLView",
            "description": "",
            "description_tooltip": null,
            "layout": "IPY_MODEL_4caa9f327a0848ce9609fb6bf7591896",
            "placeholder": "​",
            "style": "IPY_MODEL_e4571aec7cbf4aa2bf634cc62cc19460",
            "value": "Downloading: 100%"
          }
        },
        "e71ba5b36f8e46fb9e68f542f509c9c4": {
          "model_module": "@jupyter-widgets/controls",
          "model_module_version": "1.5.0",
          "model_name": "HTMLModel",
          "state": {
            "_dom_classes": [],
            "_model_module": "@jupyter-widgets/controls",
            "_model_module_version": "1.5.0",
            "_model_name": "HTMLModel",
            "_view_count": null,
            "_view_module": "@jupyter-widgets/controls",
            "_view_module_version": "1.5.0",
            "_view_name": "HTMLView",
            "description": "",
            "description_tooltip": null,
            "layout": "IPY_MODEL_852d418927fe4333a9202b1681686a60",
            "placeholder": "​",
            "style": "IPY_MODEL_168103042f7944269c51001c9cd66435",
            "value": " 600/600 [00:26&lt;00:00, 24.98it/s]"
          }
        },
        "e87c6c1524fd4653a7d63f71423f3872": {
          "model_module": "@jupyter-widgets/controls",
          "model_module_version": "1.5.0",
          "model_name": "ProgressStyleModel",
          "state": {
            "_model_module": "@jupyter-widgets/controls",
            "_model_module_version": "1.5.0",
            "_model_name": "ProgressStyleModel",
            "_view_count": null,
            "_view_module": "@jupyter-widgets/base",
            "_view_module_version": "1.2.0",
            "_view_name": "StyleView",
            "bar_color": null,
            "description_width": ""
          }
        },
        "f73c6bfe83bd42a88ecbe35e12fa6ffc": {
          "model_module": "@jupyter-widgets/controls",
          "model_module_version": "1.5.0",
          "model_name": "HBoxModel",
          "state": {
            "_dom_classes": [],
            "_model_module": "@jupyter-widgets/controls",
            "_model_module_version": "1.5.0",
            "_model_name": "HBoxModel",
            "_view_count": null,
            "_view_module": "@jupyter-widgets/controls",
            "_view_module_version": "1.5.0",
            "_view_name": "HBoxView",
            "box_style": "",
            "children": [
              "IPY_MODEL_e627650404944cb58ec3b91abeafec2d",
              "IPY_MODEL_20e59f9213d24f01baca7584ed43c11a",
              "IPY_MODEL_170d4e56839b4889b358cc83d43c1eab"
            ],
            "layout": "IPY_MODEL_3fa34e2fd5634597a58abf6f5d48d6ad"
          }
        }
      }
    }
  },
  "nbformat": 4,
  "nbformat_minor": 0
}
